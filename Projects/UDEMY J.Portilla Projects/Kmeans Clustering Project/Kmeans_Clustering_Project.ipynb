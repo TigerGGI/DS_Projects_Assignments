{
 "cells": [
  {
   "cell_type": "markdown",
   "metadata": {},
   "source": [
    "___\n",
    "\n",
    "<a href='http://www.pieriandata.com'><img src='../Pierian_Data_Logo.png'/></a>\n",
    "___\n",
    "<center><em>Copyright by Pierian Data Inc.</em></center>\n",
    "<center><em>For more information, visit us at <a href='http://www.pieriandata.com'>www.pieriandata.com</a></em></center>"
   ]
  },
  {
   "cell_type": "markdown",
   "metadata": {},
   "source": [
    "# CIA Country Analysis and Clustering\n",
    "\n",
    "\n",
    "Source: All these data sets are made up of data from the US government. \n",
    "https://www.cia.gov/library/publications/the-world-factbook/docs/faqs.html\n",
    "\n",
    "## Goal: \n",
    "\n",
    "### Gain insights into similarity between countries and regions of the world by experimenting with different cluster amounts. What do these clusters represent? *Note: There is no 100% right answer, make sure to watch the video for thoughts.*\n",
    "\n",
    "----\n",
    "\n",
    "## Imports and Data\n",
    "\n",
    "**TASK: Run the following cells to import libraries and read in data.**"
   ]
  },
  {
   "cell_type": "code",
   "execution_count": 6,
   "metadata": {},
   "outputs": [],
   "source": [
    "import numpy as np\n",
    "import pandas as pd\n",
    "import matplotlib.pyplot as plt\n",
    "import seaborn as sns"
   ]
  },
  {
   "cell_type": "code",
   "execution_count": 7,
   "metadata": {},
   "outputs": [],
   "source": [
    "df = pd.read_csv('CIA_Country_Facts.csv')"
   ]
  },
  {
   "cell_type": "markdown",
   "metadata": {},
   "source": [
    "## Exploratory Data Analysis\n",
    "\n",
    "**TASK: Explore the rows and columns of the data as well as the data types of the columns.**"
   ]
  },
  {
   "cell_type": "code",
   "execution_count": 8,
   "metadata": {},
   "outputs": [
    {
     "data": {
      "text/html": [
       "<div>\n",
       "<style scoped>\n",
       "    .dataframe tbody tr th:only-of-type {\n",
       "        vertical-align: middle;\n",
       "    }\n",
       "\n",
       "    .dataframe tbody tr th {\n",
       "        vertical-align: top;\n",
       "    }\n",
       "\n",
       "    .dataframe thead th {\n",
       "        text-align: right;\n",
       "    }\n",
       "</style>\n",
       "<table border=\"1\" class=\"dataframe\">\n",
       "  <thead>\n",
       "    <tr style=\"text-align: right;\">\n",
       "      <th></th>\n",
       "      <th>Country</th>\n",
       "      <th>Region</th>\n",
       "      <th>Population</th>\n",
       "      <th>Area (sq. mi.)</th>\n",
       "      <th>Pop. Density (per sq. mi.)</th>\n",
       "      <th>Coastline (coast/area ratio)</th>\n",
       "      <th>Net migration</th>\n",
       "      <th>Infant mortality (per 1000 births)</th>\n",
       "      <th>GDP ($ per capita)</th>\n",
       "      <th>Literacy (%)</th>\n",
       "      <th>Phones (per 1000)</th>\n",
       "      <th>Arable (%)</th>\n",
       "      <th>Crops (%)</th>\n",
       "      <th>Other (%)</th>\n",
       "      <th>Climate</th>\n",
       "      <th>Birthrate</th>\n",
       "      <th>Deathrate</th>\n",
       "      <th>Agriculture</th>\n",
       "      <th>Industry</th>\n",
       "      <th>Service</th>\n",
       "    </tr>\n",
       "  </thead>\n",
       "  <tbody>\n",
       "    <tr>\n",
       "      <th>0</th>\n",
       "      <td>Afghanistan</td>\n",
       "      <td>ASIA (EX. NEAR EAST)</td>\n",
       "      <td>31056997</td>\n",
       "      <td>647500</td>\n",
       "      <td>48.0</td>\n",
       "      <td>0.00</td>\n",
       "      <td>23.06</td>\n",
       "      <td>163.07</td>\n",
       "      <td>700.0</td>\n",
       "      <td>36.0</td>\n",
       "      <td>3.2</td>\n",
       "      <td>12.13</td>\n",
       "      <td>0.22</td>\n",
       "      <td>87.65</td>\n",
       "      <td>1.0</td>\n",
       "      <td>46.60</td>\n",
       "      <td>20.34</td>\n",
       "      <td>0.380</td>\n",
       "      <td>0.240</td>\n",
       "      <td>0.380</td>\n",
       "    </tr>\n",
       "    <tr>\n",
       "      <th>1</th>\n",
       "      <td>Albania</td>\n",
       "      <td>EASTERN EUROPE</td>\n",
       "      <td>3581655</td>\n",
       "      <td>28748</td>\n",
       "      <td>124.6</td>\n",
       "      <td>1.26</td>\n",
       "      <td>-4.93</td>\n",
       "      <td>21.52</td>\n",
       "      <td>4500.0</td>\n",
       "      <td>86.5</td>\n",
       "      <td>71.2</td>\n",
       "      <td>21.09</td>\n",
       "      <td>4.42</td>\n",
       "      <td>74.49</td>\n",
       "      <td>3.0</td>\n",
       "      <td>15.11</td>\n",
       "      <td>5.22</td>\n",
       "      <td>0.232</td>\n",
       "      <td>0.188</td>\n",
       "      <td>0.579</td>\n",
       "    </tr>\n",
       "    <tr>\n",
       "      <th>2</th>\n",
       "      <td>Algeria</td>\n",
       "      <td>NORTHERN AFRICA</td>\n",
       "      <td>32930091</td>\n",
       "      <td>2381740</td>\n",
       "      <td>13.8</td>\n",
       "      <td>0.04</td>\n",
       "      <td>-0.39</td>\n",
       "      <td>31.00</td>\n",
       "      <td>6000.0</td>\n",
       "      <td>70.0</td>\n",
       "      <td>78.1</td>\n",
       "      <td>3.22</td>\n",
       "      <td>0.25</td>\n",
       "      <td>96.53</td>\n",
       "      <td>1.0</td>\n",
       "      <td>17.14</td>\n",
       "      <td>4.61</td>\n",
       "      <td>0.101</td>\n",
       "      <td>0.600</td>\n",
       "      <td>0.298</td>\n",
       "    </tr>\n",
       "    <tr>\n",
       "      <th>3</th>\n",
       "      <td>American Samoa</td>\n",
       "      <td>OCEANIA</td>\n",
       "      <td>57794</td>\n",
       "      <td>199</td>\n",
       "      <td>290.4</td>\n",
       "      <td>58.29</td>\n",
       "      <td>-20.71</td>\n",
       "      <td>9.27</td>\n",
       "      <td>8000.0</td>\n",
       "      <td>97.0</td>\n",
       "      <td>259.5</td>\n",
       "      <td>10.00</td>\n",
       "      <td>15.00</td>\n",
       "      <td>75.00</td>\n",
       "      <td>2.0</td>\n",
       "      <td>22.46</td>\n",
       "      <td>3.27</td>\n",
       "      <td>NaN</td>\n",
       "      <td>NaN</td>\n",
       "      <td>NaN</td>\n",
       "    </tr>\n",
       "    <tr>\n",
       "      <th>4</th>\n",
       "      <td>Andorra</td>\n",
       "      <td>WESTERN EUROPE</td>\n",
       "      <td>71201</td>\n",
       "      <td>468</td>\n",
       "      <td>152.1</td>\n",
       "      <td>0.00</td>\n",
       "      <td>6.60</td>\n",
       "      <td>4.05</td>\n",
       "      <td>19000.0</td>\n",
       "      <td>100.0</td>\n",
       "      <td>497.2</td>\n",
       "      <td>2.22</td>\n",
       "      <td>0.00</td>\n",
       "      <td>97.78</td>\n",
       "      <td>3.0</td>\n",
       "      <td>8.71</td>\n",
       "      <td>6.25</td>\n",
       "      <td>NaN</td>\n",
       "      <td>NaN</td>\n",
       "      <td>NaN</td>\n",
       "    </tr>\n",
       "  </tbody>\n",
       "</table>\n",
       "</div>"
      ],
      "text/plain": [
       "          Country                               Region  Population  \\\n",
       "0     Afghanistan        ASIA (EX. NEAR EAST)             31056997   \n",
       "1         Albania  EASTERN EUROPE                          3581655   \n",
       "2         Algeria  NORTHERN AFRICA                        32930091   \n",
       "3  American Samoa  OCEANIA                                   57794   \n",
       "4         Andorra  WESTERN EUROPE                            71201   \n",
       "\n",
       "   Area (sq. mi.)  Pop. Density (per sq. mi.)  Coastline (coast/area ratio)  \\\n",
       "0          647500                        48.0                          0.00   \n",
       "1           28748                       124.6                          1.26   \n",
       "2         2381740                        13.8                          0.04   \n",
       "3             199                       290.4                         58.29   \n",
       "4             468                       152.1                          0.00   \n",
       "\n",
       "   Net migration  Infant mortality (per 1000 births)  GDP ($ per capita)  \\\n",
       "0          23.06                              163.07               700.0   \n",
       "1          -4.93                               21.52              4500.0   \n",
       "2          -0.39                               31.00              6000.0   \n",
       "3         -20.71                                9.27              8000.0   \n",
       "4           6.60                                4.05             19000.0   \n",
       "\n",
       "   Literacy (%)  Phones (per 1000)  Arable (%)  Crops (%)  Other (%)  Climate  \\\n",
       "0          36.0                3.2       12.13       0.22      87.65      1.0   \n",
       "1          86.5               71.2       21.09       4.42      74.49      3.0   \n",
       "2          70.0               78.1        3.22       0.25      96.53      1.0   \n",
       "3          97.0              259.5       10.00      15.00      75.00      2.0   \n",
       "4         100.0              497.2        2.22       0.00      97.78      3.0   \n",
       "\n",
       "   Birthrate  Deathrate  Agriculture  Industry  Service  \n",
       "0      46.60      20.34        0.380     0.240    0.380  \n",
       "1      15.11       5.22        0.232     0.188    0.579  \n",
       "2      17.14       4.61        0.101     0.600    0.298  \n",
       "3      22.46       3.27          NaN       NaN      NaN  \n",
       "4       8.71       6.25          NaN       NaN      NaN  "
      ]
     },
     "execution_count": 8,
     "metadata": {},
     "output_type": "execute_result"
    }
   ],
   "source": [
    "df.head()"
   ]
  },
  {
   "cell_type": "code",
   "execution_count": 9,
   "metadata": {},
   "outputs": [
    {
     "name": "stdout",
     "output_type": "stream",
     "text": [
      "<class 'pandas.core.frame.DataFrame'>\n",
      "RangeIndex: 227 entries, 0 to 226\n",
      "Data columns (total 20 columns):\n",
      " #   Column                              Non-Null Count  Dtype  \n",
      "---  ------                              --------------  -----  \n",
      " 0   Country                             227 non-null    object \n",
      " 1   Region                              227 non-null    object \n",
      " 2   Population                          227 non-null    int64  \n",
      " 3   Area (sq. mi.)                      227 non-null    int64  \n",
      " 4   Pop. Density (per sq. mi.)          227 non-null    float64\n",
      " 5   Coastline (coast/area ratio)        227 non-null    float64\n",
      " 6   Net migration                       224 non-null    float64\n",
      " 7   Infant mortality (per 1000 births)  224 non-null    float64\n",
      " 8   GDP ($ per capita)                  226 non-null    float64\n",
      " 9   Literacy (%)                        209 non-null    float64\n",
      " 10  Phones (per 1000)                   223 non-null    float64\n",
      " 11  Arable (%)                          225 non-null    float64\n",
      " 12  Crops (%)                           225 non-null    float64\n",
      " 13  Other (%)                           225 non-null    float64\n",
      " 14  Climate                             205 non-null    float64\n",
      " 15  Birthrate                           224 non-null    float64\n",
      " 16  Deathrate                           223 non-null    float64\n",
      " 17  Agriculture                         212 non-null    float64\n",
      " 18  Industry                            211 non-null    float64\n",
      " 19  Service                             212 non-null    float64\n",
      "dtypes: float64(16), int64(2), object(2)\n",
      "memory usage: 35.6+ KB\n"
     ]
    }
   ],
   "source": [
    "df.info()"
   ]
  },
  {
   "cell_type": "code",
   "execution_count": 11,
   "metadata": {},
   "outputs": [
    {
     "data": {
      "text/html": [
       "<div>\n",
       "<style scoped>\n",
       "    .dataframe tbody tr th:only-of-type {\n",
       "        vertical-align: middle;\n",
       "    }\n",
       "\n",
       "    .dataframe tbody tr th {\n",
       "        vertical-align: top;\n",
       "    }\n",
       "\n",
       "    .dataframe thead th {\n",
       "        text-align: right;\n",
       "    }\n",
       "</style>\n",
       "<table border=\"1\" class=\"dataframe\">\n",
       "  <thead>\n",
       "    <tr style=\"text-align: right;\">\n",
       "      <th></th>\n",
       "      <th>count</th>\n",
       "      <th>mean</th>\n",
       "      <th>std</th>\n",
       "      <th>min</th>\n",
       "      <th>25%</th>\n",
       "      <th>50%</th>\n",
       "      <th>75%</th>\n",
       "      <th>max</th>\n",
       "    </tr>\n",
       "  </thead>\n",
       "  <tbody>\n",
       "    <tr>\n",
       "      <th>Population</th>\n",
       "      <td>227.0</td>\n",
       "      <td>2.874028e+07</td>\n",
       "      <td>1.178913e+08</td>\n",
       "      <td>7026.000</td>\n",
       "      <td>437624.00000</td>\n",
       "      <td>4786994.000</td>\n",
       "      <td>1.749777e+07</td>\n",
       "      <td>1.313974e+09</td>\n",
       "    </tr>\n",
       "    <tr>\n",
       "      <th>Area (sq. mi.)</th>\n",
       "      <td>227.0</td>\n",
       "      <td>5.982270e+05</td>\n",
       "      <td>1.790282e+06</td>\n",
       "      <td>2.000</td>\n",
       "      <td>4647.50000</td>\n",
       "      <td>86600.000</td>\n",
       "      <td>4.418110e+05</td>\n",
       "      <td>1.707520e+07</td>\n",
       "    </tr>\n",
       "    <tr>\n",
       "      <th>Pop. Density (per sq. mi.)</th>\n",
       "      <td>227.0</td>\n",
       "      <td>3.790471e+02</td>\n",
       "      <td>1.660186e+03</td>\n",
       "      <td>0.000</td>\n",
       "      <td>29.15000</td>\n",
       "      <td>78.800</td>\n",
       "      <td>1.901500e+02</td>\n",
       "      <td>1.627150e+04</td>\n",
       "    </tr>\n",
       "    <tr>\n",
       "      <th>Coastline (coast/area ratio)</th>\n",
       "      <td>227.0</td>\n",
       "      <td>2.116533e+01</td>\n",
       "      <td>7.228686e+01</td>\n",
       "      <td>0.000</td>\n",
       "      <td>0.10000</td>\n",
       "      <td>0.730</td>\n",
       "      <td>1.034500e+01</td>\n",
       "      <td>8.706600e+02</td>\n",
       "    </tr>\n",
       "    <tr>\n",
       "      <th>Net migration</th>\n",
       "      <td>224.0</td>\n",
       "      <td>3.812500e-02</td>\n",
       "      <td>4.889269e+00</td>\n",
       "      <td>-20.990</td>\n",
       "      <td>-0.92750</td>\n",
       "      <td>0.000</td>\n",
       "      <td>9.975000e-01</td>\n",
       "      <td>2.306000e+01</td>\n",
       "    </tr>\n",
       "    <tr>\n",
       "      <th>Infant mortality (per 1000 births)</th>\n",
       "      <td>224.0</td>\n",
       "      <td>3.550696e+01</td>\n",
       "      <td>3.538990e+01</td>\n",
       "      <td>2.290</td>\n",
       "      <td>8.15000</td>\n",
       "      <td>21.000</td>\n",
       "      <td>5.570500e+01</td>\n",
       "      <td>1.911900e+02</td>\n",
       "    </tr>\n",
       "    <tr>\n",
       "      <th>GDP ($ per capita)</th>\n",
       "      <td>226.0</td>\n",
       "      <td>9.689823e+03</td>\n",
       "      <td>1.004914e+04</td>\n",
       "      <td>500.000</td>\n",
       "      <td>1900.00000</td>\n",
       "      <td>5550.000</td>\n",
       "      <td>1.570000e+04</td>\n",
       "      <td>5.510000e+04</td>\n",
       "    </tr>\n",
       "    <tr>\n",
       "      <th>Literacy (%)</th>\n",
       "      <td>209.0</td>\n",
       "      <td>8.283828e+01</td>\n",
       "      <td>1.972217e+01</td>\n",
       "      <td>17.600</td>\n",
       "      <td>70.60000</td>\n",
       "      <td>92.500</td>\n",
       "      <td>9.800000e+01</td>\n",
       "      <td>1.000000e+02</td>\n",
       "    </tr>\n",
       "    <tr>\n",
       "      <th>Phones (per 1000)</th>\n",
       "      <td>223.0</td>\n",
       "      <td>2.360614e+02</td>\n",
       "      <td>2.279918e+02</td>\n",
       "      <td>0.200</td>\n",
       "      <td>37.80000</td>\n",
       "      <td>176.200</td>\n",
       "      <td>3.896500e+02</td>\n",
       "      <td>1.035600e+03</td>\n",
       "    </tr>\n",
       "    <tr>\n",
       "      <th>Arable (%)</th>\n",
       "      <td>225.0</td>\n",
       "      <td>1.379711e+01</td>\n",
       "      <td>1.304040e+01</td>\n",
       "      <td>0.000</td>\n",
       "      <td>3.22000</td>\n",
       "      <td>10.420</td>\n",
       "      <td>2.000000e+01</td>\n",
       "      <td>6.211000e+01</td>\n",
       "    </tr>\n",
       "    <tr>\n",
       "      <th>Crops (%)</th>\n",
       "      <td>225.0</td>\n",
       "      <td>4.564222e+00</td>\n",
       "      <td>8.361470e+00</td>\n",
       "      <td>0.000</td>\n",
       "      <td>0.19000</td>\n",
       "      <td>1.030</td>\n",
       "      <td>4.440000e+00</td>\n",
       "      <td>5.068000e+01</td>\n",
       "    </tr>\n",
       "    <tr>\n",
       "      <th>Other (%)</th>\n",
       "      <td>225.0</td>\n",
       "      <td>8.163831e+01</td>\n",
       "      <td>1.614083e+01</td>\n",
       "      <td>33.330</td>\n",
       "      <td>71.65000</td>\n",
       "      <td>85.700</td>\n",
       "      <td>9.544000e+01</td>\n",
       "      <td>1.000000e+02</td>\n",
       "    </tr>\n",
       "    <tr>\n",
       "      <th>Climate</th>\n",
       "      <td>205.0</td>\n",
       "      <td>2.139024e+00</td>\n",
       "      <td>6.993968e-01</td>\n",
       "      <td>1.000</td>\n",
       "      <td>2.00000</td>\n",
       "      <td>2.000</td>\n",
       "      <td>3.000000e+00</td>\n",
       "      <td>4.000000e+00</td>\n",
       "    </tr>\n",
       "    <tr>\n",
       "      <th>Birthrate</th>\n",
       "      <td>224.0</td>\n",
       "      <td>2.211473e+01</td>\n",
       "      <td>1.117672e+01</td>\n",
       "      <td>7.290</td>\n",
       "      <td>12.67250</td>\n",
       "      <td>18.790</td>\n",
       "      <td>2.982000e+01</td>\n",
       "      <td>5.073000e+01</td>\n",
       "    </tr>\n",
       "    <tr>\n",
       "      <th>Deathrate</th>\n",
       "      <td>223.0</td>\n",
       "      <td>9.241345e+00</td>\n",
       "      <td>4.990026e+00</td>\n",
       "      <td>2.290</td>\n",
       "      <td>5.91000</td>\n",
       "      <td>7.840</td>\n",
       "      <td>1.060500e+01</td>\n",
       "      <td>2.974000e+01</td>\n",
       "    </tr>\n",
       "    <tr>\n",
       "      <th>Agriculture</th>\n",
       "      <td>212.0</td>\n",
       "      <td>1.508443e-01</td>\n",
       "      <td>1.467980e-01</td>\n",
       "      <td>0.000</td>\n",
       "      <td>0.03775</td>\n",
       "      <td>0.099</td>\n",
       "      <td>2.210000e-01</td>\n",
       "      <td>7.690000e-01</td>\n",
       "    </tr>\n",
       "    <tr>\n",
       "      <th>Industry</th>\n",
       "      <td>211.0</td>\n",
       "      <td>2.827109e-01</td>\n",
       "      <td>1.382722e-01</td>\n",
       "      <td>0.020</td>\n",
       "      <td>0.19300</td>\n",
       "      <td>0.272</td>\n",
       "      <td>3.410000e-01</td>\n",
       "      <td>9.060000e-01</td>\n",
       "    </tr>\n",
       "    <tr>\n",
       "      <th>Service</th>\n",
       "      <td>212.0</td>\n",
       "      <td>5.652830e-01</td>\n",
       "      <td>1.658410e-01</td>\n",
       "      <td>0.062</td>\n",
       "      <td>0.42925</td>\n",
       "      <td>0.571</td>\n",
       "      <td>6.785000e-01</td>\n",
       "      <td>9.540000e-01</td>\n",
       "    </tr>\n",
       "  </tbody>\n",
       "</table>\n",
       "</div>"
      ],
      "text/plain": [
       "                                    count          mean           std  \\\n",
       "Population                          227.0  2.874028e+07  1.178913e+08   \n",
       "Area (sq. mi.)                      227.0  5.982270e+05  1.790282e+06   \n",
       "Pop. Density (per sq. mi.)          227.0  3.790471e+02  1.660186e+03   \n",
       "Coastline (coast/area ratio)        227.0  2.116533e+01  7.228686e+01   \n",
       "Net migration                       224.0  3.812500e-02  4.889269e+00   \n",
       "Infant mortality (per 1000 births)  224.0  3.550696e+01  3.538990e+01   \n",
       "GDP ($ per capita)                  226.0  9.689823e+03  1.004914e+04   \n",
       "Literacy (%)                        209.0  8.283828e+01  1.972217e+01   \n",
       "Phones (per 1000)                   223.0  2.360614e+02  2.279918e+02   \n",
       "Arable (%)                          225.0  1.379711e+01  1.304040e+01   \n",
       "Crops (%)                           225.0  4.564222e+00  8.361470e+00   \n",
       "Other (%)                           225.0  8.163831e+01  1.614083e+01   \n",
       "Climate                             205.0  2.139024e+00  6.993968e-01   \n",
       "Birthrate                           224.0  2.211473e+01  1.117672e+01   \n",
       "Deathrate                           223.0  9.241345e+00  4.990026e+00   \n",
       "Agriculture                         212.0  1.508443e-01  1.467980e-01   \n",
       "Industry                            211.0  2.827109e-01  1.382722e-01   \n",
       "Service                             212.0  5.652830e-01  1.658410e-01   \n",
       "\n",
       "                                         min           25%          50%  \\\n",
       "Population                          7026.000  437624.00000  4786994.000   \n",
       "Area (sq. mi.)                         2.000    4647.50000    86600.000   \n",
       "Pop. Density (per sq. mi.)             0.000      29.15000       78.800   \n",
       "Coastline (coast/area ratio)           0.000       0.10000        0.730   \n",
       "Net migration                        -20.990      -0.92750        0.000   \n",
       "Infant mortality (per 1000 births)     2.290       8.15000       21.000   \n",
       "GDP ($ per capita)                   500.000    1900.00000     5550.000   \n",
       "Literacy (%)                          17.600      70.60000       92.500   \n",
       "Phones (per 1000)                      0.200      37.80000      176.200   \n",
       "Arable (%)                             0.000       3.22000       10.420   \n",
       "Crops (%)                              0.000       0.19000        1.030   \n",
       "Other (%)                             33.330      71.65000       85.700   \n",
       "Climate                                1.000       2.00000        2.000   \n",
       "Birthrate                              7.290      12.67250       18.790   \n",
       "Deathrate                              2.290       5.91000        7.840   \n",
       "Agriculture                            0.000       0.03775        0.099   \n",
       "Industry                               0.020       0.19300        0.272   \n",
       "Service                                0.062       0.42925        0.571   \n",
       "\n",
       "                                             75%           max  \n",
       "Population                          1.749777e+07  1.313974e+09  \n",
       "Area (sq. mi.)                      4.418110e+05  1.707520e+07  \n",
       "Pop. Density (per sq. mi.)          1.901500e+02  1.627150e+04  \n",
       "Coastline (coast/area ratio)        1.034500e+01  8.706600e+02  \n",
       "Net migration                       9.975000e-01  2.306000e+01  \n",
       "Infant mortality (per 1000 births)  5.570500e+01  1.911900e+02  \n",
       "GDP ($ per capita)                  1.570000e+04  5.510000e+04  \n",
       "Literacy (%)                        9.800000e+01  1.000000e+02  \n",
       "Phones (per 1000)                   3.896500e+02  1.035600e+03  \n",
       "Arable (%)                          2.000000e+01  6.211000e+01  \n",
       "Crops (%)                           4.440000e+00  5.068000e+01  \n",
       "Other (%)                           9.544000e+01  1.000000e+02  \n",
       "Climate                             3.000000e+00  4.000000e+00  \n",
       "Birthrate                           2.982000e+01  5.073000e+01  \n",
       "Deathrate                           1.060500e+01  2.974000e+01  \n",
       "Agriculture                         2.210000e-01  7.690000e-01  \n",
       "Industry                            3.410000e-01  9.060000e-01  \n",
       "Service                             6.785000e-01  9.540000e-01  "
      ]
     },
     "execution_count": 11,
     "metadata": {},
     "output_type": "execute_result"
    }
   ],
   "source": [
    "df.describe().T"
   ]
  },
  {
   "cell_type": "markdown",
   "metadata": {},
   "source": [
    "# Exploratory Data Analysis\n",
    "\n",
    "Let's create some visualizations. Please feel free to expand on these with your own analysis and charts!"
   ]
  },
  {
   "cell_type": "markdown",
   "metadata": {},
   "source": [
    "**TASK: Create a histogram of the Population column.**"
   ]
  },
  {
   "cell_type": "code",
   "execution_count": 12,
   "metadata": {},
   "outputs": [
    {
     "data": {
      "image/png": "[encoded data removed]",
      "text/plain": [
       "<Figure size 432x288 with 1 Axes>"
      ]
     },
     "metadata": {
      "needs_background": "light"
     },
     "output_type": "display_data"
    }
   ],
   "source": [
    "sns.histplot(data=df, x='Population');"
   ]
  },
  {
   "cell_type": "markdown",
   "metadata": {},
   "source": [
    "**TASK: You should notice the histogram is skewed due to a few large countries, reset the X axis to only show countries with less than 0.5 billion people**"
   ]
  },
  {
   "cell_type": "code",
   "execution_count": 13,
   "metadata": {},
   "outputs": [
    {
     "data": {
      "image/png": "[encoded data removed]",
      "text/plain": [
       "<Figure size 432x288 with 1 Axes>"
      ]
     },
     "metadata": {
      "needs_background": "light"
     },
     "output_type": "display_data"
    }
   ],
   "source": [
    "sns.histplot(data=df[df['Population']<500000000], x='Population');"
   ]
  },
  {
   "cell_type": "markdown",
   "metadata": {},
   "source": [
    "**TASK: Now let's explore GDP and Regions. Create a bar chart showing the mean GDP per Capita per region (recall the black bar represents std).**"
   ]
  },
  {
   "cell_type": "code",
   "execution_count": 27,
   "metadata": {},
   "outputs": [
    {
     "data": {
      "image/png": "[encoded data removed]",
      "text/plain": [
       "<Figure size 1000x600 with 1 Axes>"
      ]
     },
     "metadata": {
      "needs_background": "light"
     },
     "output_type": "display_data"
    }
   ],
   "source": [
    "plt.figure(figsize=(10,6), dpi=100)\n",
    "sns.barplot(data=df, y='GDP ($ per capita)', x='Region', estimator=np.mean)\n",
    "plt.xticks(rotation=90);"
   ]
  },
  {
   "cell_type": "markdown",
   "metadata": {},
   "source": [
    "**TASK: Create a scatterplot showing the relationship between Phones per 1000 people and the GDP per Capita. Color these points by Region.**"
   ]
  },
  {
   "cell_type": "code",
   "execution_count": 28,
   "metadata": {},
   "outputs": [
    {
     "data": {
      "image/png": "[encoded data removed]",
      "text/plain": [
       "<Figure size 1000x600 with 1 Axes>"
      ]
     },
     "metadata": {
      "needs_background": "light"
     },
     "output_type": "display_data"
    }
   ],
   "source": [
    "plt.figure(figsize=(10,6), dpi=100)\n",
    "sns.scatterplot(data=df, x='GDP ($ per capita)', y='Phones (per 1000)', hue='Region')\n",
    "plt.legend(loc=(1.05, 0.5));"
   ]
  },
  {
   "cell_type": "markdown",
   "metadata": {},
   "source": [
    "**TASK: Create a scatterplot showing the relationship between GDP per Capita and Literacy (color the points by Region). What conclusions do you draw from this plot?**"
   ]
  },
  {
   "cell_type": "code",
   "execution_count": 29,
   "metadata": {},
   "outputs": [
    {
     "data": {
      "image/png": "[encoded data removed]",
      "text/plain": [
       "<Figure size 1000x600 with 1 Axes>"
      ]
     },
     "metadata": {
      "needs_background": "light"
     },
     "output_type": "display_data"
    }
   ],
   "source": [
    "plt.figure(figsize=(10,6), dpi=100)\n",
    "sns.scatterplot(data=df, x='GDP ($ per capita)', y='Literacy (%)', hue='Region')\n",
    "plt.legend(loc=(1.05, 0.5));"
   ]
  },
  {
   "cell_type": "markdown",
   "metadata": {},
   "source": [
    "**TASK: Create a Heatmap of the Correlation between columns in the DataFrame.**"
   ]
  },
  {
   "cell_type": "code",
   "execution_count": 31,
   "metadata": {},
   "outputs": [
    {
     "data": {
      "image/png": "[encoded data removed]",
      "text/plain": [
       "<Figure size 1000x600 with 2 Axes>"
      ]
     },
     "metadata": {
      "needs_background": "light"
     },
     "output_type": "display_data"
    }
   ],
   "source": [
    "plt.figure(figsize=(10,6), dpi=100)\n",
    "sns.heatmap(df.corr());"
   ]
  },
  {
   "cell_type": "markdown",
   "metadata": {},
   "source": [
    "**TASK: Seaborn can auto perform hierarchal clustering through the clustermap() function. Create a clustermap of the correlations between each column with this function.**"
   ]
  },
  {
   "cell_type": "code",
   "execution_count": 36,
   "metadata": {},
   "outputs": [
    {
     "data": {
      "image/png": "[encoded data removed]",
      "text/plain": [
       "<Figure size 720x720 with 4 Axes>"
      ]
     },
     "metadata": {
      "needs_background": "light"
     },
     "output_type": "display_data"
    }
   ],
   "source": [
    "sns.clustermap(df.corr());"
   ]
  },
  {
   "cell_type": "markdown",
   "metadata": {},
   "source": [
    "-----"
   ]
  },
  {
   "cell_type": "markdown",
   "metadata": {},
   "source": [
    "## Data Preparation and Model Discovery\n",
    "\n",
    "Let's now prepare our data for Kmeans Clustering!\n",
    "\n",
    "### Missing Data\n",
    "\n",
    "**TASK: Report the number of missing elements per column.**"
   ]
  },
  {
   "cell_type": "code",
   "execution_count": 38,
   "metadata": {},
   "outputs": [
    {
     "data": {
      "text/plain": [
       "Country                                0\n",
       "Region                                 0\n",
       "Population                             0\n",
       "Area (sq. mi.)                         0\n",
       "Pop. Density (per sq. mi.)             0\n",
       "Coastline (coast/area ratio)           0\n",
       "Net migration                          3\n",
       "Infant mortality (per 1000 births)     3\n",
       "GDP ($ per capita)                     1\n",
       "Literacy (%)                          18\n",
       "Phones (per 1000)                      4\n",
       "Arable (%)                             2\n",
       "Crops (%)                              2\n",
       "Other (%)                              2\n",
       "Climate                               22\n",
       "Birthrate                              3\n",
       "Deathrate                              4\n",
       "Agriculture                           15\n",
       "Industry                              16\n",
       "Service                               15\n",
       "dtype: int64"
      ]
     },
     "execution_count": 38,
     "metadata": {},
     "output_type": "execute_result"
    }
   ],
   "source": [
    "df.isnull().sum()"
   ]
  },
  {
   "cell_type": "markdown",
   "metadata": {},
   "source": [
    "**TASK: What countries have NaN for Agriculture? What is the main aspect of these countries?**"
   ]
  },
  {
   "cell_type": "code",
   "execution_count": 39,
   "metadata": {},
   "outputs": [
    {
     "data": {
      "text/plain": [
       "3            American Samoa\n",
       "4                   Andorra\n",
       "78                Gibraltar\n",
       "80                Greenland\n",
       "83                     Guam\n",
       "134                 Mayotte\n",
       "140              Montserrat\n",
       "144                   Nauru\n",
       "153      N. Mariana Islands\n",
       "171            Saint Helena\n",
       "174    St Pierre & Miquelon\n",
       "177              San Marino\n",
       "208       Turks & Caicos Is\n",
       "221       Wallis and Futuna\n",
       "223          Western Sahara\n",
       "Name: Country, dtype: object"
      ]
     },
     "execution_count": 39,
     "metadata": {},
     "output_type": "execute_result"
    }
   ],
   "source": [
    "df[df['Agriculture'].isnull()]['Country']"
   ]
  },
  {
   "cell_type": "markdown",
   "metadata": {},
   "source": [
    "**TASK: You should have noticed most of these countries are tiny islands, with the exception of Greenland and Western Sahara. Go ahead and fill any of these countries missing NaN values with 0, since they are so small or essentially non-existant. There should be 15 countries in total you do this for. For a hint on how to do this, recall you can do the following:**\n",
    "\n",
    "    df[df['feature'].isnull()]\n",
    "    "
   ]
  },
  {
   "cell_type": "code",
   "execution_count": 40,
   "metadata": {},
   "outputs": [],
   "source": [
    "df[df['Agriculture'].isnull()] = df[df['Agriculture'].isnull()].fillna(0)"
   ]
  },
  {
   "cell_type": "markdown",
   "metadata": {},
   "source": [
    "**TASK: Now check to see what is still missing by counting number of missing elements again per feature:**"
   ]
  },
  {
   "cell_type": "code",
   "execution_count": 41,
   "metadata": {},
   "outputs": [
    {
     "data": {
      "text/plain": [
       "Country                                0\n",
       "Region                                 0\n",
       "Population                             0\n",
       "Area (sq. mi.)                         0\n",
       "Pop. Density (per sq. mi.)             0\n",
       "Coastline (coast/area ratio)           0\n",
       "Net migration                          1\n",
       "Infant mortality (per 1000 births)     1\n",
       "GDP ($ per capita)                     0\n",
       "Literacy (%)                          13\n",
       "Phones (per 1000)                      2\n",
       "Arable (%)                             1\n",
       "Crops (%)                              1\n",
       "Other (%)                              1\n",
       "Climate                               18\n",
       "Birthrate                              1\n",
       "Deathrate                              2\n",
       "Agriculture                            0\n",
       "Industry                               1\n",
       "Service                                1\n",
       "dtype: int64"
      ]
     },
     "execution_count": 41,
     "metadata": {},
     "output_type": "execute_result"
    }
   ],
   "source": [
    "df.isnull().sum()"
   ]
  },
  {
   "cell_type": "markdown",
   "metadata": {},
   "source": [
    "**TASK: Notice climate is missing for a few countries, but not the Region! Let's use this to our advantage. Fill in the missing Climate values based on the mean climate value for its region.**\n",
    "\n",
    "Hints on how to do this: https://stackoverflow.com/questions/19966018/pandas-filling-missing-values-by-mean-in-each-group\n"
   ]
  },
  {
   "cell_type": "code",
   "execution_count": 42,
   "metadata": {},
   "outputs": [],
   "source": [
    "df['Climate'] = df['Climate'].fillna(df.groupby('Region')['Climate'].transform('mean'))"
   ]
  },
  {
   "cell_type": "markdown",
   "metadata": {},
   "source": [
    "**TASK: Check again on many elements are missing:**"
   ]
  },
  {
   "cell_type": "code",
   "execution_count": 43,
   "metadata": {},
   "outputs": [
    {
     "data": {
      "text/plain": [
       "Country                                0\n",
       "Region                                 0\n",
       "Population                             0\n",
       "Area (sq. mi.)                         0\n",
       "Pop. Density (per sq. mi.)             0\n",
       "Coastline (coast/area ratio)           0\n",
       "Net migration                          1\n",
       "Infant mortality (per 1000 births)     1\n",
       "GDP ($ per capita)                     0\n",
       "Literacy (%)                          13\n",
       "Phones (per 1000)                      2\n",
       "Arable (%)                             1\n",
       "Crops (%)                              1\n",
       "Other (%)                              1\n",
       "Climate                                0\n",
       "Birthrate                              1\n",
       "Deathrate                              2\n",
       "Agriculture                            0\n",
       "Industry                               1\n",
       "Service                                1\n",
       "dtype: int64"
      ]
     },
     "execution_count": 43,
     "metadata": {},
     "output_type": "execute_result"
    }
   ],
   "source": [
    "df.isnull().sum()"
   ]
  },
  {
   "cell_type": "markdown",
   "metadata": {},
   "source": [
    "**TASK: It looks like Literacy percentage is missing. Use the same tactic as we did with Climate missing values and fill in any missing Literacy % values with the mean Literacy % of the Region.**"
   ]
  },
  {
   "cell_type": "code",
   "execution_count": 44,
   "metadata": {},
   "outputs": [
    {
     "data": {
      "text/html": [
       "<div>\n",
       "<style scoped>\n",
       "    .dataframe tbody tr th:only-of-type {\n",
       "        vertical-align: middle;\n",
       "    }\n",
       "\n",
       "    .dataframe tbody tr th {\n",
       "        vertical-align: top;\n",
       "    }\n",
       "\n",
       "    .dataframe thead th {\n",
       "        text-align: right;\n",
       "    }\n",
       "</style>\n",
       "<table border=\"1\" class=\"dataframe\">\n",
       "  <thead>\n",
       "    <tr style=\"text-align: right;\">\n",
       "      <th></th>\n",
       "      <th>Country</th>\n",
       "      <th>Region</th>\n",
       "      <th>Population</th>\n",
       "      <th>Area (sq. mi.)</th>\n",
       "      <th>Pop. Density (per sq. mi.)</th>\n",
       "      <th>Coastline (coast/area ratio)</th>\n",
       "      <th>Net migration</th>\n",
       "      <th>Infant mortality (per 1000 births)</th>\n",
       "      <th>GDP ($ per capita)</th>\n",
       "      <th>Literacy (%)</th>\n",
       "      <th>Phones (per 1000)</th>\n",
       "      <th>Arable (%)</th>\n",
       "      <th>Crops (%)</th>\n",
       "      <th>Other (%)</th>\n",
       "      <th>Climate</th>\n",
       "      <th>Birthrate</th>\n",
       "      <th>Deathrate</th>\n",
       "      <th>Agriculture</th>\n",
       "      <th>Industry</th>\n",
       "      <th>Service</th>\n",
       "    </tr>\n",
       "  </thead>\n",
       "  <tbody>\n",
       "    <tr>\n",
       "      <th>25</th>\n",
       "      <td>Bosnia &amp; Herzegovina</td>\n",
       "      <td>EASTERN EUROPE</td>\n",
       "      <td>4498976</td>\n",
       "      <td>51129</td>\n",
       "      <td>88.0</td>\n",
       "      <td>0.04</td>\n",
       "      <td>0.31</td>\n",
       "      <td>21.05</td>\n",
       "      <td>6100.0</td>\n",
       "      <td>NaN</td>\n",
       "      <td>215.4</td>\n",
       "      <td>13.60</td>\n",
       "      <td>2.96</td>\n",
       "      <td>83.44</td>\n",
       "      <td>4.000000</td>\n",
       "      <td>8.77</td>\n",
       "      <td>8.27</td>\n",
       "      <td>0.142</td>\n",
       "      <td>0.308</td>\n",
       "      <td>0.550</td>\n",
       "    </tr>\n",
       "    <tr>\n",
       "      <th>66</th>\n",
       "      <td>Faroe Islands</td>\n",
       "      <td>WESTERN EUROPE</td>\n",
       "      <td>47246</td>\n",
       "      <td>1399</td>\n",
       "      <td>33.8</td>\n",
       "      <td>79.84</td>\n",
       "      <td>1.41</td>\n",
       "      <td>6.24</td>\n",
       "      <td>22000.0</td>\n",
       "      <td>NaN</td>\n",
       "      <td>503.8</td>\n",
       "      <td>2.14</td>\n",
       "      <td>0.00</td>\n",
       "      <td>97.86</td>\n",
       "      <td>2.826087</td>\n",
       "      <td>14.05</td>\n",
       "      <td>8.70</td>\n",
       "      <td>0.270</td>\n",
       "      <td>0.110</td>\n",
       "      <td>0.620</td>\n",
       "    </tr>\n",
       "    <tr>\n",
       "      <th>74</th>\n",
       "      <td>Gaza Strip</td>\n",
       "      <td>NEAR EAST</td>\n",
       "      <td>1428757</td>\n",
       "      <td>360</td>\n",
       "      <td>3968.8</td>\n",
       "      <td>11.11</td>\n",
       "      <td>1.60</td>\n",
       "      <td>22.93</td>\n",
       "      <td>600.0</td>\n",
       "      <td>NaN</td>\n",
       "      <td>244.3</td>\n",
       "      <td>28.95</td>\n",
       "      <td>21.05</td>\n",
       "      <td>50.00</td>\n",
       "      <td>3.000000</td>\n",
       "      <td>39.45</td>\n",
       "      <td>3.80</td>\n",
       "      <td>0.030</td>\n",
       "      <td>0.283</td>\n",
       "      <td>0.687</td>\n",
       "    </tr>\n",
       "    <tr>\n",
       "      <th>85</th>\n",
       "      <td>Guernsey</td>\n",
       "      <td>WESTERN EUROPE</td>\n",
       "      <td>65409</td>\n",
       "      <td>78</td>\n",
       "      <td>838.6</td>\n",
       "      <td>64.10</td>\n",
       "      <td>3.84</td>\n",
       "      <td>4.71</td>\n",
       "      <td>20000.0</td>\n",
       "      <td>NaN</td>\n",
       "      <td>842.4</td>\n",
       "      <td>NaN</td>\n",
       "      <td>NaN</td>\n",
       "      <td>NaN</td>\n",
       "      <td>3.000000</td>\n",
       "      <td>8.81</td>\n",
       "      <td>10.01</td>\n",
       "      <td>0.030</td>\n",
       "      <td>0.100</td>\n",
       "      <td>0.870</td>\n",
       "    </tr>\n",
       "    <tr>\n",
       "      <th>99</th>\n",
       "      <td>Isle of Man</td>\n",
       "      <td>WESTERN EUROPE</td>\n",
       "      <td>75441</td>\n",
       "      <td>572</td>\n",
       "      <td>131.9</td>\n",
       "      <td>27.97</td>\n",
       "      <td>5.36</td>\n",
       "      <td>5.93</td>\n",
       "      <td>21000.0</td>\n",
       "      <td>NaN</td>\n",
       "      <td>676.0</td>\n",
       "      <td>9.00</td>\n",
       "      <td>0.00</td>\n",
       "      <td>91.00</td>\n",
       "      <td>3.000000</td>\n",
       "      <td>11.05</td>\n",
       "      <td>11.19</td>\n",
       "      <td>0.010</td>\n",
       "      <td>0.130</td>\n",
       "      <td>0.860</td>\n",
       "    </tr>\n",
       "    <tr>\n",
       "      <th>104</th>\n",
       "      <td>Jersey</td>\n",
       "      <td>WESTERN EUROPE</td>\n",
       "      <td>91084</td>\n",
       "      <td>116</td>\n",
       "      <td>785.2</td>\n",
       "      <td>60.34</td>\n",
       "      <td>2.76</td>\n",
       "      <td>5.24</td>\n",
       "      <td>24800.0</td>\n",
       "      <td>NaN</td>\n",
       "      <td>811.3</td>\n",
       "      <td>0.00</td>\n",
       "      <td>0.00</td>\n",
       "      <td>100.00</td>\n",
       "      <td>3.000000</td>\n",
       "      <td>9.30</td>\n",
       "      <td>9.28</td>\n",
       "      <td>0.050</td>\n",
       "      <td>0.020</td>\n",
       "      <td>0.930</td>\n",
       "    </tr>\n",
       "    <tr>\n",
       "      <th>108</th>\n",
       "      <td>Kiribati</td>\n",
       "      <td>OCEANIA</td>\n",
       "      <td>105432</td>\n",
       "      <td>811</td>\n",
       "      <td>130.0</td>\n",
       "      <td>140.94</td>\n",
       "      <td>0.00</td>\n",
       "      <td>48.52</td>\n",
       "      <td>800.0</td>\n",
       "      <td>NaN</td>\n",
       "      <td>42.7</td>\n",
       "      <td>2.74</td>\n",
       "      <td>50.68</td>\n",
       "      <td>46.58</td>\n",
       "      <td>2.000000</td>\n",
       "      <td>30.65</td>\n",
       "      <td>8.26</td>\n",
       "      <td>0.089</td>\n",
       "      <td>0.242</td>\n",
       "      <td>0.668</td>\n",
       "    </tr>\n",
       "    <tr>\n",
       "      <th>123</th>\n",
       "      <td>Macedonia</td>\n",
       "      <td>EASTERN EUROPE</td>\n",
       "      <td>2050554</td>\n",
       "      <td>25333</td>\n",
       "      <td>80.9</td>\n",
       "      <td>0.00</td>\n",
       "      <td>-1.45</td>\n",
       "      <td>10.09</td>\n",
       "      <td>6700.0</td>\n",
       "      <td>NaN</td>\n",
       "      <td>260.0</td>\n",
       "      <td>22.26</td>\n",
       "      <td>1.81</td>\n",
       "      <td>75.93</td>\n",
       "      <td>3.000000</td>\n",
       "      <td>12.02</td>\n",
       "      <td>8.77</td>\n",
       "      <td>0.118</td>\n",
       "      <td>0.319</td>\n",
       "      <td>0.563</td>\n",
       "    </tr>\n",
       "    <tr>\n",
       "      <th>185</th>\n",
       "      <td>Slovakia</td>\n",
       "      <td>EASTERN EUROPE</td>\n",
       "      <td>5439448</td>\n",
       "      <td>48845</td>\n",
       "      <td>111.4</td>\n",
       "      <td>0.00</td>\n",
       "      <td>0.30</td>\n",
       "      <td>7.41</td>\n",
       "      <td>13300.0</td>\n",
       "      <td>NaN</td>\n",
       "      <td>220.1</td>\n",
       "      <td>30.16</td>\n",
       "      <td>2.62</td>\n",
       "      <td>67.22</td>\n",
       "      <td>3.000000</td>\n",
       "      <td>10.65</td>\n",
       "      <td>9.45</td>\n",
       "      <td>0.035</td>\n",
       "      <td>0.294</td>\n",
       "      <td>0.672</td>\n",
       "    </tr>\n",
       "    <tr>\n",
       "      <th>187</th>\n",
       "      <td>Solomon Islands</td>\n",
       "      <td>OCEANIA</td>\n",
       "      <td>552438</td>\n",
       "      <td>28450</td>\n",
       "      <td>19.4</td>\n",
       "      <td>18.67</td>\n",
       "      <td>0.00</td>\n",
       "      <td>21.29</td>\n",
       "      <td>1700.0</td>\n",
       "      <td>NaN</td>\n",
       "      <td>13.4</td>\n",
       "      <td>0.64</td>\n",
       "      <td>2.00</td>\n",
       "      <td>97.36</td>\n",
       "      <td>2.000000</td>\n",
       "      <td>30.01</td>\n",
       "      <td>3.92</td>\n",
       "      <td>0.420</td>\n",
       "      <td>0.110</td>\n",
       "      <td>0.470</td>\n",
       "    </tr>\n",
       "    <tr>\n",
       "      <th>209</th>\n",
       "      <td>Tuvalu</td>\n",
       "      <td>OCEANIA</td>\n",
       "      <td>11810</td>\n",
       "      <td>26</td>\n",
       "      <td>454.2</td>\n",
       "      <td>92.31</td>\n",
       "      <td>0.00</td>\n",
       "      <td>20.03</td>\n",
       "      <td>1100.0</td>\n",
       "      <td>NaN</td>\n",
       "      <td>59.3</td>\n",
       "      <td>0.00</td>\n",
       "      <td>0.00</td>\n",
       "      <td>100.00</td>\n",
       "      <td>2.000000</td>\n",
       "      <td>22.18</td>\n",
       "      <td>7.11</td>\n",
       "      <td>0.166</td>\n",
       "      <td>0.272</td>\n",
       "      <td>0.562</td>\n",
       "    </tr>\n",
       "    <tr>\n",
       "      <th>220</th>\n",
       "      <td>Virgin Islands</td>\n",
       "      <td>LATIN AMER. &amp; CARIB</td>\n",
       "      <td>108605</td>\n",
       "      <td>1910</td>\n",
       "      <td>56.9</td>\n",
       "      <td>9.84</td>\n",
       "      <td>-8.94</td>\n",
       "      <td>8.03</td>\n",
       "      <td>17200.0</td>\n",
       "      <td>NaN</td>\n",
       "      <td>652.8</td>\n",
       "      <td>11.76</td>\n",
       "      <td>2.94</td>\n",
       "      <td>85.30</td>\n",
       "      <td>2.000000</td>\n",
       "      <td>13.96</td>\n",
       "      <td>6.43</td>\n",
       "      <td>0.010</td>\n",
       "      <td>0.190</td>\n",
       "      <td>0.800</td>\n",
       "    </tr>\n",
       "    <tr>\n",
       "      <th>222</th>\n",
       "      <td>West Bank</td>\n",
       "      <td>NEAR EAST</td>\n",
       "      <td>2460492</td>\n",
       "      <td>5860</td>\n",
       "      <td>419.9</td>\n",
       "      <td>0.00</td>\n",
       "      <td>2.98</td>\n",
       "      <td>19.62</td>\n",
       "      <td>800.0</td>\n",
       "      <td>NaN</td>\n",
       "      <td>145.2</td>\n",
       "      <td>16.90</td>\n",
       "      <td>18.97</td>\n",
       "      <td>64.13</td>\n",
       "      <td>3.000000</td>\n",
       "      <td>31.67</td>\n",
       "      <td>3.92</td>\n",
       "      <td>0.090</td>\n",
       "      <td>0.280</td>\n",
       "      <td>0.630</td>\n",
       "    </tr>\n",
       "  </tbody>\n",
       "</table>\n",
       "</div>"
      ],
      "text/plain": [
       "                  Country                               Region  Population  \\\n",
       "25   Bosnia & Herzegovina  EASTERN EUROPE                          4498976   \n",
       "66          Faroe Islands  WESTERN EUROPE                            47246   \n",
       "74             Gaza Strip  NEAR EAST                               1428757   \n",
       "85               Guernsey  WESTERN EUROPE                            65409   \n",
       "99            Isle of Man  WESTERN EUROPE                            75441   \n",
       "104                Jersey  WESTERN EUROPE                            91084   \n",
       "108              Kiribati  OCEANIA                                  105432   \n",
       "123             Macedonia  EASTERN EUROPE                          2050554   \n",
       "185              Slovakia  EASTERN EUROPE                          5439448   \n",
       "187       Solomon Islands  OCEANIA                                  552438   \n",
       "209                Tuvalu  OCEANIA                                   11810   \n",
       "220        Virgin Islands              LATIN AMER. & CARIB          108605   \n",
       "222             West Bank  NEAR EAST                               2460492   \n",
       "\n",
       "     Area (sq. mi.)  Pop. Density (per sq. mi.)  Coastline (coast/area ratio)  \\\n",
       "25            51129                        88.0                          0.04   \n",
       "66             1399                        33.8                         79.84   \n",
       "74              360                      3968.8                         11.11   \n",
       "85               78                       838.6                         64.10   \n",
       "99              572                       131.9                         27.97   \n",
       "104             116                       785.2                         60.34   \n",
       "108             811                       130.0                        140.94   \n",
       "123           25333                        80.9                          0.00   \n",
       "185           48845                       111.4                          0.00   \n",
       "187           28450                        19.4                         18.67   \n",
       "209              26                       454.2                         92.31   \n",
       "220            1910                        56.9                          9.84   \n",
       "222            5860                       419.9                          0.00   \n",
       "\n",
       "     Net migration  Infant mortality (per 1000 births)  GDP ($ per capita)  \\\n",
       "25            0.31                               21.05              6100.0   \n",
       "66            1.41                                6.24             22000.0   \n",
       "74            1.60                               22.93               600.0   \n",
       "85            3.84                                4.71             20000.0   \n",
       "99            5.36                                5.93             21000.0   \n",
       "104           2.76                                5.24             24800.0   \n",
       "108           0.00                               48.52               800.0   \n",
       "123          -1.45                               10.09              6700.0   \n",
       "185           0.30                                7.41             13300.0   \n",
       "187           0.00                               21.29              1700.0   \n",
       "209           0.00                               20.03              1100.0   \n",
       "220          -8.94                                8.03             17200.0   \n",
       "222           2.98                               19.62               800.0   \n",
       "\n",
       "     Literacy (%)  Phones (per 1000)  Arable (%)  Crops (%)  Other (%)  \\\n",
       "25            NaN              215.4       13.60       2.96      83.44   \n",
       "66            NaN              503.8        2.14       0.00      97.86   \n",
       "74            NaN              244.3       28.95      21.05      50.00   \n",
       "85            NaN              842.4         NaN        NaN        NaN   \n",
       "99            NaN              676.0        9.00       0.00      91.00   \n",
       "104           NaN              811.3        0.00       0.00     100.00   \n",
       "108           NaN               42.7        2.74      50.68      46.58   \n",
       "123           NaN              260.0       22.26       1.81      75.93   \n",
       "185           NaN              220.1       30.16       2.62      67.22   \n",
       "187           NaN               13.4        0.64       2.00      97.36   \n",
       "209           NaN               59.3        0.00       0.00     100.00   \n",
       "220           NaN              652.8       11.76       2.94      85.30   \n",
       "222           NaN              145.2       16.90      18.97      64.13   \n",
       "\n",
       "      Climate  Birthrate  Deathrate  Agriculture  Industry  Service  \n",
       "25   4.000000       8.77       8.27        0.142     0.308    0.550  \n",
       "66   2.826087      14.05       8.70        0.270     0.110    0.620  \n",
       "74   3.000000      39.45       3.80        0.030     0.283    0.687  \n",
       "85   3.000000       8.81      10.01        0.030     0.100    0.870  \n",
       "99   3.000000      11.05      11.19        0.010     0.130    0.860  \n",
       "104  3.000000       9.30       9.28        0.050     0.020    0.930  \n",
       "108  2.000000      30.65       8.26        0.089     0.242    0.668  \n",
       "123  3.000000      12.02       8.77        0.118     0.319    0.563  \n",
       "185  3.000000      10.65       9.45        0.035     0.294    0.672  \n",
       "187  2.000000      30.01       3.92        0.420     0.110    0.470  \n",
       "209  2.000000      22.18       7.11        0.166     0.272    0.562  \n",
       "220  2.000000      13.96       6.43        0.010     0.190    0.800  \n",
       "222  3.000000      31.67       3.92        0.090     0.280    0.630  "
      ]
     },
     "execution_count": 44,
     "metadata": {},
     "output_type": "execute_result"
    }
   ],
   "source": [
    "df[df['Literacy (%)'].isnull()]"
   ]
  },
  {
   "cell_type": "code",
   "execution_count": 45,
   "metadata": {},
   "outputs": [],
   "source": [
    "df['Literacy (%)'] = df['Literacy (%)'].fillna(df.groupby('Region')['Literacy (%)'].transform('mean'))"
   ]
  },
  {
   "cell_type": "markdown",
   "metadata": {},
   "source": [
    "**TASK: Check again on the remaining missing values:**"
   ]
  },
  {
   "cell_type": "code",
   "execution_count": 46,
   "metadata": {},
   "outputs": [
    {
     "data": {
      "text/plain": [
       "Country                               0\n",
       "Region                                0\n",
       "Population                            0\n",
       "Area (sq. mi.)                        0\n",
       "Pop. Density (per sq. mi.)            0\n",
       "Coastline (coast/area ratio)          0\n",
       "Net migration                         1\n",
       "Infant mortality (per 1000 births)    1\n",
       "GDP ($ per capita)                    0\n",
       "Literacy (%)                          0\n",
       "Phones (per 1000)                     2\n",
       "Arable (%)                            1\n",
       "Crops (%)                             1\n",
       "Other (%)                             1\n",
       "Climate                               0\n",
       "Birthrate                             1\n",
       "Deathrate                             2\n",
       "Agriculture                           0\n",
       "Industry                              1\n",
       "Service                               1\n",
       "dtype: int64"
      ]
     },
     "execution_count": 46,
     "metadata": {},
     "output_type": "execute_result"
    }
   ],
   "source": [
    "df.isnull().sum()"
   ]
  },
  {
   "cell_type": "markdown",
   "metadata": {},
   "source": [
    "**TASK: Optional: We are now missing values for only a few countries. Go ahead and drop these countries OR feel free to fill in these last few remaining values with any preferred methodology. For simplicity, we will drop these.**"
   ]
  },
  {
   "cell_type": "code",
   "execution_count": 49,
   "metadata": {},
   "outputs": [],
   "source": [
    "df = df.dropna()"
   ]
  },
  {
   "cell_type": "code",
   "execution_count": 51,
   "metadata": {},
   "outputs": [
    {
     "name": "stdout",
     "output_type": "stream",
     "text": [
      "<class 'pandas.core.frame.DataFrame'>\n",
      "Int64Index: 221 entries, 0 to 226\n",
      "Data columns (total 20 columns):\n",
      " #   Column                              Non-Null Count  Dtype  \n",
      "---  ------                              --------------  -----  \n",
      " 0   Country                             221 non-null    object \n",
      " 1   Region                              221 non-null    object \n",
      " 2   Population                          221 non-null    int64  \n",
      " 3   Area (sq. mi.)                      221 non-null    int64  \n",
      " 4   Pop. Density (per sq. mi.)          221 non-null    float64\n",
      " 5   Coastline (coast/area ratio)        221 non-null    float64\n",
      " 6   Net migration                       221 non-null    float64\n",
      " 7   Infant mortality (per 1000 births)  221 non-null    float64\n",
      " 8   GDP ($ per capita)                  221 non-null    float64\n",
      " 9   Literacy (%)                        221 non-null    float64\n",
      " 10  Phones (per 1000)                   221 non-null    float64\n",
      " 11  Arable (%)                          221 non-null    float64\n",
      " 12  Crops (%)                           221 non-null    float64\n",
      " 13  Other (%)                           221 non-null    float64\n",
      " 14  Climate                             221 non-null    float64\n",
      " 15  Birthrate                           221 non-null    float64\n",
      " 16  Deathrate                           221 non-null    float64\n",
      " 17  Agriculture                         221 non-null    float64\n",
      " 18  Industry                            221 non-null    float64\n",
      " 19  Service                             221 non-null    float64\n",
      "dtypes: float64(16), int64(2), object(2)\n",
      "memory usage: 36.3+ KB\n"
     ]
    }
   ],
   "source": [
    "df.info()"
   ]
  },
  {
   "cell_type": "markdown",
   "metadata": {},
   "source": [
    "## Data Feature Preparation"
   ]
  },
  {
   "cell_type": "markdown",
   "metadata": {},
   "source": [
    "**TASK: It is now time to prepare the data for clustering. The Country column is still a unique identifier string, so it won't be useful for clustering, since its unique for each point. Go ahead and drop this Country column.**"
   ]
  },
  {
   "cell_type": "code",
   "execution_count": 52,
   "metadata": {},
   "outputs": [],
   "source": [
    "X = df.drop(\"Country\", 1)"
   ]
  },
  {
   "cell_type": "markdown",
   "metadata": {},
   "source": [
    "**TASK: Now let's create the X array of features, the Region column is still categorical strings, use Pandas to create dummy variables from this column to create a finalzed X matrix of continuous features along with the dummy variables for the Regions.**"
   ]
  },
  {
   "cell_type": "code",
   "execution_count": 53,
   "metadata": {},
   "outputs": [],
   "source": [
    "X = pd.get_dummies(X)"
   ]
  },
  {
   "cell_type": "code",
   "execution_count": 54,
   "metadata": {},
   "outputs": [
    {
     "data": {
      "text/html": [
       "<div>\n",
       "<style scoped>\n",
       "    .dataframe tbody tr th:only-of-type {\n",
       "        vertical-align: middle;\n",
       "    }\n",
       "\n",
       "    .dataframe tbody tr th {\n",
       "        vertical-align: top;\n",
       "    }\n",
       "\n",
       "    .dataframe thead th {\n",
       "        text-align: right;\n",
       "    }\n",
       "</style>\n",
       "<table border=\"1\" class=\"dataframe\">\n",
       "  <thead>\n",
       "    <tr style=\"text-align: right;\">\n",
       "      <th></th>\n",
       "      <th>Population</th>\n",
       "      <th>Area (sq. mi.)</th>\n",
       "      <th>Pop. Density (per sq. mi.)</th>\n",
       "      <th>Coastline (coast/area ratio)</th>\n",
       "      <th>Net migration</th>\n",
       "      <th>Infant mortality (per 1000 births)</th>\n",
       "      <th>GDP ($ per capita)</th>\n",
       "      <th>Literacy (%)</th>\n",
       "      <th>Phones (per 1000)</th>\n",
       "      <th>Arable (%)</th>\n",
       "      <th>...</th>\n",
       "      <th>Region_BALTICS</th>\n",
       "      <th>Region_C.W. OF IND. STATES</th>\n",
       "      <th>Region_EASTERN EUROPE</th>\n",
       "      <th>Region_LATIN AMER. &amp; CARIB</th>\n",
       "      <th>Region_NEAR EAST</th>\n",
       "      <th>Region_NORTHERN AFRICA</th>\n",
       "      <th>Region_NORTHERN AMERICA</th>\n",
       "      <th>Region_OCEANIA</th>\n",
       "      <th>Region_SUB-SAHARAN AFRICA</th>\n",
       "      <th>Region_WESTERN EUROPE</th>\n",
       "    </tr>\n",
       "  </thead>\n",
       "  <tbody>\n",
       "    <tr>\n",
       "      <th>0</th>\n",
       "      <td>31056997</td>\n",
       "      <td>647500</td>\n",
       "      <td>48.0</td>\n",
       "      <td>0.00</td>\n",
       "      <td>23.06</td>\n",
       "      <td>163.07</td>\n",
       "      <td>700.0</td>\n",
       "      <td>36.0</td>\n",
       "      <td>3.2</td>\n",
       "      <td>12.13</td>\n",
       "      <td>...</td>\n",
       "      <td>0</td>\n",
       "      <td>0</td>\n",
       "      <td>0</td>\n",
       "      <td>0</td>\n",
       "      <td>0</td>\n",
       "      <td>0</td>\n",
       "      <td>0</td>\n",
       "      <td>0</td>\n",
       "      <td>0</td>\n",
       "      <td>0</td>\n",
       "    </tr>\n",
       "    <tr>\n",
       "      <th>1</th>\n",
       "      <td>3581655</td>\n",
       "      <td>28748</td>\n",
       "      <td>124.6</td>\n",
       "      <td>1.26</td>\n",
       "      <td>-4.93</td>\n",
       "      <td>21.52</td>\n",
       "      <td>4500.0</td>\n",
       "      <td>86.5</td>\n",
       "      <td>71.2</td>\n",
       "      <td>21.09</td>\n",
       "      <td>...</td>\n",
       "      <td>0</td>\n",
       "      <td>0</td>\n",
       "      <td>1</td>\n",
       "      <td>0</td>\n",
       "      <td>0</td>\n",
       "      <td>0</td>\n",
       "      <td>0</td>\n",
       "      <td>0</td>\n",
       "      <td>0</td>\n",
       "      <td>0</td>\n",
       "    </tr>\n",
       "    <tr>\n",
       "      <th>2</th>\n",
       "      <td>32930091</td>\n",
       "      <td>2381740</td>\n",
       "      <td>13.8</td>\n",
       "      <td>0.04</td>\n",
       "      <td>-0.39</td>\n",
       "      <td>31.00</td>\n",
       "      <td>6000.0</td>\n",
       "      <td>70.0</td>\n",
       "      <td>78.1</td>\n",
       "      <td>3.22</td>\n",
       "      <td>...</td>\n",
       "      <td>0</td>\n",
       "      <td>0</td>\n",
       "      <td>0</td>\n",
       "      <td>0</td>\n",
       "      <td>0</td>\n",
       "      <td>1</td>\n",
       "      <td>0</td>\n",
       "      <td>0</td>\n",
       "      <td>0</td>\n",
       "      <td>0</td>\n",
       "    </tr>\n",
       "    <tr>\n",
       "      <th>3</th>\n",
       "      <td>57794</td>\n",
       "      <td>199</td>\n",
       "      <td>290.4</td>\n",
       "      <td>58.29</td>\n",
       "      <td>-20.71</td>\n",
       "      <td>9.27</td>\n",
       "      <td>8000.0</td>\n",
       "      <td>97.0</td>\n",
       "      <td>259.5</td>\n",
       "      <td>10.00</td>\n",
       "      <td>...</td>\n",
       "      <td>0</td>\n",
       "      <td>0</td>\n",
       "      <td>0</td>\n",
       "      <td>0</td>\n",
       "      <td>0</td>\n",
       "      <td>0</td>\n",
       "      <td>0</td>\n",
       "      <td>1</td>\n",
       "      <td>0</td>\n",
       "      <td>0</td>\n",
       "    </tr>\n",
       "    <tr>\n",
       "      <th>4</th>\n",
       "      <td>71201</td>\n",
       "      <td>468</td>\n",
       "      <td>152.1</td>\n",
       "      <td>0.00</td>\n",
       "      <td>6.60</td>\n",
       "      <td>4.05</td>\n",
       "      <td>19000.0</td>\n",
       "      <td>100.0</td>\n",
       "      <td>497.2</td>\n",
       "      <td>2.22</td>\n",
       "      <td>...</td>\n",
       "      <td>0</td>\n",
       "      <td>0</td>\n",
       "      <td>0</td>\n",
       "      <td>0</td>\n",
       "      <td>0</td>\n",
       "      <td>0</td>\n",
       "      <td>0</td>\n",
       "      <td>0</td>\n",
       "      <td>0</td>\n",
       "      <td>1</td>\n",
       "    </tr>\n",
       "  </tbody>\n",
       "</table>\n",
       "<p>5 rows × 29 columns</p>\n",
       "</div>"
      ],
      "text/plain": [
       "   Population  Area (sq. mi.)  Pop. Density (per sq. mi.)  \\\n",
       "0    31056997          647500                        48.0   \n",
       "1     3581655           28748                       124.6   \n",
       "2    32930091         2381740                        13.8   \n",
       "3       57794             199                       290.4   \n",
       "4       71201             468                       152.1   \n",
       "\n",
       "   Coastline (coast/area ratio)  Net migration  \\\n",
       "0                          0.00          23.06   \n",
       "1                          1.26          -4.93   \n",
       "2                          0.04          -0.39   \n",
       "3                         58.29         -20.71   \n",
       "4                          0.00           6.60   \n",
       "\n",
       "   Infant mortality (per 1000 births)  GDP ($ per capita)  Literacy (%)  \\\n",
       "0                              163.07               700.0          36.0   \n",
       "1                               21.52              4500.0          86.5   \n",
       "2                               31.00              6000.0          70.0   \n",
       "3                                9.27              8000.0          97.0   \n",
       "4                                4.05             19000.0         100.0   \n",
       "\n",
       "   Phones (per 1000)  Arable (%)  ...  \\\n",
       "0                3.2       12.13  ...   \n",
       "1               71.2       21.09  ...   \n",
       "2               78.1        3.22  ...   \n",
       "3              259.5       10.00  ...   \n",
       "4              497.2        2.22  ...   \n",
       "\n",
       "   Region_BALTICS                              Region_C.W. OF IND. STATES   \\\n",
       "0                                           0                            0   \n",
       "1                                           0                            0   \n",
       "2                                           0                            0   \n",
       "3                                           0                            0   \n",
       "4                                           0                            0   \n",
       "\n",
       "   Region_EASTERN EUROPE                       Region_LATIN AMER. & CARIB      \\\n",
       "0                                           0                               0   \n",
       "1                                           1                               0   \n",
       "2                                           0                               0   \n",
       "3                                           0                               0   \n",
       "4                                           0                               0   \n",
       "\n",
       "   Region_NEAR EAST                            \\\n",
       "0                                           0   \n",
       "1                                           0   \n",
       "2                                           0   \n",
       "3                                           0   \n",
       "4                                           0   \n",
       "\n",
       "   Region_NORTHERN AFRICA                      \\\n",
       "0                                           0   \n",
       "1                                           0   \n",
       "2                                           1   \n",
       "3                                           0   \n",
       "4                                           0   \n",
       "\n",
       "   Region_NORTHERN AMERICA                     \\\n",
       "0                                           0   \n",
       "1                                           0   \n",
       "2                                           0   \n",
       "3                                           0   \n",
       "4                                           0   \n",
       "\n",
       "   Region_OCEANIA                              \\\n",
       "0                                           0   \n",
       "1                                           0   \n",
       "2                                           0   \n",
       "3                                           1   \n",
       "4                                           0   \n",
       "\n",
       "   Region_SUB-SAHARAN AFRICA                   \\\n",
       "0                                           0   \n",
       "1                                           0   \n",
       "2                                           0   \n",
       "3                                           0   \n",
       "4                                           0   \n",
       "\n",
       "   Region_WESTERN EUROPE                       \n",
       "0                                           0  \n",
       "1                                           0  \n",
       "2                                           0  \n",
       "3                                           0  \n",
       "4                                           1  \n",
       "\n",
       "[5 rows x 29 columns]"
      ]
     },
     "execution_count": 54,
     "metadata": {},
     "output_type": "execute_result"
    }
   ],
   "source": [
    "X.head()"
   ]
  },
  {
   "cell_type": "markdown",
   "metadata": {},
   "source": [
    "### Scaling"
   ]
  },
  {
   "cell_type": "markdown",
   "metadata": {},
   "source": [
    "**TASK: Due to some measurements being in terms of percentages and other metrics being total counts (population), we should scale this data first. Use Sklearn to scale the X feature matrics.**"
   ]
  },
  {
   "cell_type": "code",
   "execution_count": 55,
   "metadata": {},
   "outputs": [],
   "source": [
    "from sklearn.preprocessing import StandardScaler"
   ]
  },
  {
   "cell_type": "code",
   "execution_count": 56,
   "metadata": {},
   "outputs": [],
   "source": [
    "scaler = StandardScaler()\n",
    "X_scaled = scaler.fit_transform(X)"
   ]
  },
  {
   "cell_type": "code",
   "execution_count": 57,
   "metadata": {},
   "outputs": [
    {
     "data": {
      "text/plain": [
       "array([[ 0.0133285 ,  0.01855412, -0.20308668, ..., -0.31544015,\n",
       "        -0.54772256, -0.36514837],\n",
       "       [-0.21730118, -0.32370888, -0.14378531, ..., -0.31544015,\n",
       "        -0.54772256, -0.36514837],\n",
       "       [ 0.02905136,  0.97784988, -0.22956327, ..., -0.31544015,\n",
       "        -0.54772256, -0.36514837],\n",
       "       ...,\n",
       "       [-0.06726127, -0.04756396, -0.20881553, ..., -0.31544015,\n",
       "        -0.54772256, -0.36514837],\n",
       "       [-0.15081724,  0.07669798, -0.22840201, ..., -0.31544015,\n",
       "         1.82574186, -0.36514837],\n",
       "       [-0.14464933, -0.12356132, -0.2160153 , ..., -0.31544015,\n",
       "         1.82574186, -0.36514837]])"
      ]
     },
     "execution_count": 57,
     "metadata": {},
     "output_type": "execute_result"
    }
   ],
   "source": [
    "X_scaled"
   ]
  },
  {
   "cell_type": "markdown",
   "metadata": {},
   "source": [
    "### Creating and Fitting Kmeans Model\n",
    "\n",
    "\n"
   ]
  },
  {
   "cell_type": "markdown",
   "metadata": {},
   "source": [
    "**TASK: Use a for loop to create and fit multiple KMeans models, testing from K=2-30 clusters. Keep track of the Sum of Squared Distances for each K value, then plot this out to create an \"elbow\" plot of K versus SSD. Optional: You may also want to create a bar plot showing the SSD difference from the previous cluster.**"
   ]
  },
  {
   "cell_type": "code",
   "execution_count": 58,
   "metadata": {},
   "outputs": [],
   "source": [
    "from sklearn.cluster import KMeans"
   ]
  },
  {
   "cell_type": "code",
   "execution_count": 59,
   "metadata": {},
   "outputs": [],
   "source": [
    "ssd = []\n",
    "\n",
    "for k in range(2,30):\n",
    "    \n",
    "    model = KMeans(n_clusters=k)\n",
    "    \n",
    "    model.fit(X_scaled)\n",
    "\n",
    "    ssd.append(model.inertia_)"
   ]
  },
  {
   "cell_type": "code",
   "execution_count": 61,
   "metadata": {},
   "outputs": [
    {
     "data": {
      "image/png": "[encoded data removed]",
      "text/plain": [
       "<Figure size 432x288 with 1 Axes>"
      ]
     },
     "metadata": {
      "needs_background": "light"
     },
     "output_type": "display_data"
    }
   ],
   "source": [
    "plt.plot(range(2,30), ssd,'o--')\n",
    "plt.xlabel(\"K Value\")\n",
    "plt.ylabel(\"Sum of Squared Distances\");"
   ]
  },
  {
   "cell_type": "code",
   "execution_count": 62,
   "metadata": {},
   "outputs": [
    {
     "data": {
      "image/png": "[encoded data removed]",
      "text/plain": [
       "<Figure size 432x288 with 1 Axes>"
      ]
     },
     "metadata": {
      "needs_background": "light"
     },
     "output_type": "display_data"
    }
   ],
   "source": [
    "pd.Series(ssd).diff().plot(kind='bar');"
   ]
  },
  {
   "cell_type": "markdown",
   "metadata": {},
   "source": [
    "-----"
   ]
  },
  {
   "cell_type": "markdown",
   "metadata": {},
   "source": [
    "# Model Interpretation\n",
    "\n",
    "\n",
    "**TASK: What K value do you think is a good choice? Are there multiple reasonable choices? What features are helping define these cluster choices. As this is unsupervised learning, there is no 100% correct answer here. Please feel free to jump to the solutions for a full discussion on this!.**"
   ]
  },
  {
   "cell_type": "markdown",
   "metadata": {},
   "source": [
    "-----\n",
    "\n",
    "\n",
    "#### Example Interpretation: Choosing K=3\n",
    "\n",
    "**One could say that there is a significant drop off in SSD difference at K=3 (although we can see it continues to drop off past this). What would an analysis look like for K=3? Let's explore which features are important in the decision of 3 clusters!**"
   ]
  },
  {
   "cell_type": "code",
   "execution_count": 64,
   "metadata": {},
   "outputs": [
    {
     "data": {
      "text/plain": [
       "KMeans(n_clusters=3)"
      ]
     },
     "execution_count": 64,
     "metadata": {},
     "output_type": "execute_result"
    }
   ],
   "source": [
    "model = KMeans(n_clusters=3)\n",
    "model.fit(X_scaled)"
   ]
  },
  {
   "cell_type": "code",
   "execution_count": 65,
   "metadata": {},
   "outputs": [
    {
     "data": {
      "text/plain": [
       "array([0, 2, 2, 2, 1, 0, 2, 2, 2, 2, 1, 1, 1, 2, 2, 2, 2, 1, 1, 1, 2, 0,\n",
       "       1, 0, 2, 1, 0, 2, 1, 2, 1, 0, 2, 0, 2, 0, 1, 2, 1, 0, 0, 2, 2, 2,\n",
       "       0, 0, 0, 2, 0, 1, 2, 1, 1, 0, 2, 2, 2, 2, 2, 0, 0, 1, 0, 1, 2, 1,\n",
       "       1, 2, 2, 0, 0, 2, 2, 1, 0, 1, 1, 2, 2, 2, 2, 2, 0, 0, 2, 2, 2, 1,\n",
       "       1, 1, 2, 2, 2, 2, 1, 1, 1, 1, 2, 1, 1, 2, 2, 0, 2, 2, 1, 2, 2, 0,\n",
       "       1, 2, 0, 0, 2, 1, 1, 1, 1, 1, 0, 0, 2, 2, 0, 1, 2, 2, 0, 1, 0, 2,\n",
       "       2, 2, 2, 2, 2, 0, 0, 2, 0, 1, 2, 2, 1, 2, 0, 0, 2, 1, 2, 2, 2, 2,\n",
       "       2, 2, 2, 2, 1, 1, 2, 2, 2, 1, 2, 0, 2, 2, 2, 2, 2, 2, 1, 2, 2, 0,\n",
       "       2, 0, 1, 1, 1, 2, 0, 0, 1, 2, 0, 2, 0, 1, 1, 2, 1, 2, 0, 2, 0, 2,\n",
       "       2, 2, 2, 2, 2, 2, 0, 1, 2, 1, 1, 2, 2, 2, 2, 2, 2, 2, 2, 2, 2, 0,\n",
       "       0])"
      ]
     },
     "execution_count": 65,
     "metadata": {},
     "output_type": "execute_result"
    }
   ],
   "source": [
    "model.labels_"
   ]
  },
  {
   "cell_type": "code",
   "execution_count": 66,
   "metadata": {},
   "outputs": [],
   "source": [
    "X['K=3 Clusters'] = model.labels_"
   ]
  },
  {
   "cell_type": "code",
   "execution_count": 68,
   "metadata": {},
   "outputs": [
    {
     "data": {
      "text/plain": [
       "Deathrate                                    -0.747588\n",
       "Region_SUB-SAHARAN AFRICA                    -0.732058\n",
       "Infant mortality (per 1000 births)           -0.562542\n",
       "Birthrate                                    -0.446383\n",
       "Agriculture                                  -0.382921\n",
       "Net migration                                -0.232226\n",
       "Region_WESTERN EUROPE                        -0.133101\n",
       "Climate                                      -0.070956\n",
       "Region_EASTERN EUROPE                        -0.057640\n",
       "Arable (%)                                   -0.056026\n",
       "Region_BALTICS                               -0.042761\n",
       "Other (%)                                    -0.033818\n",
       "Pop. Density (per sq. mi.)                   -0.015717\n",
       "GDP ($ per capita)                            0.010388\n",
       "Region_NORTHERN AMERICA                       0.019965\n",
       "Area (sq. mi.)                                0.034485\n",
       "Industry                                      0.034724\n",
       "Population                                    0.085919\n",
       "Region_ASIA (EX. NEAR EAST)                   0.086628\n",
       "Service                                       0.100680\n",
       "Phones (per 1000)                             0.137080\n",
       "Region_NORTHERN AFRICA                        0.146144\n",
       "Coastline (coast/area ratio)                  0.147074\n",
       "Region_C.W. OF IND. STATES                    0.160130\n",
       "Region_NEAR EAST                              0.213772\n",
       "Region_OCEANIA                                0.236863\n",
       "Crops (%)                                     0.241961\n",
       "Literacy (%)                                  0.355186\n",
       "Region_LATIN AMER. & CARIB                    0.386654\n",
       "K=3 Clusters                                  1.000000\n",
       "Name: K=3 Clusters, dtype: float64"
      ]
     },
     "execution_count": 68,
     "metadata": {},
     "output_type": "execute_result"
    }
   ],
   "source": [
    "X.corr()['K=3 Clusters'].sort_values()"
   ]
  },
  {
   "cell_type": "code",
   "execution_count": 69,
   "metadata": {},
   "outputs": [
    {
     "data": {
      "text/plain": [
       "<AxesSubplot:>"
      ]
     },
     "execution_count": 69,
     "metadata": {},
     "output_type": "execute_result"
    },
    {
     "data": {
      "image/png": "[encoded data removed]",
      "text/plain": [
       "<Figure size 432x288 with 1 Axes>"
      ]
     },
     "metadata": {
      "needs_background": "light"
     },
     "output_type": "display_data"
    }
   ],
   "source": [
    "X.corr()['K=3 Clusters'].sort_values().plot.bar()"
   ]
  },
  {
   "cell_type": "markdown",
   "metadata": {},
   "source": [
    "------------\n",
    "-------------\n",
    "\n",
    "# BONUS CHALLGENGE:\n",
    "## Geographical Model Interpretation"
   ]
  },
  {
   "cell_type": "markdown",
   "metadata": {},
   "source": [
    "The best way to interpret this model is through visualizing the clusters of countries on a map! **NOTE: THIS IS A BONUS SECTION.  YOU MAY WANT TO JUMP TO THE SOLUTIONS LECTURE FOR A FULL GUIDE, SINCE WE WILL COVER TOPICS NOT PREVIOUSLY DISCUSSED AND BE HAVING A NUANCED DISCUSSION ON PERFORMANCE!**\n",
    "\n",
    "----\n",
    "----\n",
    "\n",
    "**IF YOU GET STUCK, PLEASE CHECK OUT THE SOLUTIONS LECTURE. AS THIS IS OPTIONAL AND COVERS MANY TOPICS NOT SHOWN IN ANY PREVIOUS LECTURE**\n",
    "\n",
    "----\n",
    "----"
   ]
  },
  {
   "cell_type": "markdown",
   "metadata": {},
   "source": [
    "**TASK: Create cluster labels for a chosen K value. Based on the solutions, we believe either K=3 or K=15 are reasonable choices. But feel free to choose differently and explore.**"
   ]
  },
  {
   "cell_type": "code",
   "execution_count": 70,
   "metadata": {},
   "outputs": [
    {
     "data": {
      "text/plain": [
       "KMeans(n_clusters=15)"
      ]
     },
     "execution_count": 70,
     "metadata": {},
     "output_type": "execute_result"
    }
   ],
   "source": [
    "model = KMeans(n_clusters=15)\n",
    "    \n",
    "model.fit(X_scaled)\n",
    "    "
   ]
  },
  {
   "cell_type": "code",
   "execution_count": 71,
   "metadata": {},
   "outputs": [
    {
     "data": {
      "text/plain": [
       "KMeans(n_clusters=3)"
      ]
     },
     "execution_count": 71,
     "metadata": {},
     "output_type": "execute_result"
    }
   ],
   "source": [
    "model = KMeans(n_clusters=3)\n",
    "    \n",
    "model.fit(X_scaled)"
   ]
  },
  {
   "cell_type": "markdown",
   "metadata": {},
   "source": [
    "**TASK: Let's put you in the real world! Your boss just asked you to plot out these clusters on a country level choropleth map, can you figure out how to do this? We won't step by step guide you at all on this, just show you an example result. You'll need to do the following:**\n",
    "\n",
    "1. Figure out how to install plotly library: https://plotly.com/python/getting-started/\n",
    "\n",
    "2. Figure out how to create a geographical choropleth map using plotly: https://plotly.com/python/choropleth-maps/#using-builtin-country-and-state-geometries\n",
    "\n",
    "3. You will need ISO Codes for this. Either use the wikipedia page, or use our provided file for this: **\"../DATA/country_iso_codes.csv\"**\n",
    "\n",
    "4. Combine the cluster labels, ISO Codes, and Country Names to create a world map plot with plotly given what you learned in Step 1 and Step 2.\n",
    "\n",
    "\n",
    "**Note: This is meant to be a more realistic project, where you have a clear objective of what you need to create and accomplish and the necessary online documentation. It's up to you to piece everything together to figure it out! If you get stuck, no worries! Check out the solution lecture.**\n",
    "\n"
   ]
  },
  {
   "cell_type": "code",
   "execution_count": 89,
   "metadata": {},
   "outputs": [
    {
     "name": "stdout",
     "output_type": "stream",
     "text": [
      "Requirement already satisfied: plotly in c:\\users\\smsng\\anaconda3\\lib\\site-packages (5.1.0)\n",
      "Requirement already satisfied: six in c:\\users\\smsng\\anaconda3\\lib\\site-packages (from plotly) (1.15.0)\n",
      "Requirement already satisfied: tenacity>=6.2.0 in c:\\users\\smsng\\anaconda3\\lib\\site-packages (from plotly) (8.0.0)\n"
     ]
    }
   ],
   "source": [
    "!pip install plotly"
   ]
  },
  {
   "cell_type": "code",
   "execution_count": 90,
   "metadata": {},
   "outputs": [],
   "source": [
    "iso_codes = pd.read_csv(\"country_iso_codes.csv\")"
   ]
  },
  {
   "cell_type": "code",
   "execution_count": 91,
   "metadata": {},
   "outputs": [
    {
     "data": {
      "text/html": [
       "<div>\n",
       "<style scoped>\n",
       "    .dataframe tbody tr th:only-of-type {\n",
       "        vertical-align: middle;\n",
       "    }\n",
       "\n",
       "    .dataframe tbody tr th {\n",
       "        vertical-align: top;\n",
       "    }\n",
       "\n",
       "    .dataframe thead th {\n",
       "        text-align: right;\n",
       "    }\n",
       "</style>\n",
       "<table border=\"1\" class=\"dataframe\">\n",
       "  <thead>\n",
       "    <tr style=\"text-align: right;\">\n",
       "      <th></th>\n",
       "      <th>Country</th>\n",
       "      <th>ISO Code</th>\n",
       "    </tr>\n",
       "  </thead>\n",
       "  <tbody>\n",
       "    <tr>\n",
       "      <th>0</th>\n",
       "      <td>Afghanistan</td>\n",
       "      <td>AFG</td>\n",
       "    </tr>\n",
       "    <tr>\n",
       "      <th>1</th>\n",
       "      <td>Akrotiri and Dhekelia – See United Kingdom, The</td>\n",
       "      <td>Akrotiri and Dhekelia – See United Kingdom, The</td>\n",
       "    </tr>\n",
       "    <tr>\n",
       "      <th>2</th>\n",
       "      <td>Åland Islands</td>\n",
       "      <td>ALA</td>\n",
       "    </tr>\n",
       "    <tr>\n",
       "      <th>3</th>\n",
       "      <td>Albania</td>\n",
       "      <td>ALB</td>\n",
       "    </tr>\n",
       "    <tr>\n",
       "      <th>4</th>\n",
       "      <td>Algeria</td>\n",
       "      <td>DZA</td>\n",
       "    </tr>\n",
       "    <tr>\n",
       "      <th>...</th>\n",
       "      <td>...</td>\n",
       "      <td>...</td>\n",
       "    </tr>\n",
       "    <tr>\n",
       "      <th>296</th>\n",
       "      <td>Congo, Dem. Rep.</td>\n",
       "      <td>COD</td>\n",
       "    </tr>\n",
       "    <tr>\n",
       "      <th>297</th>\n",
       "      <td>Congo, Repub. of the</td>\n",
       "      <td>COG</td>\n",
       "    </tr>\n",
       "    <tr>\n",
       "      <th>298</th>\n",
       "      <td>Tanzania</td>\n",
       "      <td>TZA</td>\n",
       "    </tr>\n",
       "    <tr>\n",
       "      <th>299</th>\n",
       "      <td>Central African Rep.</td>\n",
       "      <td>CAF</td>\n",
       "    </tr>\n",
       "    <tr>\n",
       "      <th>300</th>\n",
       "      <td>Cote d'Ivoire</td>\n",
       "      <td>CIV</td>\n",
       "    </tr>\n",
       "  </tbody>\n",
       "</table>\n",
       "<p>301 rows × 2 columns</p>\n",
       "</div>"
      ],
      "text/plain": [
       "                                             Country  \\\n",
       "0                                        Afghanistan   \n",
       "1    Akrotiri and Dhekelia – See United Kingdom, The   \n",
       "2                                      Åland Islands   \n",
       "3                                            Albania   \n",
       "4                                            Algeria   \n",
       "..                                               ...   \n",
       "296                                 Congo, Dem. Rep.   \n",
       "297                             Congo, Repub. of the   \n",
       "298                                         Tanzania   \n",
       "299                             Central African Rep.   \n",
       "300                                    Cote d'Ivoire   \n",
       "\n",
       "                                            ISO Code  \n",
       "0                                                AFG  \n",
       "1    Akrotiri and Dhekelia – See United Kingdom, The  \n",
       "2                                                ALA  \n",
       "3                                                ALB  \n",
       "4                                                DZA  \n",
       "..                                               ...  \n",
       "296                                              COD  \n",
       "297                                              COG  \n",
       "298                                              TZA  \n",
       "299                                              CAF  \n",
       "300                                              CIV  \n",
       "\n",
       "[301 rows x 2 columns]"
      ]
     },
     "execution_count": 91,
     "metadata": {},
     "output_type": "execute_result"
    }
   ],
   "source": [
    "iso_codes"
   ]
  },
  {
   "cell_type": "code",
   "execution_count": 92,
   "metadata": {},
   "outputs": [],
   "source": [
    "iso_mapping = iso_codes.set_index('Country')['ISO Code'].to_dict()"
   ]
  },
  {
   "cell_type": "code",
   "execution_count": 93,
   "metadata": {},
   "outputs": [
    {
     "data": {
      "text/plain": [
       "{'Afghanistan': 'AFG',\n",
       " 'Akrotiri and Dhekelia – See United Kingdom, The': 'Akrotiri and Dhekelia – See United Kingdom, The',\n",
       " 'Åland Islands': 'ALA',\n",
       " 'Albania': 'ALB',\n",
       " 'Algeria': 'DZA',\n",
       " 'American Samoa': 'ASM',\n",
       " 'Andorra': 'AND',\n",
       " 'Angola': 'AGO',\n",
       " 'Anguilla': 'AIA',\n",
       " 'Antarctica\\u200a[a]': 'ATA',\n",
       " 'Antigua and Barbuda': 'ATG',\n",
       " 'Argentina': 'ARG',\n",
       " 'Armenia': 'ARM',\n",
       " 'Aruba': 'ABW',\n",
       " 'Ashmore and Cartier Islands – See Australia.': 'Ashmore and Cartier Islands – See Australia.',\n",
       " 'Australia\\u200a[b]': 'AUS',\n",
       " 'Austria': 'AUT',\n",
       " 'Azerbaijan': 'AZE',\n",
       " 'Bahamas (the)': 'BHS',\n",
       " 'Bahrain': 'BHR',\n",
       " 'Bangladesh': 'BGD',\n",
       " 'Barbados': 'BRB',\n",
       " 'Belarus': 'BLR',\n",
       " 'Belgium': 'BEL',\n",
       " 'Belize': 'BLZ',\n",
       " 'Benin': 'BEN',\n",
       " 'Bermuda': 'BMU',\n",
       " 'Bhutan': 'BTN',\n",
       " 'Bolivia (Plurinational State of)': 'BOL',\n",
       " 'Bonaire\\xa0Sint Eustatius\\xa0Saba': 'BES',\n",
       " 'Bosnia and Herzegovina': 'BIH',\n",
       " 'Botswana': 'BWA',\n",
       " 'Bouvet Island': 'BVT',\n",
       " 'Brazil': 'BRA',\n",
       " 'British Indian Ocean Territory (the)': 'IOT',\n",
       " 'British Virgin Islands – See Virgin Islands (British).': 'British Virgin Islands – See Virgin Islands (British).',\n",
       " 'Brunei Darussalam\\u200a[e]': 'BRN',\n",
       " 'Bulgaria': 'BGR',\n",
       " 'Burkina Faso': 'BFA',\n",
       " 'Burma – See Myanmar.': 'Burma – See Myanmar.',\n",
       " 'Burundi': 'BDI',\n",
       " 'Cabo Verde\\u200a[f]': 'CPV',\n",
       " 'Cambodia': 'KHM',\n",
       " 'Cameroon': 'CMR',\n",
       " 'Canada': 'CAN',\n",
       " 'Cape Verde – See Cabo Verde.': 'Cape Verde – See Cabo Verde.',\n",
       " 'Caribbean Netherlands – See Bonaire, Sint Eustatius and Saba.': 'Caribbean Netherlands – See Bonaire, Sint Eustatius and Saba.',\n",
       " 'Cayman Islands (the)': 'CYM',\n",
       " 'Central African Republic (the)': 'CAF',\n",
       " 'Chad': 'TCD',\n",
       " 'Chile': 'CHL',\n",
       " 'China': 'CHN',\n",
       " 'China, The Republic of – See Taiwan (Province of China).': 'China, The Republic of – See Taiwan (Province of China).',\n",
       " 'Christmas Island': 'CXR',\n",
       " 'Clipperton Island – See France.': 'Clipperton Island – See France.',\n",
       " 'Cocos (Keeling) Islands (the)': 'CCK',\n",
       " 'Colombia': 'COL',\n",
       " 'Comoros (the)': 'COM',\n",
       " 'Congo (the Democratic Republic of the)': 'COD',\n",
       " 'Congo (the)\\u200a[g]': 'COG',\n",
       " 'Cook Islands (the)': 'COK',\n",
       " 'Coral Sea Islands – See Australia.': 'Coral Sea Islands – See Australia.',\n",
       " 'Costa Rica': 'CRI',\n",
       " \"Côte d'Ivoire\\u200a[h]\": 'CIV',\n",
       " 'Croatia': 'HRV',\n",
       " 'Cuba': 'CUB',\n",
       " 'Curaçao': 'CUW',\n",
       " 'Cyprus': 'CYP',\n",
       " 'Czechia\\u200a[i]': 'CZE',\n",
       " \"Democratic People's Republic of Korea – See Korea, The Democratic People's Republic of.\": \"Democratic People's Republic of Korea – See Korea, The Democratic People's Republic of.\",\n",
       " 'Democratic Republic of the Congo – See Congo, The Democratic Republic of the.': 'Democratic Republic of the Congo – See Congo, The Democratic Republic of the.',\n",
       " 'Denmark': 'DNK',\n",
       " 'Djibouti': 'DJI',\n",
       " 'Dominica': 'DMA',\n",
       " 'Dominican Republic (the)': 'DOM',\n",
       " 'East Timor – See Timor-Leste.': 'East Timor – See Timor-Leste.',\n",
       " 'Ecuador': 'ECU',\n",
       " 'Egypt': 'EGY',\n",
       " 'El Salvador': 'SLV',\n",
       " 'England – See United Kingdom, The.': 'England – See United Kingdom, The.',\n",
       " 'Equatorial Guinea': 'GNQ',\n",
       " 'Eritrea': 'ERI',\n",
       " 'Estonia': 'EST',\n",
       " 'Eswatini\\u200a[j]': 'SWZ',\n",
       " 'Ethiopia': 'ETH',\n",
       " 'Falkland Islands (the) [Malvinas]\\u200a[k]': 'FLK',\n",
       " 'Faroe Islands (the)': 'FRO',\n",
       " 'Fiji': 'FJI',\n",
       " 'Finland': 'FIN',\n",
       " 'France\\u200a[l]': 'FRA',\n",
       " 'French Guiana': 'GUF',\n",
       " 'French Polynesia': 'PYF',\n",
       " 'French Southern Territories (the)\\u200a[m]': 'ATF',\n",
       " 'Gabon': 'GAB',\n",
       " 'Gambia (the)': 'GMB',\n",
       " 'Georgia': 'GEO',\n",
       " 'Germany': 'DEU',\n",
       " 'Ghana': 'GHA',\n",
       " 'Gibraltar': 'GIB',\n",
       " 'Great Britain – See United Kingdom, The.': 'Great Britain – See United Kingdom, The.',\n",
       " 'Greece': 'GRC',\n",
       " 'Greenland': 'GRL',\n",
       " 'Grenada': 'GRD',\n",
       " 'Guadeloupe': 'GLP',\n",
       " 'Guam': 'GUM',\n",
       " 'Guatemala': 'GTM',\n",
       " 'Guernsey': 'GGY',\n",
       " 'Guinea': 'GIN',\n",
       " 'Guinea-Bissau': 'GNB',\n",
       " 'Guyana': 'GUY',\n",
       " 'Haiti': 'HTI',\n",
       " 'Hawaiian Islands – See United States of America, The.': 'Hawaiian Islands – See United States of America, The.',\n",
       " 'Heard Island and McDonald Islands': 'HMD',\n",
       " 'Holy See (the)\\u200a[n]': 'VAT',\n",
       " 'Honduras': 'HND',\n",
       " 'Hong Kong': 'HKG',\n",
       " 'Hungary': 'HUN',\n",
       " 'Iceland': 'ISL',\n",
       " 'India': 'IND',\n",
       " 'Indonesia': 'IDN',\n",
       " 'Iran (Islamic Republic of)': 'IRN',\n",
       " 'Iraq': 'IRQ',\n",
       " 'Ireland': 'IRL',\n",
       " 'Isle of Man': 'IMN',\n",
       " 'Israel': 'ISR',\n",
       " 'Italy': 'ITA',\n",
       " \"Ivory Coast – See Côte d'Ivoire.\": \"Ivory Coast – See Côte d'Ivoire.\",\n",
       " 'Jamaica': 'JAM',\n",
       " 'Jan Mayen – See Svalbard and Jan Mayen.': 'Jan Mayen – See Svalbard and Jan Mayen.',\n",
       " 'Japan': 'JPN',\n",
       " 'Jersey': 'JEY',\n",
       " 'Jordan': 'JOR',\n",
       " 'Kazakhstan': 'KAZ',\n",
       " 'Kenya': 'KEN',\n",
       " 'Kiribati': 'KIR',\n",
       " \"Korea (the Democratic People's Republic of)\\u200a[o]\": 'PRK',\n",
       " 'Korea (the Republic of)\\u200a[p]': 'KOR',\n",
       " 'Kuwait': 'KWT',\n",
       " 'Kyrgyzstan': 'KGZ',\n",
       " \"Lao People's Democratic Republic (the)\\u200a[q]\": 'LAO',\n",
       " 'Latvia': 'LVA',\n",
       " 'Lebanon': 'LBN',\n",
       " 'Lesotho': 'LSO',\n",
       " 'Liberia': 'LBR',\n",
       " 'Libya': 'LBY',\n",
       " 'Liechtenstein': 'LIE',\n",
       " 'Lithuania': 'LTU',\n",
       " 'Luxembourg': 'LUX',\n",
       " 'Macao\\u200a[r]': 'MAC',\n",
       " 'North Macedonia\\u200a[s]': 'MKD',\n",
       " 'Madagascar': 'MDG',\n",
       " 'Malawi': 'MWI',\n",
       " 'Malaysia': 'MYS',\n",
       " 'Maldives': 'MDV',\n",
       " 'Mali': 'MLI',\n",
       " 'Malta': 'MLT',\n",
       " 'Marshall Islands (the)': 'MHL',\n",
       " 'Martinique': 'MTQ',\n",
       " 'Mauritania': 'MRT',\n",
       " 'Mauritius': 'MUS',\n",
       " 'Mayotte': 'MYT',\n",
       " 'Mexico': 'MEX',\n",
       " 'Micronesia (Federated States of)': 'FSM',\n",
       " 'Moldova (the Republic of)': 'MDA',\n",
       " 'Monaco': 'MCO',\n",
       " 'Mongolia': 'MNG',\n",
       " 'Montenegro': 'MNE',\n",
       " 'Montserrat': 'MSR',\n",
       " 'Morocco': 'MAR',\n",
       " 'Mozambique': 'MOZ',\n",
       " 'Myanmar\\u200a[t]': 'MMR',\n",
       " 'Namibia': 'NAM',\n",
       " 'Nauru': 'NRU',\n",
       " 'Nepal': 'NPL',\n",
       " 'Netherlands (the)': 'NLD',\n",
       " 'New Caledonia': 'NCL',\n",
       " 'New Zealand': 'NZL',\n",
       " 'Nicaragua': 'NIC',\n",
       " 'Niger (the)': 'NER',\n",
       " 'Nigeria': 'NGA',\n",
       " 'Niue': 'NIU',\n",
       " 'Norfolk Island': 'NFK',\n",
       " \"North Korea – See Korea, The Democratic People's Republic of.\": \"North Korea – See Korea, The Democratic People's Republic of.\",\n",
       " 'Northern Ireland – See United Kingdom, The.': 'Northern Ireland – See United Kingdom, The.',\n",
       " 'Northern Mariana Islands (the)': 'MNP',\n",
       " 'Norway': 'NOR',\n",
       " 'Oman': 'OMN',\n",
       " 'Pakistan': 'PAK',\n",
       " 'Palau': 'PLW',\n",
       " 'Palestine, State of': 'PSE',\n",
       " 'Panama': 'PAN',\n",
       " 'Papua New Guinea': 'PNG',\n",
       " 'Paraguay': 'PRY',\n",
       " \"People's Republic of China – See China.\": \"People's Republic of China – See China.\",\n",
       " 'Peru': 'PER',\n",
       " 'Philippines (the)': 'PHL',\n",
       " 'Pitcairn\\u200a[u]': 'PCN',\n",
       " 'Poland': 'POL',\n",
       " 'Portugal': 'PRT',\n",
       " 'Puerto Rico': 'PRI',\n",
       " 'Qatar': 'QAT',\n",
       " 'Republic of China – See Taiwan (Province of China).': 'Republic of China – See Taiwan (Province of China).',\n",
       " 'Republic of Korea – See Korea, The Republic of.': 'Republic of Korea – See Korea, The Republic of.',\n",
       " 'Republic of the Congo – See Congo, The.': 'Republic of the Congo – See Congo, The.',\n",
       " 'Réunion': 'REU',\n",
       " 'Romania': 'ROU',\n",
       " 'Russian Federation (the)\\u200a[v]': 'RUS',\n",
       " 'Rwanda': 'RWA',\n",
       " 'Saba – See Bonaire, Sint Eustatius and Saba.': 'Saba – See Bonaire, Sint Eustatius and Saba.',\n",
       " 'Sahrawi Arab Democratic Republic – See Western Sahara.': 'Sahrawi Arab Democratic Republic – See Western Sahara.',\n",
       " 'Saint Barthélemy': 'BLM',\n",
       " 'Saint Helena\\xa0Ascension Island\\xa0Tristan da Cunha': 'SHN',\n",
       " 'Saint Kitts and Nevis': 'KNA',\n",
       " 'Saint Lucia': 'LCA',\n",
       " 'Saint Martin (French part)': 'MAF',\n",
       " 'Saint Pierre and Miquelon': 'SPM',\n",
       " 'Saint Vincent and the Grenadines': 'VCT',\n",
       " 'Samoa': 'WSM',\n",
       " 'San Marino': 'SMR',\n",
       " 'Sao Tome and Principe': 'STP',\n",
       " 'Saudi Arabia': 'SAU',\n",
       " 'Scotland – See United Kingdom, The.': 'Scotland – See United Kingdom, The.',\n",
       " 'Senegal': 'SEN',\n",
       " 'Serbia': 'SRB',\n",
       " 'Seychelles': 'SYC',\n",
       " 'Sierra Leone': 'SLE',\n",
       " 'Singapore': 'SGP',\n",
       " 'Sint Eustatius – See Bonaire, Sint Eustatius and Saba.': 'Sint Eustatius – See Bonaire, Sint Eustatius and Saba.',\n",
       " 'Sint Maarten (Dutch part)': 'SXM',\n",
       " 'Slovakia': 'SVK',\n",
       " 'Slovenia': 'SVN',\n",
       " 'Solomon Islands': 'SLB',\n",
       " 'Somalia': 'SOM',\n",
       " 'South Africa': 'ZAF',\n",
       " 'South Georgia and the South Sandwich Islands': 'SGS',\n",
       " 'South Korea – See Korea, The Republic of.': 'South Korea – See Korea, The Republic of.',\n",
       " 'South Sudan': 'SSD',\n",
       " 'Spain': 'ESP',\n",
       " 'Sri Lanka': 'LKA',\n",
       " 'Sudan (the)': 'SDN',\n",
       " 'Suriname': 'SUR',\n",
       " 'Svalbard\\xa0Jan Mayen': 'SJM',\n",
       " 'Sweden': 'SWE',\n",
       " 'Switzerland': 'CHE',\n",
       " 'Syrian Arab Republic (the)\\u200a[x]': 'SYR',\n",
       " 'Taiwan (Province of China)\\u200a[y]': 'TWN',\n",
       " 'Tajikistan': 'TJK',\n",
       " 'Tanzania, the United Republic of': 'TZA',\n",
       " 'Thailand': 'THA',\n",
       " 'Timor-Leste\\u200a[aa]': 'TLS',\n",
       " 'Togo': 'TGO',\n",
       " 'Tokelau': 'TKL',\n",
       " 'Tonga': 'TON',\n",
       " 'Trinidad and Tobago': 'TTO',\n",
       " 'Tunisia': 'TUN',\n",
       " 'Turkey': 'TUR',\n",
       " 'Turkmenistan': 'TKM',\n",
       " 'Turks and Caicos Islands (the)': 'TCA',\n",
       " 'Tuvalu': 'TUV',\n",
       " 'Uganda': 'UGA',\n",
       " 'Ukraine': 'UKR',\n",
       " 'United Arab Emirates (the)': 'ARE',\n",
       " 'United Kingdom of Great Britain and Northern Ireland (the)': 'GBR',\n",
       " 'United States Minor Outlying Islands (the)\\u200a[ac]': 'UMI',\n",
       " 'United States of America (the)': 'USA',\n",
       " 'United States Virgin Islands – See Virgin Islands (U.S.).': 'United States Virgin Islands – See Virgin Islands (U.S.).',\n",
       " 'Uruguay': 'URY',\n",
       " 'Uzbekistan': 'UZB',\n",
       " 'Vanuatu': 'VUT',\n",
       " 'Vatican City – See Holy See, The.': 'Vatican City – See Holy See, The.',\n",
       " 'Venezuela (Bolivarian Republic of)': 'VEN',\n",
       " 'Viet Nam\\u200a[ae]': 'VNM',\n",
       " 'Virgin Islands (British)\\u200a[af]': 'VGB',\n",
       " 'Virgin Islands (U.S.)\\u200a[ag]': 'VIR',\n",
       " 'Wales – See United Kingdom, The.': 'Wales – See United Kingdom, The.',\n",
       " 'Wallis and Futuna': 'WLF',\n",
       " 'Western Sahara\\u200a[ah]': 'ESH',\n",
       " 'Yemen': 'YEM',\n",
       " 'Zambia': 'ZMB',\n",
       " 'Zimbabwe': 'ZWE',\n",
       " 'United States': 'USA',\n",
       " 'United Kingdom': 'GBR',\n",
       " 'Venezuela': 'VEN',\n",
       " 'Australia': 'AUS',\n",
       " 'Iran': 'IRN',\n",
       " 'France': 'FRA',\n",
       " 'Russia': 'RUS',\n",
       " 'Korea, North': 'PRK',\n",
       " 'Korea, South': 'KOR',\n",
       " 'Myanmar': 'MMR',\n",
       " 'Burma': 'MMR',\n",
       " 'Vietnam': 'VNM',\n",
       " 'Laos': 'LAO',\n",
       " 'Bolivia': 'BOL',\n",
       " 'Niger': 'NER',\n",
       " 'Sudan': 'SDN',\n",
       " 'Congo, Dem. Rep.': 'COD',\n",
       " 'Congo, Repub. of the': 'COG',\n",
       " 'Tanzania': 'TZA',\n",
       " 'Central African Rep.': 'CAF',\n",
       " \"Cote d'Ivoire\": 'CIV'}"
      ]
     },
     "execution_count": 93,
     "metadata": {},
     "output_type": "execute_result"
    }
   ],
   "source": [
    "iso_mapping"
   ]
  },
  {
   "cell_type": "code",
   "execution_count": 94,
   "metadata": {},
   "outputs": [],
   "source": [
    "df['ISO Code'] = df['Country'].map(iso_mapping)"
   ]
  },
  {
   "cell_type": "code",
   "execution_count": 95,
   "metadata": {},
   "outputs": [],
   "source": [
    "df['Cluster'] = model.labels_"
   ]
  },
  {
   "cell_type": "code",
   "execution_count": 97,
   "metadata": {},
   "outputs": [
    {
     "data": {
      "application/vnd.plotly.v1+json": {
       "config": {
        "plotlyServerURL": "https://plot.ly"
       },
       "data": [
        {
         "coloraxis": "coloraxis",
         "geo": "geo",
         "hovertemplate": "<b>%{hovertext}</b><br><br>ISO Code=%{location}<br>Cluster=%{z}<extra></extra>",
         "hovertext": [
          "Afghanistan",
          "Albania",
          "Algeria",
          "American Samoa",
          "Andorra",
          "Angola",
          "Anguilla",
          "Antigua & Barbuda",
          "Argentina",
          "Armenia",
          "Aruba",
          "Australia",
          "Austria",
          "Azerbaijan",
          "Bahamas, The",
          "Bahrain",
          "Bangladesh",
          "Barbados",
          "Belarus",
          "Belgium",
          "Belize",
          "Benin",
          "Bermuda",
          "Bhutan",
          "Bolivia",
          "Bosnia & Herzegovina",
          "Botswana",
          "Brazil",
          "British Virgin Is.",
          "Brunei",
          "Bulgaria",
          "Burkina Faso",
          "Burma",
          "Burundi",
          "Cambodia",
          "Cameroon",
          "Canada",
          "Cape Verde",
          "Cayman Islands",
          "Central African Rep.",
          "Chad",
          "Chile",
          "China",
          "Colombia",
          "Comoros",
          "Congo, Dem. Rep.",
          "Congo, Repub. of the",
          "Costa Rica",
          "Cote d'Ivoire",
          "Croatia",
          "Cuba",
          "Czech Republic",
          "Denmark",
          "Djibouti",
          "Dominica",
          "Dominican Republic",
          "Ecuador",
          "Egypt",
          "El Salvador",
          "Equatorial Guinea",
          "Eritrea",
          "Estonia",
          "Ethiopia",
          "Faroe Islands",
          "Fiji",
          "Finland",
          "France",
          "French Guiana",
          "French Polynesia",
          "Gabon",
          "Gambia, The",
          "Gaza Strip",
          "Georgia",
          "Germany",
          "Ghana",
          "Gibraltar",
          "Greece",
          "Greenland",
          "Grenada",
          "Guadeloupe",
          "Guam",
          "Guatemala",
          "Guinea",
          "Guinea-Bissau",
          "Guyana",
          "Haiti",
          "Honduras",
          "Hong Kong",
          "Hungary",
          "Iceland",
          "India",
          "Indonesia",
          "Iran",
          "Iraq",
          "Ireland",
          "Isle of Man",
          "Israel",
          "Italy",
          "Jamaica",
          "Japan",
          "Jersey",
          "Jordan",
          "Kazakhstan",
          "Kenya",
          "Kiribati",
          "Korea, North",
          "Korea, South",
          "Kuwait",
          "Kyrgyzstan",
          "Laos",
          "Latvia",
          "Lebanon",
          "Lesotho",
          "Liberia",
          "Libya",
          "Liechtenstein",
          "Lithuania",
          "Luxembourg",
          "Macau",
          "Macedonia",
          "Madagascar",
          "Malawi",
          "Malaysia",
          "Maldives",
          "Mali",
          "Malta",
          "Marshall Islands",
          "Martinique",
          "Mauritania",
          "Mauritius",
          "Mayotte",
          "Mexico",
          "Micronesia, Fed. St.",
          "Moldova",
          "Mongolia",
          "Montserrat",
          "Morocco",
          "Mozambique",
          "Namibia",
          "Nauru",
          "Nepal",
          "Netherlands",
          "Netherlands Antilles",
          "New Caledonia",
          "New Zealand",
          "Nicaragua",
          "Niger",
          "Nigeria",
          "N. Mariana Islands",
          "Norway",
          "Oman",
          "Pakistan",
          "Palau",
          "Panama",
          "Papua New Guinea",
          "Paraguay",
          "Peru",
          "Philippines",
          "Poland",
          "Portugal",
          "Puerto Rico",
          "Qatar",
          "Reunion",
          "Romania",
          "Russia",
          "Rwanda",
          "Saint Helena",
          "Saint Kitts & Nevis",
          "Saint Lucia",
          "St Pierre & Miquelon",
          "Saint Vincent and the Grenadines",
          "Samoa",
          "San Marino",
          "Sao Tome & Principe",
          "Saudi Arabia",
          "Senegal",
          "Seychelles",
          "Sierra Leone",
          "Singapore",
          "Slovakia",
          "Slovenia",
          "Solomon Islands",
          "Somalia",
          "South Africa",
          "Spain",
          "Sri Lanka",
          "Sudan",
          "Suriname",
          "Swaziland",
          "Sweden",
          "Switzerland",
          "Syria",
          "Taiwan",
          "Tajikistan",
          "Tanzania",
          "Thailand",
          "Togo",
          "Tonga",
          "Trinidad & Tobago",
          "Tunisia",
          "Turkey",
          "Turkmenistan",
          "Turks & Caicos Is",
          "Tuvalu",
          "Uganda",
          "Ukraine",
          "United Arab Emirates",
          "United Kingdom",
          "United States",
          "Uruguay",
          "Uzbekistan",
          "Vanuatu",
          "Venezuela",
          "Vietnam",
          "Virgin Islands",
          "Wallis and Futuna",
          "West Bank",
          "Western Sahara",
          "Yemen",
          "Zambia",
          "Zimbabwe"
         ],
         "locations": [
          "AFG",
          "ALB",
          "DZA",
          "ASM",
          "AND",
          "AGO",
          "AIA",
          null,
          "ARG",
          "ARM",
          "ABW",
          "AUS",
          "AUT",
          "AZE",
          null,
          "BHR",
          "BGD",
          "BRB",
          "BLR",
          "BEL",
          "BLZ",
          "BEN",
          "BMU",
          "BTN",
          "BOL",
          null,
          "BWA",
          "BRA",
          null,
          null,
          "BGR",
          "BFA",
          "MMR",
          "BDI",
          "KHM",
          "CMR",
          "CAN",
          null,
          null,
          "CAF",
          "TCD",
          "CHL",
          "CHN",
          "COL",
          null,
          "COD",
          "COG",
          "CRI",
          "CIV",
          "HRV",
          "CUB",
          null,
          "DNK",
          "DJI",
          "DMA",
          null,
          "ECU",
          "EGY",
          "SLV",
          "GNQ",
          "ERI",
          "EST",
          "ETH",
          null,
          "FJI",
          "FIN",
          "FRA",
          "GUF",
          "PYF",
          "GAB",
          null,
          null,
          "GEO",
          "DEU",
          "GHA",
          "GIB",
          "GRC",
          "GRL",
          "GRD",
          "GLP",
          "GUM",
          "GTM",
          "GIN",
          "GNB",
          "GUY",
          "HTI",
          "HND",
          "HKG",
          "HUN",
          "ISL",
          "IND",
          "IDN",
          "IRN",
          "IRQ",
          "IRL",
          "IMN",
          "ISR",
          "ITA",
          "JAM",
          "JPN",
          "JEY",
          "JOR",
          "KAZ",
          "KEN",
          "KIR",
          "PRK",
          "KOR",
          "KWT",
          "KGZ",
          "LAO",
          "LVA",
          "LBN",
          "LSO",
          "LBR",
          "LBY",
          "LIE",
          "LTU",
          "LUX",
          null,
          null,
          "MDG",
          "MWI",
          "MYS",
          "MDV",
          "MLI",
          "MLT",
          null,
          "MTQ",
          "MRT",
          "MUS",
          "MYT",
          "MEX",
          null,
          null,
          "MNG",
          "MSR",
          "MAR",
          "MOZ",
          "NAM",
          "NRU",
          "NPL",
          null,
          null,
          "NCL",
          "NZL",
          "NIC",
          "NER",
          "NGA",
          null,
          "NOR",
          "OMN",
          "PAK",
          "PLW",
          "PAN",
          "PNG",
          "PRY",
          "PER",
          null,
          "POL",
          "PRT",
          "PRI",
          "QAT",
          null,
          "ROU",
          "RUS",
          "RWA",
          null,
          null,
          "LCA",
          null,
          "VCT",
          "WSM",
          "SMR",
          null,
          "SAU",
          "SEN",
          "SYC",
          "SLE",
          "SGP",
          "SVK",
          "SVN",
          "SLB",
          "SOM",
          "ZAF",
          "ESP",
          "LKA",
          "SDN",
          "SUR",
          null,
          "SWE",
          "CHE",
          null,
          null,
          "TJK",
          "TZA",
          "THA",
          "TGO",
          "TON",
          null,
          "TUN",
          "TUR",
          "TKM",
          null,
          "TUV",
          "UGA",
          "UKR",
          null,
          "GBR",
          "USA",
          "URY",
          "UZB",
          "VUT",
          "VEN",
          "VNM",
          null,
          "WLF",
          null,
          null,
          "YEM",
          "ZMB",
          "ZWE"
         ],
         "name": "",
         "type": "choropleth",
         "z": [
          1,
          0,
          0,
          0,
          2,
          1,
          0,
          0,
          0,
          0,
          2,
          2,
          2,
          0,
          0,
          0,
          0,
          2,
          2,
          2,
          0,
          1,
          2,
          1,
          0,
          2,
          1,
          0,
          2,
          0,
          2,
          1,
          1,
          1,
          1,
          1,
          2,
          0,
          2,
          1,
          1,
          0,
          0,
          0,
          1,
          1,
          1,
          0,
          1,
          2,
          0,
          2,
          2,
          1,
          0,
          0,
          0,
          0,
          0,
          1,
          1,
          2,
          1,
          2,
          0,
          2,
          2,
          0,
          0,
          1,
          1,
          0,
          0,
          2,
          1,
          2,
          2,
          0,
          0,
          0,
          0,
          0,
          1,
          1,
          0,
          1,
          0,
          2,
          2,
          2,
          0,
          0,
          0,
          0,
          2,
          2,
          2,
          2,
          0,
          2,
          2,
          0,
          0,
          1,
          0,
          0,
          2,
          0,
          0,
          1,
          2,
          0,
          1,
          1,
          0,
          2,
          2,
          2,
          2,
          2,
          1,
          1,
          0,
          0,
          1,
          2,
          0,
          0,
          1,
          0,
          1,
          0,
          0,
          0,
          0,
          0,
          0,
          1,
          1,
          0,
          1,
          2,
          0,
          0,
          2,
          0,
          1,
          1,
          0,
          2,
          0,
          1,
          0,
          0,
          0,
          0,
          0,
          0,
          2,
          2,
          0,
          0,
          0,
          2,
          0,
          1,
          0,
          0,
          0,
          0,
          0,
          0,
          2,
          0,
          0,
          1,
          0,
          1,
          2,
          2,
          2,
          0,
          1,
          1,
          2,
          0,
          1,
          0,
          1,
          2,
          2,
          0,
          2,
          0,
          1,
          0,
          1,
          0,
          0,
          0,
          0,
          0,
          0,
          0,
          1,
          0,
          0,
          2,
          2,
          0,
          0,
          0,
          0,
          0,
          0,
          0,
          0,
          0,
          1,
          1,
          1
         ]
        }
       ],
       "layout": {
        "coloraxis": {
         "colorbar": {
          "title": {
           "text": "Cluster"
          }
         },
         "colorscale": [
          [
           0,
           "#30123b"
          ],
          [
           0.07142857142857142,
           "#4145ab"
          ],
          [
           0.14285714285714285,
           "#4675ed"
          ],
          [
           0.21428571428571427,
           "#39a2fc"
          ],
          [
           0.2857142857142857,
           "#1bcfd4"
          ],
          [
           0.35714285714285715,
           "#24eca6"
          ],
          [
           0.42857142857142855,
           "#61fc6c"
          ],
          [
           0.5,
           "#a4fc3b"
          ],
          [
           0.5714285714285714,
           "#d1e834"
          ],
          [
           0.6428571428571429,
           "#f3c63a"
          ],
          [
           0.7142857142857143,
           "#fe9b2d"
          ],
          [
           0.7857142857142857,
           "#f36315"
          ],
          [
           0.8571428571428571,
           "#d93806"
          ],
          [
           0.9285714285714286,
           "#b11901"
          ],
          [
           1,
           "#7a0402"
          ]
         ]
        },
        "geo": {
         "center": {},
         "domain": {
          "x": [
           0,
           1
          ],
          "y": [
           0,
           1
          ]
         }
        },
        "legend": {
         "tracegroupgap": 0
        },
        "margin": {
         "t": 60
        },
        "template": {
         "data": {
          "bar": [
           {
            "error_x": {
             "color": "#2a3f5f"
            },
            "error_y": {
             "color": "#2a3f5f"
            },
            "marker": {
             "line": {
              "color": "#E5ECF6",
              "width": 0.5
             },
             "pattern": {
              "fillmode": "overlay",
              "size": 10,
              "solidity": 0.2
             }
            },
            "type": "bar"
           }
          ],
          "barpolar": [
           {
            "marker": {
             "line": {
              "color": "#E5ECF6",
              "width": 0.5
             },
             "pattern": {
              "fillmode": "overlay",
              "size": 10,
              "solidity": 0.2
             }
            },
            "type": "barpolar"
           }
          ],
          "carpet": [
           {
            "aaxis": {
             "endlinecolor": "#2a3f5f",
             "gridcolor": "white",
             "linecolor": "white",
             "minorgridcolor": "white",
             "startlinecolor": "#2a3f5f"
            },
            "baxis": {
             "endlinecolor": "#2a3f5f",
             "gridcolor": "white",
             "linecolor": "white",
             "minorgridcolor": "white",
             "startlinecolor": "#2a3f5f"
            },
            "type": "carpet"
           }
          ],
          "choropleth": [
           {
            "colorbar": {
             "outlinewidth": 0,
             "ticks": ""
            },
            "type": "choropleth"
           }
          ],
          "contour": [
           {
            "colorbar": {
             "outlinewidth": 0,
             "ticks": ""
            },
            "colorscale": [
             [
              0,
              "#0d0887"
             ],
             [
              0.1111111111111111,
              "#46039f"
             ],
             [
              0.2222222222222222,
              "#7201a8"
             ],
             [
              0.3333333333333333,
              "#9c179e"
             ],
             [
              0.4444444444444444,
              "#bd3786"
             ],
             [
              0.5555555555555556,
              "#d8576b"
             ],
             [
              0.6666666666666666,
              "#ed7953"
             ],
             [
              0.7777777777777778,
              "#fb9f3a"
             ],
             [
              0.8888888888888888,
              "#fdca26"
             ],
             [
              1,
              "#f0f921"
             ]
            ],
            "type": "contour"
           }
          ],
          "contourcarpet": [
           {
            "colorbar": {
             "outlinewidth": 0,
             "ticks": ""
            },
            "type": "contourcarpet"
           }
          ],
          "heatmap": [
           {
            "colorbar": {
             "outlinewidth": 0,
             "ticks": ""
            },
            "colorscale": [
             [
              0,
              "#0d0887"
             ],
             [
              0.1111111111111111,
              "#46039f"
             ],
             [
              0.2222222222222222,
              "#7201a8"
             ],
             [
              0.3333333333333333,
              "#9c179e"
             ],
             [
              0.4444444444444444,
              "#bd3786"
             ],
             [
              0.5555555555555556,
              "#d8576b"
             ],
             [
              0.6666666666666666,
              "#ed7953"
             ],
             [
              0.7777777777777778,
              "#fb9f3a"
             ],
             [
              0.8888888888888888,
              "#fdca26"
             ],
             [
              1,
              "#f0f921"
             ]
            ],
            "type": "heatmap"
           }
          ],
          "heatmapgl": [
           {
            "colorbar": {
             "outlinewidth": 0,
             "ticks": ""
            },
            "colorscale": [
             [
              0,
              "#0d0887"
             ],
             [
              0.1111111111111111,
              "#46039f"
             ],
             [
              0.2222222222222222,
              "#7201a8"
             ],
             [
              0.3333333333333333,
              "#9c179e"
             ],
             [
              0.4444444444444444,
              "#bd3786"
             ],
             [
              0.5555555555555556,
              "#d8576b"
             ],
             [
              0.6666666666666666,
              "#ed7953"
             ],
             [
              0.7777777777777778,
              "#fb9f3a"
             ],
             [
              0.8888888888888888,
              "#fdca26"
             ],
             [
              1,
              "#f0f921"
             ]
            ],
            "type": "heatmapgl"
           }
          ],
          "histogram": [
           {
            "marker": {
             "pattern": {
              "fillmode": "overlay",
              "size": 10,
              "solidity": 0.2
             }
            },
            "type": "histogram"
           }
          ],
          "histogram2d": [
           {
            "colorbar": {
             "outlinewidth": 0,
             "ticks": ""
            },
            "colorscale": [
             [
              0,
              "#0d0887"
             ],
             [
              0.1111111111111111,
              "#46039f"
             ],
             [
              0.2222222222222222,
              "#7201a8"
             ],
             [
              0.3333333333333333,
              "#9c179e"
             ],
             [
              0.4444444444444444,
              "#bd3786"
             ],
             [
              0.5555555555555556,
              "#d8576b"
             ],
             [
              0.6666666666666666,
              "#ed7953"
             ],
             [
              0.7777777777777778,
              "#fb9f3a"
             ],
             [
              0.8888888888888888,
              "#fdca26"
             ],
             [
              1,
              "#f0f921"
             ]
            ],
            "type": "histogram2d"
           }
          ],
          "histogram2dcontour": [
           {
            "colorbar": {
             "outlinewidth": 0,
             "ticks": ""
            },
            "colorscale": [
             [
              0,
              "#0d0887"
             ],
             [
              0.1111111111111111,
              "#46039f"
             ],
             [
              0.2222222222222222,
              "#7201a8"
             ],
             [
              0.3333333333333333,
              "#9c179e"
             ],
             [
              0.4444444444444444,
              "#bd3786"
             ],
             [
              0.5555555555555556,
              "#d8576b"
             ],
             [
              0.6666666666666666,
              "#ed7953"
             ],
             [
              0.7777777777777778,
              "#fb9f3a"
             ],
             [
              0.8888888888888888,
              "#fdca26"
             ],
             [
              1,
              "#f0f921"
             ]
            ],
            "type": "histogram2dcontour"
           }
          ],
          "mesh3d": [
           {
            "colorbar": {
             "outlinewidth": 0,
             "ticks": ""
            },
            "type": "mesh3d"
           }
          ],
          "parcoords": [
           {
            "line": {
             "colorbar": {
              "outlinewidth": 0,
              "ticks": ""
             }
            },
            "type": "parcoords"
           }
          ],
          "pie": [
           {
            "automargin": true,
            "type": "pie"
           }
          ],
          "scatter": [
           {
            "marker": {
             "colorbar": {
              "outlinewidth": 0,
              "ticks": ""
             }
            },
            "type": "scatter"
           }
          ],
          "scatter3d": [
           {
            "line": {
             "colorbar": {
              "outlinewidth": 0,
              "ticks": ""
             }
            },
            "marker": {
             "colorbar": {
              "outlinewidth": 0,
              "ticks": ""
             }
            },
            "type": "scatter3d"
           }
          ],
          "scattercarpet": [
           {
            "marker": {
             "colorbar": {
              "outlinewidth": 0,
              "ticks": ""
             }
            },
            "type": "scattercarpet"
           }
          ],
          "scattergeo": [
           {
            "marker": {
             "colorbar": {
              "outlinewidth": 0,
              "ticks": ""
             }
            },
            "type": "scattergeo"
           }
          ],
          "scattergl": [
           {
            "marker": {
             "colorbar": {
              "outlinewidth": 0,
              "ticks": ""
             }
            },
            "type": "scattergl"
           }
          ],
          "scattermapbox": [
           {
            "marker": {
             "colorbar": {
              "outlinewidth": 0,
              "ticks": ""
             }
            },
            "type": "scattermapbox"
           }
          ],
          "scatterpolar": [
           {
            "marker": {
             "colorbar": {
              "outlinewidth": 0,
              "ticks": ""
             }
            },
            "type": "scatterpolar"
           }
          ],
          "scatterpolargl": [
           {
            "marker": {
             "colorbar": {
              "outlinewidth": 0,
              "ticks": ""
             }
            },
            "type": "scatterpolargl"
           }
          ],
          "scatterternary": [
           {
            "marker": {
             "colorbar": {
              "outlinewidth": 0,
              "ticks": ""
             }
            },
            "type": "scatterternary"
           }
          ],
          "surface": [
           {
            "colorbar": {
             "outlinewidth": 0,
             "ticks": ""
            },
            "colorscale": [
             [
              0,
              "#0d0887"
             ],
             [
              0.1111111111111111,
              "#46039f"
             ],
             [
              0.2222222222222222,
              "#7201a8"
             ],
             [
              0.3333333333333333,
              "#9c179e"
             ],
             [
              0.4444444444444444,
              "#bd3786"
             ],
             [
              0.5555555555555556,
              "#d8576b"
             ],
             [
              0.6666666666666666,
              "#ed7953"
             ],
             [
              0.7777777777777778,
              "#fb9f3a"
             ],
             [
              0.8888888888888888,
              "#fdca26"
             ],
             [
              1,
              "#f0f921"
             ]
            ],
            "type": "surface"
           }
          ],
          "table": [
           {
            "cells": {
             "fill": {
              "color": "#EBF0F8"
             },
             "line": {
              "color": "white"
             }
            },
            "header": {
             "fill": {
              "color": "#C8D4E3"
             },
             "line": {
              "color": "white"
             }
            },
            "type": "table"
           }
          ]
         },
         "layout": {
          "annotationdefaults": {
           "arrowcolor": "#2a3f5f",
           "arrowhead": 0,
           "arrowwidth": 1
          },
          "autotypenumbers": "strict",
          "coloraxis": {
           "colorbar": {
            "outlinewidth": 0,
            "ticks": ""
           }
          },
          "colorscale": {
           "diverging": [
            [
             0,
             "#8e0152"
            ],
            [
             0.1,
             "#c51b7d"
            ],
            [
             0.2,
             "#de77ae"
            ],
            [
             0.3,
             "#f1b6da"
            ],
            [
             0.4,
             "#fde0ef"
            ],
            [
             0.5,
             "#f7f7f7"
            ],
            [
             0.6,
             "#e6f5d0"
            ],
            [
             0.7,
             "#b8e186"
            ],
            [
             0.8,
             "#7fbc41"
            ],
            [
             0.9,
             "#4d9221"
            ],
            [
             1,
             "#276419"
            ]
           ],
           "sequential": [
            [
             0,
             "#0d0887"
            ],
            [
             0.1111111111111111,
             "#46039f"
            ],
            [
             0.2222222222222222,
             "#7201a8"
            ],
            [
             0.3333333333333333,
             "#9c179e"
            ],
            [
             0.4444444444444444,
             "#bd3786"
            ],
            [
             0.5555555555555556,
             "#d8576b"
            ],
            [
             0.6666666666666666,
             "#ed7953"
            ],
            [
             0.7777777777777778,
             "#fb9f3a"
            ],
            [
             0.8888888888888888,
             "#fdca26"
            ],
            [
             1,
             "#f0f921"
            ]
           ],
           "sequentialminus": [
            [
             0,
             "#0d0887"
            ],
            [
             0.1111111111111111,
             "#46039f"
            ],
            [
             0.2222222222222222,
             "#7201a8"
            ],
            [
             0.3333333333333333,
             "#9c179e"
            ],
            [
             0.4444444444444444,
             "#bd3786"
            ],
            [
             0.5555555555555556,
             "#d8576b"
            ],
            [
             0.6666666666666666,
             "#ed7953"
            ],
            [
             0.7777777777777778,
             "#fb9f3a"
            ],
            [
             0.8888888888888888,
             "#fdca26"
            ],
            [
             1,
             "#f0f921"
            ]
           ]
          },
          "colorway": [
           "#636efa",
           "#EF553B",
           "#00cc96",
           "#ab63fa",
           "#FFA15A",
           "#19d3f3",
           "#FF6692",
           "#B6E880",
           "#FF97FF",
           "#FECB52"
          ],
          "font": {
           "color": "#2a3f5f"
          },
          "geo": {
           "bgcolor": "white",
           "lakecolor": "white",
           "landcolor": "#E5ECF6",
           "showlakes": true,
           "showland": true,
           "subunitcolor": "white"
          },
          "hoverlabel": {
           "align": "left"
          },
          "hovermode": "closest",
          "mapbox": {
           "style": "light"
          },
          "paper_bgcolor": "white",
          "plot_bgcolor": "#E5ECF6",
          "polar": {
           "angularaxis": {
            "gridcolor": "white",
            "linecolor": "white",
            "ticks": ""
           },
           "bgcolor": "#E5ECF6",
           "radialaxis": {
            "gridcolor": "white",
            "linecolor": "white",
            "ticks": ""
           }
          },
          "scene": {
           "xaxis": {
            "backgroundcolor": "#E5ECF6",
            "gridcolor": "white",
            "gridwidth": 2,
            "linecolor": "white",
            "showbackground": true,
            "ticks": "",
            "zerolinecolor": "white"
           },
           "yaxis": {
            "backgroundcolor": "#E5ECF6",
            "gridcolor": "white",
            "gridwidth": 2,
            "linecolor": "white",
            "showbackground": true,
            "ticks": "",
            "zerolinecolor": "white"
           },
           "zaxis": {
            "backgroundcolor": "#E5ECF6",
            "gridcolor": "white",
            "gridwidth": 2,
            "linecolor": "white",
            "showbackground": true,
            "ticks": "",
            "zerolinecolor": "white"
           }
          },
          "shapedefaults": {
           "line": {
            "color": "#2a3f5f"
           }
          },
          "ternary": {
           "aaxis": {
            "gridcolor": "white",
            "linecolor": "white",
            "ticks": ""
           },
           "baxis": {
            "gridcolor": "white",
            "linecolor": "white",
            "ticks": ""
           },
           "bgcolor": "#E5ECF6",
           "caxis": {
            "gridcolor": "white",
            "linecolor": "white",
            "ticks": ""
           }
          },
          "title": {
           "x": 0.05
          },
          "xaxis": {
           "automargin": true,
           "gridcolor": "white",
           "linecolor": "white",
           "ticks": "",
           "title": {
            "standoff": 15
           },
           "zerolinecolor": "white",
           "zerolinewidth": 2
          },
          "yaxis": {
           "automargin": true,
           "gridcolor": "white",
           "linecolor": "white",
           "ticks": "",
           "title": {
            "standoff": 15
           },
           "zerolinecolor": "white",
           "zerolinewidth": 2
          }
         }
        }
       }
      },
      "text/html": [
       "<div>                            <div id=\"f1386692-aee4-4fd5-8e23-305ea3829c2e\" class=\"plotly-graph-div\" style=\"height:525px; width:100%;\"></div>            <script type=\"text/javascript\">                require([\"plotly\"], function(Plotly) {                    window.PLOTLYENV=window.PLOTLYENV || {};                                    if (document.getElementById(\"f1386692-aee4-4fd5-8e23-305ea3829c2e\")) {                    Plotly.newPlot(                        \"f1386692-aee4-4fd5-8e23-305ea3829c2e\",                        [{\"coloraxis\":\"coloraxis\",\"geo\":\"geo\",\"hovertemplate\":\"<b>%{hovertext}</b><br><br>ISO Code=%{location}<br>Cluster=%{z}<extra></extra>\",\"hovertext\":[\"Afghanistan\",\"Albania\",\"Algeria\",\"American Samoa\",\"Andorra\",\"Angola\",\"Anguilla\",\"Antigua & Barbuda\",\"Argentina\",\"Armenia\",\"Aruba\",\"Australia\",\"Austria\",\"Azerbaijan\",\"Bahamas, The\",\"Bahrain\",\"Bangladesh\",\"Barbados\",\"Belarus\",\"Belgium\",\"Belize\",\"Benin\",\"Bermuda\",\"Bhutan\",\"Bolivia\",\"Bosnia & Herzegovina\",\"Botswana\",\"Brazil\",\"British Virgin Is.\",\"Brunei\",\"Bulgaria\",\"Burkina Faso\",\"Burma\",\"Burundi\",\"Cambodia\",\"Cameroon\",\"Canada\",\"Cape Verde\",\"Cayman Islands\",\"Central African Rep.\",\"Chad\",\"Chile\",\"China\",\"Colombia\",\"Comoros\",\"Congo, Dem. Rep.\",\"Congo, Repub. of the\",\"Costa Rica\",\"Cote d'Ivoire\",\"Croatia\",\"Cuba\",\"Czech Republic\",\"Denmark\",\"Djibouti\",\"Dominica\",\"Dominican Republic\",\"Ecuador\",\"Egypt\",\"El Salvador\",\"Equatorial Guinea\",\"Eritrea\",\"Estonia\",\"Ethiopia\",\"Faroe Islands\",\"Fiji\",\"Finland\",\"France\",\"French Guiana\",\"French Polynesia\",\"Gabon\",\"Gambia, The\",\"Gaza Strip\",\"Georgia\",\"Germany\",\"Ghana\",\"Gibraltar\",\"Greece\",\"Greenland\",\"Grenada\",\"Guadeloupe\",\"Guam\",\"Guatemala\",\"Guinea\",\"Guinea-Bissau\",\"Guyana\",\"Haiti\",\"Honduras\",\"Hong Kong\",\"Hungary\",\"Iceland\",\"India\",\"Indonesia\",\"Iran\",\"Iraq\",\"Ireland\",\"Isle of Man\",\"Israel\",\"Italy\",\"Jamaica\",\"Japan\",\"Jersey\",\"Jordan\",\"Kazakhstan\",\"Kenya\",\"Kiribati\",\"Korea, North\",\"Korea, South\",\"Kuwait\",\"Kyrgyzstan\",\"Laos\",\"Latvia\",\"Lebanon\",\"Lesotho\",\"Liberia\",\"Libya\",\"Liechtenstein\",\"Lithuania\",\"Luxembourg\",\"Macau\",\"Macedonia\",\"Madagascar\",\"Malawi\",\"Malaysia\",\"Maldives\",\"Mali\",\"Malta\",\"Marshall Islands\",\"Martinique\",\"Mauritania\",\"Mauritius\",\"Mayotte\",\"Mexico\",\"Micronesia, Fed. St.\",\"Moldova\",\"Mongolia\",\"Montserrat\",\"Morocco\",\"Mozambique\",\"Namibia\",\"Nauru\",\"Nepal\",\"Netherlands\",\"Netherlands Antilles\",\"New Caledonia\",\"New Zealand\",\"Nicaragua\",\"Niger\",\"Nigeria\",\"N. Mariana Islands\",\"Norway\",\"Oman\",\"Pakistan\",\"Palau\",\"Panama\",\"Papua New Guinea\",\"Paraguay\",\"Peru\",\"Philippines\",\"Poland\",\"Portugal\",\"Puerto Rico\",\"Qatar\",\"Reunion\",\"Romania\",\"Russia\",\"Rwanda\",\"Saint Helena\",\"Saint Kitts & Nevis\",\"Saint Lucia\",\"St Pierre & Miquelon\",\"Saint Vincent and the Grenadines\",\"Samoa\",\"San Marino\",\"Sao Tome & Principe\",\"Saudi Arabia\",\"Senegal\",\"Seychelles\",\"Sierra Leone\",\"Singapore\",\"Slovakia\",\"Slovenia\",\"Solomon Islands\",\"Somalia\",\"South Africa\",\"Spain\",\"Sri Lanka\",\"Sudan\",\"Suriname\",\"Swaziland\",\"Sweden\",\"Switzerland\",\"Syria\",\"Taiwan\",\"Tajikistan\",\"Tanzania\",\"Thailand\",\"Togo\",\"Tonga\",\"Trinidad & Tobago\",\"Tunisia\",\"Turkey\",\"Turkmenistan\",\"Turks & Caicos Is\",\"Tuvalu\",\"Uganda\",\"Ukraine\",\"United Arab Emirates\",\"United Kingdom\",\"United States\",\"Uruguay\",\"Uzbekistan\",\"Vanuatu\",\"Venezuela\",\"Vietnam\",\"Virgin Islands\",\"Wallis and Futuna\",\"West Bank\",\"Western Sahara\",\"Yemen\",\"Zambia\",\"Zimbabwe\"],\"locations\":[\"AFG\",\"ALB\",\"DZA\",\"ASM\",\"AND\",\"AGO\",\"AIA\",null,\"ARG\",\"ARM\",\"ABW\",\"AUS\",\"AUT\",\"AZE\",null,\"BHR\",\"BGD\",\"BRB\",\"BLR\",\"BEL\",\"BLZ\",\"BEN\",\"BMU\",\"BTN\",\"BOL\",null,\"BWA\",\"BRA\",null,null,\"BGR\",\"BFA\",\"MMR\",\"BDI\",\"KHM\",\"CMR\",\"CAN\",null,null,\"CAF\",\"TCD\",\"CHL\",\"CHN\",\"COL\",null,\"COD\",\"COG\",\"CRI\",\"CIV\",\"HRV\",\"CUB\",null,\"DNK\",\"DJI\",\"DMA\",null,\"ECU\",\"EGY\",\"SLV\",\"GNQ\",\"ERI\",\"EST\",\"ETH\",null,\"FJI\",\"FIN\",\"FRA\",\"GUF\",\"PYF\",\"GAB\",null,null,\"GEO\",\"DEU\",\"GHA\",\"GIB\",\"GRC\",\"GRL\",\"GRD\",\"GLP\",\"GUM\",\"GTM\",\"GIN\",\"GNB\",\"GUY\",\"HTI\",\"HND\",\"HKG\",\"HUN\",\"ISL\",\"IND\",\"IDN\",\"IRN\",\"IRQ\",\"IRL\",\"IMN\",\"ISR\",\"ITA\",\"JAM\",\"JPN\",\"JEY\",\"JOR\",\"KAZ\",\"KEN\",\"KIR\",\"PRK\",\"KOR\",\"KWT\",\"KGZ\",\"LAO\",\"LVA\",\"LBN\",\"LSO\",\"LBR\",\"LBY\",\"LIE\",\"LTU\",\"LUX\",null,null,\"MDG\",\"MWI\",\"MYS\",\"MDV\",\"MLI\",\"MLT\",null,\"MTQ\",\"MRT\",\"MUS\",\"MYT\",\"MEX\",null,null,\"MNG\",\"MSR\",\"MAR\",\"MOZ\",\"NAM\",\"NRU\",\"NPL\",null,null,\"NCL\",\"NZL\",\"NIC\",\"NER\",\"NGA\",null,\"NOR\",\"OMN\",\"PAK\",\"PLW\",\"PAN\",\"PNG\",\"PRY\",\"PER\",null,\"POL\",\"PRT\",\"PRI\",\"QAT\",null,\"ROU\",\"RUS\",\"RWA\",null,null,\"LCA\",null,\"VCT\",\"WSM\",\"SMR\",null,\"SAU\",\"SEN\",\"SYC\",\"SLE\",\"SGP\",\"SVK\",\"SVN\",\"SLB\",\"SOM\",\"ZAF\",\"ESP\",\"LKA\",\"SDN\",\"SUR\",null,\"SWE\",\"CHE\",null,null,\"TJK\",\"TZA\",\"THA\",\"TGO\",\"TON\",null,\"TUN\",\"TUR\",\"TKM\",null,\"TUV\",\"UGA\",\"UKR\",null,\"GBR\",\"USA\",\"URY\",\"UZB\",\"VUT\",\"VEN\",\"VNM\",null,\"WLF\",null,null,\"YEM\",\"ZMB\",\"ZWE\"],\"name\":\"\",\"type\":\"choropleth\",\"z\":[1,0,0,0,2,1,0,0,0,0,2,2,2,0,0,0,0,2,2,2,0,1,2,1,0,2,1,0,2,0,2,1,1,1,1,1,2,0,2,1,1,0,0,0,1,1,1,0,1,2,0,2,2,1,0,0,0,0,0,1,1,2,1,2,0,2,2,0,0,1,1,0,0,2,1,2,2,0,0,0,0,0,1,1,0,1,0,2,2,2,0,0,0,0,2,2,2,2,0,2,2,0,0,1,0,0,2,0,0,1,2,0,1,1,0,2,2,2,2,2,1,1,0,0,1,2,0,0,1,0,1,0,0,0,0,0,0,1,1,0,1,2,0,0,2,0,1,1,0,2,0,1,0,0,0,0,0,0,2,2,0,0,0,2,0,1,0,0,0,0,0,0,2,0,0,1,0,1,2,2,2,0,1,1,2,0,1,0,1,2,2,0,2,0,1,0,1,0,0,0,0,0,0,0,1,0,0,2,2,0,0,0,0,0,0,0,0,0,1,1,1]}],                        {\"coloraxis\":{\"colorbar\":{\"title\":{\"text\":\"Cluster\"}},\"colorscale\":[[0.0,\"#30123b\"],[0.07142857142857142,\"#4145ab\"],[0.14285714285714285,\"#4675ed\"],[0.21428571428571427,\"#39a2fc\"],[0.2857142857142857,\"#1bcfd4\"],[0.35714285714285715,\"#24eca6\"],[0.42857142857142855,\"#61fc6c\"],[0.5,\"#a4fc3b\"],[0.5714285714285714,\"#d1e834\"],[0.6428571428571429,\"#f3c63a\"],[0.7142857142857143,\"#fe9b2d\"],[0.7857142857142857,\"#f36315\"],[0.8571428571428571,\"#d93806\"],[0.9285714285714286,\"#b11901\"],[1.0,\"#7a0402\"]]},\"geo\":{\"center\":{},\"domain\":{\"x\":[0.0,1.0],\"y\":[0.0,1.0]}},\"legend\":{\"tracegroupgap\":0},\"margin\":{\"t\":60},\"template\":{\"data\":{\"bar\":[{\"error_x\":{\"color\":\"#2a3f5f\"},\"error_y\":{\"color\":\"#2a3f5f\"},\"marker\":{\"line\":{\"color\":\"#E5ECF6\",\"width\":0.5},\"pattern\":{\"fillmode\":\"overlay\",\"size\":10,\"solidity\":0.2}},\"type\":\"bar\"}],\"barpolar\":[{\"marker\":{\"line\":{\"color\":\"#E5ECF6\",\"width\":0.5},\"pattern\":{\"fillmode\":\"overlay\",\"size\":10,\"solidity\":0.2}},\"type\":\"barpolar\"}],\"carpet\":[{\"aaxis\":{\"endlinecolor\":\"#2a3f5f\",\"gridcolor\":\"white\",\"linecolor\":\"white\",\"minorgridcolor\":\"white\",\"startlinecolor\":\"#2a3f5f\"},\"baxis\":{\"endlinecolor\":\"#2a3f5f\",\"gridcolor\":\"white\",\"linecolor\":\"white\",\"minorgridcolor\":\"white\",\"startlinecolor\":\"#2a3f5f\"},\"type\":\"carpet\"}],\"choropleth\":[{\"colorbar\":{\"outlinewidth\":0,\"ticks\":\"\"},\"type\":\"choropleth\"}],\"contour\":[{\"colorbar\":{\"outlinewidth\":0,\"ticks\":\"\"},\"colorscale\":[[0.0,\"#0d0887\"],[0.1111111111111111,\"#46039f\"],[0.2222222222222222,\"#7201a8\"],[0.3333333333333333,\"#9c179e\"],[0.4444444444444444,\"#bd3786\"],[0.5555555555555556,\"#d8576b\"],[0.6666666666666666,\"#ed7953\"],[0.7777777777777778,\"#fb9f3a\"],[0.8888888888888888,\"#fdca26\"],[1.0,\"#f0f921\"]],\"type\":\"contour\"}],\"contourcarpet\":[{\"colorbar\":{\"outlinewidth\":0,\"ticks\":\"\"},\"type\":\"contourcarpet\"}],\"heatmap\":[{\"colorbar\":{\"outlinewidth\":0,\"ticks\":\"\"},\"colorscale\":[[0.0,\"#0d0887\"],[0.1111111111111111,\"#46039f\"],[0.2222222222222222,\"#7201a8\"],[0.3333333333333333,\"#9c179e\"],[0.4444444444444444,\"#bd3786\"],[0.5555555555555556,\"#d8576b\"],[0.6666666666666666,\"#ed7953\"],[0.7777777777777778,\"#fb9f3a\"],[0.8888888888888888,\"#fdca26\"],[1.0,\"#f0f921\"]],\"type\":\"heatmap\"}],\"heatmapgl\":[{\"colorbar\":{\"outlinewidth\":0,\"ticks\":\"\"},\"colorscale\":[[0.0,\"#0d0887\"],[0.1111111111111111,\"#46039f\"],[0.2222222222222222,\"#7201a8\"],[0.3333333333333333,\"#9c179e\"],[0.4444444444444444,\"#bd3786\"],[0.5555555555555556,\"#d8576b\"],[0.6666666666666666,\"#ed7953\"],[0.7777777777777778,\"#fb9f3a\"],[0.8888888888888888,\"#fdca26\"],[1.0,\"#f0f921\"]],\"type\":\"heatmapgl\"}],\"histogram\":[{\"marker\":{\"pattern\":{\"fillmode\":\"overlay\",\"size\":10,\"solidity\":0.2}},\"type\":\"histogram\"}],\"histogram2d\":[{\"colorbar\":{\"outlinewidth\":0,\"ticks\":\"\"},\"colorscale\":[[0.0,\"#0d0887\"],[0.1111111111111111,\"#46039f\"],[0.2222222222222222,\"#7201a8\"],[0.3333333333333333,\"#9c179e\"],[0.4444444444444444,\"#bd3786\"],[0.5555555555555556,\"#d8576b\"],[0.6666666666666666,\"#ed7953\"],[0.7777777777777778,\"#fb9f3a\"],[0.8888888888888888,\"#fdca26\"],[1.0,\"#f0f921\"]],\"type\":\"histogram2d\"}],\"histogram2dcontour\":[{\"colorbar\":{\"outlinewidth\":0,\"ticks\":\"\"},\"colorscale\":[[0.0,\"#0d0887\"],[0.1111111111111111,\"#46039f\"],[0.2222222222222222,\"#7201a8\"],[0.3333333333333333,\"#9c179e\"],[0.4444444444444444,\"#bd3786\"],[0.5555555555555556,\"#d8576b\"],[0.6666666666666666,\"#ed7953\"],[0.7777777777777778,\"#fb9f3a\"],[0.8888888888888888,\"#fdca26\"],[1.0,\"#f0f921\"]],\"type\":\"histogram2dcontour\"}],\"mesh3d\":[{\"colorbar\":{\"outlinewidth\":0,\"ticks\":\"\"},\"type\":\"mesh3d\"}],\"parcoords\":[{\"line\":{\"colorbar\":{\"outlinewidth\":0,\"ticks\":\"\"}},\"type\":\"parcoords\"}],\"pie\":[{\"automargin\":true,\"type\":\"pie\"}],\"scatter\":[{\"marker\":{\"colorbar\":{\"outlinewidth\":0,\"ticks\":\"\"}},\"type\":\"scatter\"}],\"scatter3d\":[{\"line\":{\"colorbar\":{\"outlinewidth\":0,\"ticks\":\"\"}},\"marker\":{\"colorbar\":{\"outlinewidth\":0,\"ticks\":\"\"}},\"type\":\"scatter3d\"}],\"scattercarpet\":[{\"marker\":{\"colorbar\":{\"outlinewidth\":0,\"ticks\":\"\"}},\"type\":\"scattercarpet\"}],\"scattergeo\":[{\"marker\":{\"colorbar\":{\"outlinewidth\":0,\"ticks\":\"\"}},\"type\":\"scattergeo\"}],\"scattergl\":[{\"marker\":{\"colorbar\":{\"outlinewidth\":0,\"ticks\":\"\"}},\"type\":\"scattergl\"}],\"scattermapbox\":[{\"marker\":{\"colorbar\":{\"outlinewidth\":0,\"ticks\":\"\"}},\"type\":\"scattermapbox\"}],\"scatterpolar\":[{\"marker\":{\"colorbar\":{\"outlinewidth\":0,\"ticks\":\"\"}},\"type\":\"scatterpolar\"}],\"scatterpolargl\":[{\"marker\":{\"colorbar\":{\"outlinewidth\":0,\"ticks\":\"\"}},\"type\":\"scatterpolargl\"}],\"scatterternary\":[{\"marker\":{\"colorbar\":{\"outlinewidth\":0,\"ticks\":\"\"}},\"type\":\"scatterternary\"}],\"surface\":[{\"colorbar\":{\"outlinewidth\":0,\"ticks\":\"\"},\"colorscale\":[[0.0,\"#0d0887\"],[0.1111111111111111,\"#46039f\"],[0.2222222222222222,\"#7201a8\"],[0.3333333333333333,\"#9c179e\"],[0.4444444444444444,\"#bd3786\"],[0.5555555555555556,\"#d8576b\"],[0.6666666666666666,\"#ed7953\"],[0.7777777777777778,\"#fb9f3a\"],[0.8888888888888888,\"#fdca26\"],[1.0,\"#f0f921\"]],\"type\":\"surface\"}],\"table\":[{\"cells\":{\"fill\":{\"color\":\"#EBF0F8\"},\"line\":{\"color\":\"white\"}},\"header\":{\"fill\":{\"color\":\"#C8D4E3\"},\"line\":{\"color\":\"white\"}},\"type\":\"table\"}]},\"layout\":{\"annotationdefaults\":{\"arrowcolor\":\"#2a3f5f\",\"arrowhead\":0,\"arrowwidth\":1},\"autotypenumbers\":\"strict\",\"coloraxis\":{\"colorbar\":{\"outlinewidth\":0,\"ticks\":\"\"}},\"colorscale\":{\"diverging\":[[0,\"#8e0152\"],[0.1,\"#c51b7d\"],[0.2,\"#de77ae\"],[0.3,\"#f1b6da\"],[0.4,\"#fde0ef\"],[0.5,\"#f7f7f7\"],[0.6,\"#e6f5d0\"],[0.7,\"#b8e186\"],[0.8,\"#7fbc41\"],[0.9,\"#4d9221\"],[1,\"#276419\"]],\"sequential\":[[0.0,\"#0d0887\"],[0.1111111111111111,\"#46039f\"],[0.2222222222222222,\"#7201a8\"],[0.3333333333333333,\"#9c179e\"],[0.4444444444444444,\"#bd3786\"],[0.5555555555555556,\"#d8576b\"],[0.6666666666666666,\"#ed7953\"],[0.7777777777777778,\"#fb9f3a\"],[0.8888888888888888,\"#fdca26\"],[1.0,\"#f0f921\"]],\"sequentialminus\":[[0.0,\"#0d0887\"],[0.1111111111111111,\"#46039f\"],[0.2222222222222222,\"#7201a8\"],[0.3333333333333333,\"#9c179e\"],[0.4444444444444444,\"#bd3786\"],[0.5555555555555556,\"#d8576b\"],[0.6666666666666666,\"#ed7953\"],[0.7777777777777778,\"#fb9f3a\"],[0.8888888888888888,\"#fdca26\"],[1.0,\"#f0f921\"]]},\"colorway\":[\"#636efa\",\"#EF553B\",\"#00cc96\",\"#ab63fa\",\"#FFA15A\",\"#19d3f3\",\"#FF6692\",\"#B6E880\",\"#FF97FF\",\"#FECB52\"],\"font\":{\"color\":\"#2a3f5f\"},\"geo\":{\"bgcolor\":\"white\",\"lakecolor\":\"white\",\"landcolor\":\"#E5ECF6\",\"showlakes\":true,\"showland\":true,\"subunitcolor\":\"white\"},\"hoverlabel\":{\"align\":\"left\"},\"hovermode\":\"closest\",\"mapbox\":{\"style\":\"light\"},\"paper_bgcolor\":\"white\",\"plot_bgcolor\":\"#E5ECF6\",\"polar\":{\"angularaxis\":{\"gridcolor\":\"white\",\"linecolor\":\"white\",\"ticks\":\"\"},\"bgcolor\":\"#E5ECF6\",\"radialaxis\":{\"gridcolor\":\"white\",\"linecolor\":\"white\",\"ticks\":\"\"}},\"scene\":{\"xaxis\":{\"backgroundcolor\":\"#E5ECF6\",\"gridcolor\":\"white\",\"gridwidth\":2,\"linecolor\":\"white\",\"showbackground\":true,\"ticks\":\"\",\"zerolinecolor\":\"white\"},\"yaxis\":{\"backgroundcolor\":\"#E5ECF6\",\"gridcolor\":\"white\",\"gridwidth\":2,\"linecolor\":\"white\",\"showbackground\":true,\"ticks\":\"\",\"zerolinecolor\":\"white\"},\"zaxis\":{\"backgroundcolor\":\"#E5ECF6\",\"gridcolor\":\"white\",\"gridwidth\":2,\"linecolor\":\"white\",\"showbackground\":true,\"ticks\":\"\",\"zerolinecolor\":\"white\"}},\"shapedefaults\":{\"line\":{\"color\":\"#2a3f5f\"}},\"ternary\":{\"aaxis\":{\"gridcolor\":\"white\",\"linecolor\":\"white\",\"ticks\":\"\"},\"baxis\":{\"gridcolor\":\"white\",\"linecolor\":\"white\",\"ticks\":\"\"},\"bgcolor\":\"#E5ECF6\",\"caxis\":{\"gridcolor\":\"white\",\"linecolor\":\"white\",\"ticks\":\"\"}},\"title\":{\"x\":0.05},\"xaxis\":{\"automargin\":true,\"gridcolor\":\"white\",\"linecolor\":\"white\",\"ticks\":\"\",\"title\":{\"standoff\":15},\"zerolinecolor\":\"white\",\"zerolinewidth\":2},\"yaxis\":{\"automargin\":true,\"gridcolor\":\"white\",\"linecolor\":\"white\",\"ticks\":\"\",\"title\":{\"standoff\":15},\"zerolinecolor\":\"white\",\"zerolinewidth\":2}}}},                        {\"responsive\": true}                    ).then(function(){\n",
       "                            \n",
       "var gd = document.getElementById('f1386692-aee4-4fd5-8e23-305ea3829c2e');\n",
       "var x = new MutationObserver(function (mutations, observer) {{\n",
       "        var display = window.getComputedStyle(gd).display;\n",
       "        if (!display || display === 'none') {{\n",
       "            console.log([gd, 'removed!']);\n",
       "            Plotly.purge(gd);\n",
       "            observer.disconnect();\n",
       "        }}\n",
       "}});\n",
       "\n",
       "// Listen for the removal of the full notebook cells\n",
       "var notebookContainer = gd.closest('#notebook-container');\n",
       "if (notebookContainer) {{\n",
       "    x.observe(notebookContainer, {childList: true});\n",
       "}}\n",
       "\n",
       "// Listen for the clearing of the current output cell\n",
       "var outputEl = gd.closest('.output');\n",
       "if (outputEl) {{\n",
       "    x.observe(outputEl, {childList: true});\n",
       "}}\n",
       "\n",
       "                        })                };                });            </script>        </div>"
      ]
     },
     "metadata": {},
     "output_type": "display_data"
    }
   ],
   "source": [
    "import plotly.express as px\n",
    "\n",
    "fig = px.choropleth(df, locations=\"ISO Code\",\n",
    "                    color=\"Cluster\", \n",
    "                    hover_name=\"Country\",\n",
    "                    color_continuous_scale='Turbo'\n",
    "                    )\n",
    "fig.show()"
   ]
  },
  {
   "cell_type": "markdown",
   "metadata": {},
   "source": [
    "---"
   ]
  }
 ],
 "metadata": {
  "anaconda-cloud": {},
  "kernelspec": {
   "display_name": "Python 3",
   "language": "python",
   "name": "python3"
  },
  "language_info": {
   "codemirror_mode": {
    "name": "ipython",
    "version": 3
   },
   "file_extension": ".py",
   "mimetype": "text/x-python",
   "name": "python",
   "nbconvert_exporter": "python",
   "pygments_lexer": "ipython3",
   "version": "3.8.5"
  }
 },
 "nbformat": 4,
 "nbformat_minor": 4
}
