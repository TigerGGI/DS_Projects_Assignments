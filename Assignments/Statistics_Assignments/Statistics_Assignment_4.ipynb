{
 "cells": [
  {
   "cell_type": "code",
   "execution_count": 70,
   "metadata": {},
   "outputs": [],
   "source": [
    "import random\n",
    "import numpy as np\n",
    "import pandas as pd\n",
    "import scipy.stats as stats\n",
    "import math\n",
    "import seaborn as sns"
   ]
  },
  {
   "cell_type": "markdown",
   "metadata": {},
   "source": [
    "## EXERCISE 1. The hourly wages in a particular industry are normally distributed with mean 13.20 dolar and standard deviation 2.50 dolar. A company in this industry employs 40 workers, paying them an average of 12.20 dolar per hour. Can this company be accused of paying substandard wages? Use an α = .01 level test."
   ]
  },
  {
   "cell_type": "markdown",
   "metadata": {},
   "source": [
    "### *Ho: Wages are standart, Ha: Wages are substandart*"
   ]
  },
  {
   "cell_type": "code",
   "execution_count": 71,
   "metadata": {},
   "outputs": [],
   "source": [
    "mu = 13.20\n",
    "sd = 2.50\n",
    "n = 40\n",
    "x_bar = 12.20\n",
    "alpha = 0.01"
   ]
  },
  {
   "cell_type": "code",
   "execution_count": 72,
   "metadata": {},
   "outputs": [
    {
     "data": {
      "text/plain": [
       "-2.5298221281347035"
      ]
     },
     "execution_count": 72,
     "metadata": {},
     "output_type": "execute_result"
    }
   ],
   "source": [
    "wage_statistic = (x_bar - mu) / (sd/(math.sqrt(n)))\n",
    "wage_statistic"
   ]
  },
  {
   "cell_type": "code",
   "execution_count": 73,
   "metadata": {},
   "outputs": [
    {
     "name": "stdout",
     "output_type": "stream",
     "text": [
      "P Value = 0.0077816812266594355\n",
      "Reject the Null Hypothesis\n"
     ]
    }
   ],
   "source": [
    "p_value1 = stats.t.cdf(wage_statistic, df=n-1)\n",
    "\n",
    "print(f'P Value = {p_value1}')\n",
    "if p_value1 < alpha:\n",
    "    print('Reject the Null Hypothesis')\n",
    "else:\n",
    "    print('Fail to Reject the Null Hypothesis')"
   ]
  },
  {
   "cell_type": "markdown",
   "metadata": {},
   "source": [
    "## EXERCISE 2.Shear strength measurements derived from unconfined compression tests for two types of soils gave the results shown in the following document (measurements in tons per square foot). Do the soils appear to differ with respect to average shear strength, at the 1% significance level?"
   ]
  },
  {
   "cell_type": "markdown",
   "metadata": {},
   "source": [
    "### *Ho: soil1_mean = soil2_mean*\n",
    "### *Ha: soil1_mean != soil2_mean*"
   ]
  },
  {
   "cell_type": "code",
   "execution_count": 74,
   "metadata": {},
   "outputs": [
    {
     "data": {
      "text/html": [
       "<div>\n",
       "<style scoped>\n",
       "    .dataframe tbody tr th:only-of-type {\n",
       "        vertical-align: middle;\n",
       "    }\n",
       "\n",
       "    .dataframe tbody tr th {\n",
       "        vertical-align: top;\n",
       "    }\n",
       "\n",
       "    .dataframe thead th {\n",
       "        text-align: right;\n",
       "    }\n",
       "</style>\n",
       "<table border=\"1\" class=\"dataframe\">\n",
       "  <thead>\n",
       "    <tr style=\"text-align: right;\">\n",
       "      <th></th>\n",
       "      <th>Soil1</th>\n",
       "      <th>Soil2</th>\n",
       "    </tr>\n",
       "  </thead>\n",
       "  <tbody>\n",
       "    <tr>\n",
       "      <th>0</th>\n",
       "      <td>1.442</td>\n",
       "      <td>1.364</td>\n",
       "    </tr>\n",
       "    <tr>\n",
       "      <th>1</th>\n",
       "      <td>1.943</td>\n",
       "      <td>1.878</td>\n",
       "    </tr>\n",
       "    <tr>\n",
       "      <th>2</th>\n",
       "      <td>1.110</td>\n",
       "      <td>1.337</td>\n",
       "    </tr>\n",
       "    <tr>\n",
       "      <th>3</th>\n",
       "      <td>1.912</td>\n",
       "      <td>1.828</td>\n",
       "    </tr>\n",
       "    <tr>\n",
       "      <th>4</th>\n",
       "      <td>1.553</td>\n",
       "      <td>1.371</td>\n",
       "    </tr>\n",
       "  </tbody>\n",
       "</table>\n",
       "</div>"
      ],
      "text/plain": [
       "   Soil1  Soil2\n",
       "0  1.442  1.364\n",
       "1  1.943  1.878\n",
       "2  1.110  1.337\n",
       "3  1.912  1.828\n",
       "4  1.553  1.371"
      ]
     },
     "execution_count": 74,
     "metadata": {},
     "output_type": "execute_result"
    }
   ],
   "source": [
    "s = pd.read_csv(\"soil.csv\")\n",
    "s.head()"
   ]
  },
  {
   "cell_type": "code",
   "execution_count": 75,
   "metadata": {},
   "outputs": [
    {
     "name": "stdout",
     "output_type": "stream",
     "text": [
      "Mean = 1.6918, Std.Dev. = 0.20690284243310084, Size = 30\n"
     ]
    }
   ],
   "source": [
    "print(f\"Mean = {s.Soil1.mean()}, Std.Dev. = {s.Soil1.std()}, Size = {s.Soil1.count()}\")"
   ]
  },
  {
   "cell_type": "code",
   "execution_count": 76,
   "metadata": {},
   "outputs": [
    {
     "name": "stdout",
     "output_type": "stream",
     "text": [
      "Mean = 1.4171142857142858, Std.Dev. = 0.2191842860711146, Size = 35\n"
     ]
    }
   ],
   "source": [
    "print(f\"Mean = {s.Soil2.mean()}, Std.Dev. = {s.Soil2.std()}, Size = {s.Soil2.count()}\")"
   ]
  },
  {
   "cell_type": "code",
   "execution_count": 77,
   "metadata": {},
   "outputs": [],
   "source": [
    "soil1_mean = 1.6918\n",
    "soil1_sd = 0.2069028424\n",
    "soil1_n = 30\n",
    "\n",
    "soil2_mean = 1.417114286\n",
    "soil2_sd = 0.2191842861\n",
    "soil2_n = 35\n",
    "\n",
    "alpha = 0.01"
   ]
  },
  {
   "cell_type": "code",
   "execution_count": 78,
   "metadata": {},
   "outputs": [
    {
     "data": {
      "text/plain": [
       "Ttest_indResult(statistic=5.168147326528748, pvalue=2.5932287849653065e-06)"
      ]
     },
     "execution_count": 78,
     "metadata": {},
     "output_type": "execute_result"
    }
   ],
   "source": [
    "soil = stats.ttest_ind_from_stats(soil1_mean, soil1_sd, soil1_n, soil2_mean, soil2_sd, soil2_n)\n",
    "soil"
   ]
  },
  {
   "cell_type": "code",
   "execution_count": 79,
   "metadata": {},
   "outputs": [
    {
     "data": {
      "text/plain": [
       "2.5932287849653065e-06"
      ]
     },
     "execution_count": 79,
     "metadata": {},
     "output_type": "execute_result"
    }
   ],
   "source": [
    "soil.pvalue"
   ]
  },
  {
   "cell_type": "code",
   "execution_count": 80,
   "metadata": {},
   "outputs": [],
   "source": [
    "soil1 = s[\"Soil1\"].dropna()\n",
    "soil2 = s[\"Soil2\"]"
   ]
  },
  {
   "cell_type": "code",
   "execution_count": 81,
   "metadata": {},
   "outputs": [
    {
     "data": {
      "text/plain": [
       "LeveneResult(statistic=0.3148629298209055, pvalue=0.5767018253541134)"
      ]
     },
     "execution_count": 81,
     "metadata": {},
     "output_type": "execute_result"
    }
   ],
   "source": [
    "stats.levene(soil1,soil2)"
   ]
  },
  {
   "cell_type": "code",
   "execution_count": 82,
   "metadata": {},
   "outputs": [
    {
     "name": "stdout",
     "output_type": "stream",
     "text": [
      "P Value = 2.5932287849653065e-06\n",
      "Reject the Null Hypothesis\n"
     ]
    }
   ],
   "source": [
    "print(f'P Value = {soil.pvalue}')\n",
    "if soil.pvalue < alpha:\n",
    "    print('Reject the Null Hypothesis')\n",
    "else:\n",
    "    print('Fail to Reject the Null Hypothesis')"
   ]
  },
  {
   "cell_type": "markdown",
   "metadata": {},
   "source": [
    "## EXERCISE 3. The following dataset is based on data provided by the World Bank (https://datacatalog.worldbank.org/dataset/education-statistics). World Bank Edstats.  2015 PISA Test Dataset\n",
    "\n",
    "## Get descriptive statistics (the central tendency, dispersion and shape of a dataset’s distribution) for each continent group (AS, EU, AF, NA, SA, OC). Determine whether there is any difference (on the average) for the math scores among European (EU) and Asian (AS) countries (assume normality and equal variances). Draw side-by-side box plots."
   ]
  },
  {
   "cell_type": "code",
   "execution_count": 83,
   "metadata": {},
   "outputs": [
    {
     "data": {
      "text/html": [
       "<div>\n",
       "<style scoped>\n",
       "    .dataframe tbody tr th:only-of-type {\n",
       "        vertical-align: middle;\n",
       "    }\n",
       "\n",
       "    .dataframe tbody tr th {\n",
       "        vertical-align: top;\n",
       "    }\n",
       "\n",
       "    .dataframe thead th {\n",
       "        text-align: right;\n",
       "    }\n",
       "</style>\n",
       "<table border=\"1\" class=\"dataframe\">\n",
       "  <thead>\n",
       "    <tr style=\"text-align: right;\">\n",
       "      <th></th>\n",
       "      <th>Country Code</th>\n",
       "      <th>Continent_Code</th>\n",
       "      <th>internet_users_per_100</th>\n",
       "      <th>Math</th>\n",
       "      <th>Reading</th>\n",
       "      <th>Science</th>\n",
       "    </tr>\n",
       "  </thead>\n",
       "  <tbody>\n",
       "    <tr>\n",
       "      <th>0</th>\n",
       "      <td>ALB</td>\n",
       "      <td>EU</td>\n",
       "      <td>63.252933</td>\n",
       "      <td>413.1570</td>\n",
       "      <td>405.2588</td>\n",
       "      <td>427.2250</td>\n",
       "    </tr>\n",
       "    <tr>\n",
       "      <th>1</th>\n",
       "      <td>ARE</td>\n",
       "      <td>AS</td>\n",
       "      <td>90.500000</td>\n",
       "      <td>427.4827</td>\n",
       "      <td>433.5423</td>\n",
       "      <td>436.7311</td>\n",
       "    </tr>\n",
       "    <tr>\n",
       "      <th>2</th>\n",
       "      <td>ARG</td>\n",
       "      <td>SA</td>\n",
       "      <td>68.043064</td>\n",
       "      <td>409.0333</td>\n",
       "      <td>425.3031</td>\n",
       "      <td>432.2262</td>\n",
       "    </tr>\n",
       "    <tr>\n",
       "      <th>3</th>\n",
       "      <td>AUS</td>\n",
       "      <td>OC</td>\n",
       "      <td>84.560519</td>\n",
       "      <td>493.8962</td>\n",
       "      <td>502.9006</td>\n",
       "      <td>509.9939</td>\n",
       "    </tr>\n",
       "    <tr>\n",
       "      <th>4</th>\n",
       "      <td>AUT</td>\n",
       "      <td>EU</td>\n",
       "      <td>83.940142</td>\n",
       "      <td>496.7423</td>\n",
       "      <td>484.8656</td>\n",
       "      <td>495.0375</td>\n",
       "    </tr>\n",
       "    <tr>\n",
       "      <th>...</th>\n",
       "      <td>...</td>\n",
       "      <td>...</td>\n",
       "      <td>...</td>\n",
       "      <td>...</td>\n",
       "      <td>...</td>\n",
       "      <td>...</td>\n",
       "    </tr>\n",
       "    <tr>\n",
       "      <th>65</th>\n",
       "      <td>TUN</td>\n",
       "      <td>AF</td>\n",
       "      <td>48.519836</td>\n",
       "      <td>366.8180</td>\n",
       "      <td>361.0555</td>\n",
       "      <td>386.4034</td>\n",
       "    </tr>\n",
       "    <tr>\n",
       "      <th>66</th>\n",
       "      <td>TUR</td>\n",
       "      <td>EU</td>\n",
       "      <td>53.744979</td>\n",
       "      <td>420.4540</td>\n",
       "      <td>428.3351</td>\n",
       "      <td>425.4895</td>\n",
       "    </tr>\n",
       "    <tr>\n",
       "      <th>67</th>\n",
       "      <td>URY</td>\n",
       "      <td>SA</td>\n",
       "      <td>64.600000</td>\n",
       "      <td>417.9919</td>\n",
       "      <td>436.5721</td>\n",
       "      <td>435.3630</td>\n",
       "    </tr>\n",
       "    <tr>\n",
       "      <th>68</th>\n",
       "      <td>USA</td>\n",
       "      <td>NaN</td>\n",
       "      <td>74.554202</td>\n",
       "      <td>469.6285</td>\n",
       "      <td>496.9351</td>\n",
       "      <td>496.2424</td>\n",
       "    </tr>\n",
       "    <tr>\n",
       "      <th>69</th>\n",
       "      <td>VNM</td>\n",
       "      <td>AS</td>\n",
       "      <td>43.500000</td>\n",
       "      <td>494.5183</td>\n",
       "      <td>486.7738</td>\n",
       "      <td>524.6445</td>\n",
       "    </tr>\n",
       "  </tbody>\n",
       "</table>\n",
       "<p>70 rows × 6 columns</p>\n",
       "</div>"
      ],
      "text/plain": [
       "   Country Code Continent_Code  internet_users_per_100      Math   Reading  \\\n",
       "0           ALB             EU               63.252933  413.1570  405.2588   \n",
       "1           ARE             AS               90.500000  427.4827  433.5423   \n",
       "2           ARG             SA               68.043064  409.0333  425.3031   \n",
       "3           AUS             OC               84.560519  493.8962  502.9006   \n",
       "4           AUT             EU               83.940142  496.7423  484.8656   \n",
       "..          ...            ...                     ...       ...       ...   \n",
       "65          TUN             AF               48.519836  366.8180  361.0555   \n",
       "66          TUR             EU               53.744979  420.4540  428.3351   \n",
       "67          URY             SA               64.600000  417.9919  436.5721   \n",
       "68          USA            NaN               74.554202  469.6285  496.9351   \n",
       "69          VNM             AS               43.500000  494.5183  486.7738   \n",
       "\n",
       "     Science  \n",
       "0   427.2250  \n",
       "1   436.7311  \n",
       "2   432.2262  \n",
       "3   509.9939  \n",
       "4   495.0375  \n",
       "..       ...  \n",
       "65  386.4034  \n",
       "66  425.4895  \n",
       "67  435.3630  \n",
       "68  496.2424  \n",
       "69  524.6445  \n",
       "\n",
       "[70 rows x 6 columns]"
      ]
     },
     "execution_count": 83,
     "metadata": {},
     "output_type": "execute_result"
    }
   ],
   "source": [
    "wb = pd.read_csv(\"2015 PISA Test.csv\")\n",
    "wb"
   ]
  },
  {
   "cell_type": "code",
   "execution_count": 84,
   "metadata": {},
   "outputs": [
    {
     "data": {
      "text/plain": [
       "EU     37\n",
       "AS     17\n",
       "SA      7\n",
       "NaN     5\n",
       "OC      2\n",
       "AF      2\n",
       "Name: Continent_Code, dtype: int64"
      ]
     },
     "execution_count": 84,
     "metadata": {},
     "output_type": "execute_result"
    }
   ],
   "source": [
    "wb.Continent_Code.value_counts(dropna=False)"
   ]
  },
  {
   "cell_type": "code",
   "execution_count": 85,
   "metadata": {},
   "outputs": [],
   "source": [
    "wb.Continent_Code.fillna(\"NA\", inplace=True)"
   ]
  },
  {
   "cell_type": "code",
   "execution_count": 86,
   "metadata": {},
   "outputs": [
    {
     "data": {
      "text/plain": [
       "EU    37\n",
       "AS    17\n",
       "SA     7\n",
       "NA     5\n",
       "OC     2\n",
       "AF     2\n",
       "Name: Continent_Code, dtype: int64"
      ]
     },
     "execution_count": 86,
     "metadata": {},
     "output_type": "execute_result"
    }
   ],
   "source": [
    "wb.Continent_Code.value_counts(dropna=False)"
   ]
  },
  {
   "cell_type": "code",
   "execution_count": 87,
   "metadata": {},
   "outputs": [
    {
     "data": {
      "text/html": [
       "<div>\n",
       "<style scoped>\n",
       "    .dataframe tbody tr th:only-of-type {\n",
       "        vertical-align: middle;\n",
       "    }\n",
       "\n",
       "    .dataframe tbody tr th {\n",
       "        vertical-align: top;\n",
       "    }\n",
       "\n",
       "    .dataframe thead tr th {\n",
       "        text-align: left;\n",
       "    }\n",
       "\n",
       "    .dataframe thead tr:last-of-type th {\n",
       "        text-align: right;\n",
       "    }\n",
       "</style>\n",
       "<table border=\"1\" class=\"dataframe\">\n",
       "  <thead>\n",
       "    <tr>\n",
       "      <th></th>\n",
       "      <th colspan=\"8\" halign=\"left\">internet_users_per_100</th>\n",
       "      <th colspan=\"2\" halign=\"left\">Math</th>\n",
       "      <th>...</th>\n",
       "      <th colspan=\"2\" halign=\"left\">Reading</th>\n",
       "      <th colspan=\"8\" halign=\"left\">Science</th>\n",
       "    </tr>\n",
       "    <tr>\n",
       "      <th></th>\n",
       "      <th>count</th>\n",
       "      <th>mean</th>\n",
       "      <th>std</th>\n",
       "      <th>min</th>\n",
       "      <th>25%</th>\n",
       "      <th>50%</th>\n",
       "      <th>75%</th>\n",
       "      <th>max</th>\n",
       "      <th>count</th>\n",
       "      <th>mean</th>\n",
       "      <th>...</th>\n",
       "      <th>75%</th>\n",
       "      <th>max</th>\n",
       "      <th>count</th>\n",
       "      <th>mean</th>\n",
       "      <th>std</th>\n",
       "      <th>min</th>\n",
       "      <th>25%</th>\n",
       "      <th>50%</th>\n",
       "      <th>75%</th>\n",
       "      <th>max</th>\n",
       "    </tr>\n",
       "    <tr>\n",
       "      <th>Continent_Code</th>\n",
       "      <th></th>\n",
       "      <th></th>\n",
       "      <th></th>\n",
       "      <th></th>\n",
       "      <th></th>\n",
       "      <th></th>\n",
       "      <th></th>\n",
       "      <th></th>\n",
       "      <th></th>\n",
       "      <th></th>\n",
       "      <th></th>\n",
       "      <th></th>\n",
       "      <th></th>\n",
       "      <th></th>\n",
       "      <th></th>\n",
       "      <th></th>\n",
       "      <th></th>\n",
       "      <th></th>\n",
       "      <th></th>\n",
       "      <th></th>\n",
       "      <th></th>\n",
       "    </tr>\n",
       "  </thead>\n",
       "  <tbody>\n",
       "    <tr>\n",
       "      <th>AF</th>\n",
       "      <td>2.0</td>\n",
       "      <td>43.359918</td>\n",
       "      <td>7.297226</td>\n",
       "      <td>38.200000</td>\n",
       "      <td>40.779959</td>\n",
       "      <td>43.359918</td>\n",
       "      <td>45.939877</td>\n",
       "      <td>48.519836</td>\n",
       "      <td>2.0</td>\n",
       "      <td>363.212100</td>\n",
       "      <td>...</td>\n",
       "      <td>358.256450</td>\n",
       "      <td>361.0555</td>\n",
       "      <td>2.0</td>\n",
       "      <td>381.074250</td>\n",
       "      <td>7.536556</td>\n",
       "      <td>375.7451</td>\n",
       "      <td>378.409675</td>\n",
       "      <td>381.07425</td>\n",
       "      <td>383.738825</td>\n",
       "      <td>386.4034</td>\n",
       "    </tr>\n",
       "    <tr>\n",
       "      <th>AS</th>\n",
       "      <td>17.0</td>\n",
       "      <td>68.455613</td>\n",
       "      <td>21.086060</td>\n",
       "      <td>21.976068</td>\n",
       "      <td>50.300000</td>\n",
       "      <td>74.000000</td>\n",
       "      <td>84.948353</td>\n",
       "      <td>92.884826</td>\n",
       "      <td>17.0</td>\n",
       "      <td>466.216647</td>\n",
       "      <td>...</td>\n",
       "      <td>508.690500</td>\n",
       "      <td>535.1002</td>\n",
       "      <td>17.0</td>\n",
       "      <td>467.945847</td>\n",
       "      <td>56.671371</td>\n",
       "      <td>386.4854</td>\n",
       "      <td>417.611200</td>\n",
       "      <td>456.48360</td>\n",
       "      <td>523.277400</td>\n",
       "      <td>555.5747</td>\n",
       "    </tr>\n",
       "    <tr>\n",
       "      <th>EU</th>\n",
       "      <td>37.0</td>\n",
       "      <td>77.274888</td>\n",
       "      <td>12.425773</td>\n",
       "      <td>53.744979</td>\n",
       "      <td>68.632900</td>\n",
       "      <td>76.184000</td>\n",
       "      <td>87.479056</td>\n",
       "      <td>98.200000</td>\n",
       "      <td>37.0</td>\n",
       "      <td>477.981449</td>\n",
       "      <td>...</td>\n",
       "      <td>499.814600</td>\n",
       "      <td>526.4247</td>\n",
       "      <td>37.0</td>\n",
       "      <td>478.299381</td>\n",
       "      <td>34.450616</td>\n",
       "      <td>383.6824</td>\n",
       "      <td>460.774900</td>\n",
       "      <td>490.22500</td>\n",
       "      <td>501.936900</td>\n",
       "      <td>534.1937</td>\n",
       "    </tr>\n",
       "    <tr>\n",
       "      <th>NA</th>\n",
       "      <td>5.0</td>\n",
       "      <td>66.886792</td>\n",
       "      <td>14.364359</td>\n",
       "      <td>54.215766</td>\n",
       "      <td>57.431043</td>\n",
       "      <td>59.762950</td>\n",
       "      <td>74.554202</td>\n",
       "      <td>88.470000</td>\n",
       "      <td>5.0</td>\n",
       "      <td>424.250960</td>\n",
       "      <td>...</td>\n",
       "      <td>496.935100</td>\n",
       "      <td>526.6678</td>\n",
       "      <td>5.0</td>\n",
       "      <td>438.180760</td>\n",
       "      <td>76.789918</td>\n",
       "      <td>331.6388</td>\n",
       "      <td>415.709900</td>\n",
       "      <td>419.60800</td>\n",
       "      <td>496.242400</td>\n",
       "      <td>527.7047</td>\n",
       "    </tr>\n",
       "    <tr>\n",
       "      <th>OC</th>\n",
       "      <td>2.0</td>\n",
       "      <td>86.391704</td>\n",
       "      <td>2.589686</td>\n",
       "      <td>84.560519</td>\n",
       "      <td>85.476112</td>\n",
       "      <td>86.391704</td>\n",
       "      <td>87.307296</td>\n",
       "      <td>88.222889</td>\n",
       "      <td>2.0</td>\n",
       "      <td>494.559750</td>\n",
       "      <td>...</td>\n",
       "      <td>507.678175</td>\n",
       "      <td>509.2707</td>\n",
       "      <td>2.0</td>\n",
       "      <td>511.648700</td>\n",
       "      <td>2.340241</td>\n",
       "      <td>509.9939</td>\n",
       "      <td>510.821300</td>\n",
       "      <td>511.64870</td>\n",
       "      <td>512.476100</td>\n",
       "      <td>513.3035</td>\n",
       "    </tr>\n",
       "    <tr>\n",
       "      <th>SA</th>\n",
       "      <td>7.0</td>\n",
       "      <td>60.180494</td>\n",
       "      <td>9.772455</td>\n",
       "      <td>40.900000</td>\n",
       "      <td>57.116462</td>\n",
       "      <td>64.289000</td>\n",
       "      <td>66.321532</td>\n",
       "      <td>69.198471</td>\n",
       "      <td>7.0</td>\n",
       "      <td>402.887700</td>\n",
       "      <td>...</td>\n",
       "      <td>431.922700</td>\n",
       "      <td>458.5709</td>\n",
       "      <td>7.0</td>\n",
       "      <td>421.747186</td>\n",
       "      <td>18.470319</td>\n",
       "      <td>396.6836</td>\n",
       "      <td>408.205450</td>\n",
       "      <td>424.59050</td>\n",
       "      <td>433.794600</td>\n",
       "      <td>446.9561</td>\n",
       "    </tr>\n",
       "  </tbody>\n",
       "</table>\n",
       "<p>6 rows × 32 columns</p>\n",
       "</div>"
      ],
      "text/plain": [
       "               internet_users_per_100                                   \\\n",
       "                                count       mean        std        min   \n",
       "Continent_Code                                                           \n",
       "AF                                2.0  43.359918   7.297226  38.200000   \n",
       "AS                               17.0  68.455613  21.086060  21.976068   \n",
       "EU                               37.0  77.274888  12.425773  53.744979   \n",
       "NA                                5.0  66.886792  14.364359  54.215766   \n",
       "OC                                2.0  86.391704   2.589686  84.560519   \n",
       "SA                                7.0  60.180494   9.772455  40.900000   \n",
       "\n",
       "                                                            Math              \\\n",
       "                      25%        50%        75%        max count        mean   \n",
       "Continent_Code                                                                 \n",
       "AF              40.779959  43.359918  45.939877  48.519836   2.0  363.212100   \n",
       "AS              50.300000  74.000000  84.948353  92.884826  17.0  466.216647   \n",
       "EU              68.632900  76.184000  87.479056  98.200000  37.0  477.981449   \n",
       "NA              57.431043  59.762950  74.554202  88.470000   5.0  424.250960   \n",
       "OC              85.476112  86.391704  87.307296  88.222889   2.0  494.559750   \n",
       "SA              57.116462  64.289000  66.321532  69.198471   7.0  402.887700   \n",
       "\n",
       "                ...     Reading           Science                         \\\n",
       "                ...         75%       max   count        mean        std   \n",
       "Continent_Code  ...                                                        \n",
       "AF              ...  358.256450  361.0555     2.0  381.074250   7.536556   \n",
       "AS              ...  508.690500  535.1002    17.0  467.945847  56.671371   \n",
       "EU              ...  499.814600  526.4247    37.0  478.299381  34.450616   \n",
       "NA              ...  496.935100  526.6678     5.0  438.180760  76.789918   \n",
       "OC              ...  507.678175  509.2707     2.0  511.648700   2.340241   \n",
       "SA              ...  431.922700  458.5709     7.0  421.747186  18.470319   \n",
       "\n",
       "                                                                       \n",
       "                     min         25%        50%         75%       max  \n",
       "Continent_Code                                                         \n",
       "AF              375.7451  378.409675  381.07425  383.738825  386.4034  \n",
       "AS              386.4854  417.611200  456.48360  523.277400  555.5747  \n",
       "EU              383.6824  460.774900  490.22500  501.936900  534.1937  \n",
       "NA              331.6388  415.709900  419.60800  496.242400  527.7047  \n",
       "OC              509.9939  510.821300  511.64870  512.476100  513.3035  \n",
       "SA              396.6836  408.205450  424.59050  433.794600  446.9561  \n",
       "\n",
       "[6 rows x 32 columns]"
      ]
     },
     "execution_count": 87,
     "metadata": {},
     "output_type": "execute_result"
    }
   ],
   "source": [
    "wb.groupby(\"Continent_Code\").describe()"
   ]
  },
  {
   "cell_type": "code",
   "execution_count": 88,
   "metadata": {},
   "outputs": [
    {
     "data": {
      "text/html": [
       "<div>\n",
       "<style scoped>\n",
       "    .dataframe tbody tr th:only-of-type {\n",
       "        vertical-align: middle;\n",
       "    }\n",
       "\n",
       "    .dataframe tbody tr th {\n",
       "        vertical-align: top;\n",
       "    }\n",
       "\n",
       "    .dataframe thead tr th {\n",
       "        text-align: left;\n",
       "    }\n",
       "\n",
       "    .dataframe thead tr:last-of-type th {\n",
       "        text-align: right;\n",
       "    }\n",
       "</style>\n",
       "<table border=\"1\" class=\"dataframe\">\n",
       "  <thead>\n",
       "    <tr>\n",
       "      <th></th>\n",
       "      <th colspan=\"4\" halign=\"left\">internet_users_per_100</th>\n",
       "      <th colspan=\"4\" halign=\"left\">Math</th>\n",
       "      <th colspan=\"4\" halign=\"left\">Reading</th>\n",
       "      <th colspan=\"4\" halign=\"left\">Science</th>\n",
       "    </tr>\n",
       "    <tr>\n",
       "      <th></th>\n",
       "      <th>mean</th>\n",
       "      <th>median</th>\n",
       "      <th>std</th>\n",
       "      <th>var</th>\n",
       "      <th>mean</th>\n",
       "      <th>median</th>\n",
       "      <th>std</th>\n",
       "      <th>var</th>\n",
       "      <th>mean</th>\n",
       "      <th>median</th>\n",
       "      <th>std</th>\n",
       "      <th>var</th>\n",
       "      <th>mean</th>\n",
       "      <th>median</th>\n",
       "      <th>std</th>\n",
       "      <th>var</th>\n",
       "    </tr>\n",
       "    <tr>\n",
       "      <th>Continent_Code</th>\n",
       "      <th></th>\n",
       "      <th></th>\n",
       "      <th></th>\n",
       "      <th></th>\n",
       "      <th></th>\n",
       "      <th></th>\n",
       "      <th></th>\n",
       "      <th></th>\n",
       "      <th></th>\n",
       "      <th></th>\n",
       "      <th></th>\n",
       "      <th></th>\n",
       "      <th></th>\n",
       "      <th></th>\n",
       "      <th></th>\n",
       "      <th></th>\n",
       "    </tr>\n",
       "  </thead>\n",
       "  <tbody>\n",
       "    <tr>\n",
       "      <th>AF</th>\n",
       "      <td>43.359918</td>\n",
       "      <td>43.359918</td>\n",
       "      <td>7.297226</td>\n",
       "      <td>53.249507</td>\n",
       "      <td>363.212100</td>\n",
       "      <td>363.21210</td>\n",
       "      <td>5.099513</td>\n",
       "      <td>26.005030</td>\n",
       "      <td>355.457400</td>\n",
       "      <td>355.45740</td>\n",
       "      <td>7.916909</td>\n",
       "      <td>62.677447</td>\n",
       "      <td>381.074250</td>\n",
       "      <td>381.07425</td>\n",
       "      <td>7.536556</td>\n",
       "      <td>56.799679</td>\n",
       "    </tr>\n",
       "    <tr>\n",
       "      <th>AS</th>\n",
       "      <td>68.455613</td>\n",
       "      <td>74.000000</td>\n",
       "      <td>21.086060</td>\n",
       "      <td>444.621918</td>\n",
       "      <td>466.216647</td>\n",
       "      <td>459.81600</td>\n",
       "      <td>64.356490</td>\n",
       "      <td>4141.757822</td>\n",
       "      <td>454.059682</td>\n",
       "      <td>433.54230</td>\n",
       "      <td>57.048962</td>\n",
       "      <td>3254.584049</td>\n",
       "      <td>467.945847</td>\n",
       "      <td>456.48360</td>\n",
       "      <td>56.671371</td>\n",
       "      <td>3211.644321</td>\n",
       "    </tr>\n",
       "    <tr>\n",
       "      <th>EU</th>\n",
       "      <td>77.274888</td>\n",
       "      <td>76.184000</td>\n",
       "      <td>12.425773</td>\n",
       "      <td>154.399841</td>\n",
       "      <td>477.981449</td>\n",
       "      <td>489.72870</td>\n",
       "      <td>35.150403</td>\n",
       "      <td>1235.550805</td>\n",
       "      <td>476.164608</td>\n",
       "      <td>487.25010</td>\n",
       "      <td>37.720545</td>\n",
       "      <td>1422.839540</td>\n",
       "      <td>478.299381</td>\n",
       "      <td>490.22500</td>\n",
       "      <td>34.450616</td>\n",
       "      <td>1186.844969</td>\n",
       "    </tr>\n",
       "    <tr>\n",
       "      <th>NA</th>\n",
       "      <td>66.886792</td>\n",
       "      <td>59.762950</td>\n",
       "      <td>14.364359</td>\n",
       "      <td>206.334814</td>\n",
       "      <td>424.250960</td>\n",
       "      <td>408.02350</td>\n",
       "      <td>71.717058</td>\n",
       "      <td>5143.336351</td>\n",
       "      <td>446.420920</td>\n",
       "      <td>427.48750</td>\n",
       "      <td>66.614744</td>\n",
       "      <td>4437.524053</td>\n",
       "      <td>438.180760</td>\n",
       "      <td>419.60800</td>\n",
       "      <td>76.789918</td>\n",
       "      <td>5896.691519</td>\n",
       "    </tr>\n",
       "    <tr>\n",
       "      <th>OC</th>\n",
       "      <td>86.391704</td>\n",
       "      <td>86.391704</td>\n",
       "      <td>2.589686</td>\n",
       "      <td>6.706475</td>\n",
       "      <td>494.559750</td>\n",
       "      <td>494.55975</td>\n",
       "      <td>0.938401</td>\n",
       "      <td>0.880597</td>\n",
       "      <td>506.085650</td>\n",
       "      <td>506.08565</td>\n",
       "      <td>4.504341</td>\n",
       "      <td>20.289087</td>\n",
       "      <td>511.648700</td>\n",
       "      <td>511.64870</td>\n",
       "      <td>2.340241</td>\n",
       "      <td>5.476726</td>\n",
       "    </tr>\n",
       "    <tr>\n",
       "      <th>SA</th>\n",
       "      <td>60.180494</td>\n",
       "      <td>64.289000</td>\n",
       "      <td>9.772455</td>\n",
       "      <td>95.500869</td>\n",
       "      <td>402.887700</td>\n",
       "      <td>409.03330</td>\n",
       "      <td>18.128894</td>\n",
       "      <td>328.656783</td>\n",
       "      <td>425.359229</td>\n",
       "      <td>425.30310</td>\n",
       "      <td>19.709688</td>\n",
       "      <td>388.471816</td>\n",
       "      <td>421.747186</td>\n",
       "      <td>424.59050</td>\n",
       "      <td>18.470319</td>\n",
       "      <td>341.152678</td>\n",
       "    </tr>\n",
       "  </tbody>\n",
       "</table>\n",
       "</div>"
      ],
      "text/plain": [
       "               internet_users_per_100                                    \\\n",
       "                                 mean     median        std         var   \n",
       "Continent_Code                                                            \n",
       "AF                          43.359918  43.359918   7.297226   53.249507   \n",
       "AS                          68.455613  74.000000  21.086060  444.621918   \n",
       "EU                          77.274888  76.184000  12.425773  154.399841   \n",
       "NA                          66.886792  59.762950  14.364359  206.334814   \n",
       "OC                          86.391704  86.391704   2.589686    6.706475   \n",
       "SA                          60.180494  64.289000   9.772455   95.500869   \n",
       "\n",
       "                      Math                                        Reading  \\\n",
       "                      mean     median        std          var        mean   \n",
       "Continent_Code                                                              \n",
       "AF              363.212100  363.21210   5.099513    26.005030  355.457400   \n",
       "AS              466.216647  459.81600  64.356490  4141.757822  454.059682   \n",
       "EU              477.981449  489.72870  35.150403  1235.550805  476.164608   \n",
       "NA              424.250960  408.02350  71.717058  5143.336351  446.420920   \n",
       "OC              494.559750  494.55975   0.938401     0.880597  506.085650   \n",
       "SA              402.887700  409.03330  18.128894   328.656783  425.359229   \n",
       "\n",
       "                                                      Science             \\\n",
       "                   median        std          var        mean     median   \n",
       "Continent_Code                                                             \n",
       "AF              355.45740   7.916909    62.677447  381.074250  381.07425   \n",
       "AS              433.54230  57.048962  3254.584049  467.945847  456.48360   \n",
       "EU              487.25010  37.720545  1422.839540  478.299381  490.22500   \n",
       "NA              427.48750  66.614744  4437.524053  438.180760  419.60800   \n",
       "OC              506.08565   4.504341    20.289087  511.648700  511.64870   \n",
       "SA              425.30310  19.709688   388.471816  421.747186  424.59050   \n",
       "\n",
       "                                        \n",
       "                      std          var  \n",
       "Continent_Code                          \n",
       "AF               7.536556    56.799679  \n",
       "AS              56.671371  3211.644321  \n",
       "EU              34.450616  1186.844969  \n",
       "NA              76.789918  5896.691519  \n",
       "OC               2.340241     5.476726  \n",
       "SA              18.470319   341.152678  "
      ]
     },
     "execution_count": 88,
     "metadata": {},
     "output_type": "execute_result"
    }
   ],
   "source": [
    "wb.groupby(\"Continent_Code\").aggregate([np.mean, np.median, np.std, np.var])"
   ]
  },
  {
   "cell_type": "code",
   "execution_count": 89,
   "metadata": {},
   "outputs": [
    {
     "data": {
      "text/plain": [
       "477.98144864864867"
      ]
     },
     "execution_count": 89,
     "metadata": {},
     "output_type": "execute_result"
    }
   ],
   "source": [
    "eu_math_mean = wb[wb.Continent_Code==\"EU\"][\"Math\"].mean()\n",
    "eu_math_mean"
   ]
  },
  {
   "cell_type": "code",
   "execution_count": 90,
   "metadata": {},
   "outputs": [
    {
     "data": {
      "text/plain": [
       "466.2166470588236"
      ]
     },
     "execution_count": 90,
     "metadata": {},
     "output_type": "execute_result"
    }
   ],
   "source": [
    "as_math_mean = wb[wb.Continent_Code==\"AS\"][\"Math\"].mean()\n",
    "as_math_mean"
   ]
  },
  {
   "cell_type": "code",
   "execution_count": 91,
   "metadata": {},
   "outputs": [],
   "source": [
    "eu_math = wb[wb.Continent_Code==\"EU\"][\"Math\"]"
   ]
  },
  {
   "cell_type": "code",
   "execution_count": 92,
   "metadata": {},
   "outputs": [],
   "source": [
    "as_math = wb[wb.Continent_Code==\"AS\"][\"Math\"]"
   ]
  },
  {
   "cell_type": "code",
   "execution_count": 93,
   "metadata": {},
   "outputs": [],
   "source": [
    "wb[\"AS_MATH\"] = wb[wb.Continent_Code==\"AS\"][\"Math\"]"
   ]
  },
  {
   "cell_type": "code",
   "execution_count": 94,
   "metadata": {},
   "outputs": [],
   "source": [
    "wb[\"EU_MATH\"] = wb[wb.Continent_Code==\"EU\"][\"Math\"]"
   ]
  },
  {
   "cell_type": "code",
   "execution_count": 95,
   "metadata": {},
   "outputs": [
    {
     "data": {
      "text/html": [
       "<div>\n",
       "<style scoped>\n",
       "    .dataframe tbody tr th:only-of-type {\n",
       "        vertical-align: middle;\n",
       "    }\n",
       "\n",
       "    .dataframe tbody tr th {\n",
       "        vertical-align: top;\n",
       "    }\n",
       "\n",
       "    .dataframe thead th {\n",
       "        text-align: right;\n",
       "    }\n",
       "</style>\n",
       "<table border=\"1\" class=\"dataframe\">\n",
       "  <thead>\n",
       "    <tr style=\"text-align: right;\">\n",
       "      <th></th>\n",
       "      <th>Country Code</th>\n",
       "      <th>Continent_Code</th>\n",
       "      <th>internet_users_per_100</th>\n",
       "      <th>Math</th>\n",
       "      <th>Reading</th>\n",
       "      <th>Science</th>\n",
       "      <th>AS_MATH</th>\n",
       "      <th>EU_MATH</th>\n",
       "    </tr>\n",
       "  </thead>\n",
       "  <tbody>\n",
       "    <tr>\n",
       "      <th>0</th>\n",
       "      <td>ALB</td>\n",
       "      <td>EU</td>\n",
       "      <td>63.252933</td>\n",
       "      <td>413.1570</td>\n",
       "      <td>405.2588</td>\n",
       "      <td>427.2250</td>\n",
       "      <td>NaN</td>\n",
       "      <td>413.1570</td>\n",
       "    </tr>\n",
       "    <tr>\n",
       "      <th>1</th>\n",
       "      <td>ARE</td>\n",
       "      <td>AS</td>\n",
       "      <td>90.500000</td>\n",
       "      <td>427.4827</td>\n",
       "      <td>433.5423</td>\n",
       "      <td>436.7311</td>\n",
       "      <td>427.4827</td>\n",
       "      <td>NaN</td>\n",
       "    </tr>\n",
       "    <tr>\n",
       "      <th>2</th>\n",
       "      <td>ARG</td>\n",
       "      <td>SA</td>\n",
       "      <td>68.043064</td>\n",
       "      <td>409.0333</td>\n",
       "      <td>425.3031</td>\n",
       "      <td>432.2262</td>\n",
       "      <td>NaN</td>\n",
       "      <td>NaN</td>\n",
       "    </tr>\n",
       "    <tr>\n",
       "      <th>3</th>\n",
       "      <td>AUS</td>\n",
       "      <td>OC</td>\n",
       "      <td>84.560519</td>\n",
       "      <td>493.8962</td>\n",
       "      <td>502.9006</td>\n",
       "      <td>509.9939</td>\n",
       "      <td>NaN</td>\n",
       "      <td>NaN</td>\n",
       "    </tr>\n",
       "    <tr>\n",
       "      <th>4</th>\n",
       "      <td>AUT</td>\n",
       "      <td>EU</td>\n",
       "      <td>83.940142</td>\n",
       "      <td>496.7423</td>\n",
       "      <td>484.8656</td>\n",
       "      <td>495.0375</td>\n",
       "      <td>NaN</td>\n",
       "      <td>496.7423</td>\n",
       "    </tr>\n",
       "    <tr>\n",
       "      <th>...</th>\n",
       "      <td>...</td>\n",
       "      <td>...</td>\n",
       "      <td>...</td>\n",
       "      <td>...</td>\n",
       "      <td>...</td>\n",
       "      <td>...</td>\n",
       "      <td>...</td>\n",
       "      <td>...</td>\n",
       "    </tr>\n",
       "    <tr>\n",
       "      <th>65</th>\n",
       "      <td>TUN</td>\n",
       "      <td>AF</td>\n",
       "      <td>48.519836</td>\n",
       "      <td>366.8180</td>\n",
       "      <td>361.0555</td>\n",
       "      <td>386.4034</td>\n",
       "      <td>NaN</td>\n",
       "      <td>NaN</td>\n",
       "    </tr>\n",
       "    <tr>\n",
       "      <th>66</th>\n",
       "      <td>TUR</td>\n",
       "      <td>EU</td>\n",
       "      <td>53.744979</td>\n",
       "      <td>420.4540</td>\n",
       "      <td>428.3351</td>\n",
       "      <td>425.4895</td>\n",
       "      <td>NaN</td>\n",
       "      <td>420.4540</td>\n",
       "    </tr>\n",
       "    <tr>\n",
       "      <th>67</th>\n",
       "      <td>URY</td>\n",
       "      <td>SA</td>\n",
       "      <td>64.600000</td>\n",
       "      <td>417.9919</td>\n",
       "      <td>436.5721</td>\n",
       "      <td>435.3630</td>\n",
       "      <td>NaN</td>\n",
       "      <td>NaN</td>\n",
       "    </tr>\n",
       "    <tr>\n",
       "      <th>68</th>\n",
       "      <td>USA</td>\n",
       "      <td>NA</td>\n",
       "      <td>74.554202</td>\n",
       "      <td>469.6285</td>\n",
       "      <td>496.9351</td>\n",
       "      <td>496.2424</td>\n",
       "      <td>NaN</td>\n",
       "      <td>NaN</td>\n",
       "    </tr>\n",
       "    <tr>\n",
       "      <th>69</th>\n",
       "      <td>VNM</td>\n",
       "      <td>AS</td>\n",
       "      <td>43.500000</td>\n",
       "      <td>494.5183</td>\n",
       "      <td>486.7738</td>\n",
       "      <td>524.6445</td>\n",
       "      <td>494.5183</td>\n",
       "      <td>NaN</td>\n",
       "    </tr>\n",
       "  </tbody>\n",
       "</table>\n",
       "<p>70 rows × 8 columns</p>\n",
       "</div>"
      ],
      "text/plain": [
       "   Country Code Continent_Code  internet_users_per_100      Math   Reading  \\\n",
       "0           ALB             EU               63.252933  413.1570  405.2588   \n",
       "1           ARE             AS               90.500000  427.4827  433.5423   \n",
       "2           ARG             SA               68.043064  409.0333  425.3031   \n",
       "3           AUS             OC               84.560519  493.8962  502.9006   \n",
       "4           AUT             EU               83.940142  496.7423  484.8656   \n",
       "..          ...            ...                     ...       ...       ...   \n",
       "65          TUN             AF               48.519836  366.8180  361.0555   \n",
       "66          TUR             EU               53.744979  420.4540  428.3351   \n",
       "67          URY             SA               64.600000  417.9919  436.5721   \n",
       "68          USA             NA               74.554202  469.6285  496.9351   \n",
       "69          VNM             AS               43.500000  494.5183  486.7738   \n",
       "\n",
       "     Science   AS_MATH   EU_MATH  \n",
       "0   427.2250       NaN  413.1570  \n",
       "1   436.7311  427.4827       NaN  \n",
       "2   432.2262       NaN       NaN  \n",
       "3   509.9939       NaN       NaN  \n",
       "4   495.0375       NaN  496.7423  \n",
       "..       ...       ...       ...  \n",
       "65  386.4034       NaN       NaN  \n",
       "66  425.4895       NaN  420.4540  \n",
       "67  435.3630       NaN       NaN  \n",
       "68  496.2424       NaN       NaN  \n",
       "69  524.6445  494.5183       NaN  \n",
       "\n",
       "[70 rows x 8 columns]"
      ]
     },
     "execution_count": 95,
     "metadata": {},
     "output_type": "execute_result"
    }
   ],
   "source": [
    "wb"
   ]
  },
  {
   "cell_type": "code",
   "execution_count": 96,
   "metadata": {},
   "outputs": [
    {
     "data": {
      "text/html": [
       "<div>\n",
       "<style scoped>\n",
       "    .dataframe tbody tr th:only-of-type {\n",
       "        vertical-align: middle;\n",
       "    }\n",
       "\n",
       "    .dataframe tbody tr th {\n",
       "        vertical-align: top;\n",
       "    }\n",
       "\n",
       "    .dataframe thead th {\n",
       "        text-align: right;\n",
       "    }\n",
       "</style>\n",
       "<table border=\"1\" class=\"dataframe\">\n",
       "  <thead>\n",
       "    <tr style=\"text-align: right;\">\n",
       "      <th></th>\n",
       "      <th>EU_MATH</th>\n",
       "      <th>AS_MATH</th>\n",
       "    </tr>\n",
       "  </thead>\n",
       "  <tbody>\n",
       "    <tr>\n",
       "      <th>count</th>\n",
       "      <td>37.000000</td>\n",
       "      <td>17.000000</td>\n",
       "    </tr>\n",
       "    <tr>\n",
       "      <th>mean</th>\n",
       "      <td>477.981449</td>\n",
       "      <td>466.216647</td>\n",
       "    </tr>\n",
       "    <tr>\n",
       "      <th>std</th>\n",
       "      <td>35.150403</td>\n",
       "      <td>64.356490</td>\n",
       "    </tr>\n",
       "    <tr>\n",
       "      <th>min</th>\n",
       "      <td>371.311400</td>\n",
       "      <td>380.259000</td>\n",
       "    </tr>\n",
       "    <tr>\n",
       "      <th>25%</th>\n",
       "      <td>464.040100</td>\n",
       "      <td>403.833200</td>\n",
       "    </tr>\n",
       "    <tr>\n",
       "      <th>50%</th>\n",
       "      <td>489.728700</td>\n",
       "      <td>459.816000</td>\n",
       "    </tr>\n",
       "    <tr>\n",
       "      <th>75%</th>\n",
       "      <td>503.722000</td>\n",
       "      <td>531.296100</td>\n",
       "    </tr>\n",
       "    <tr>\n",
       "      <th>max</th>\n",
       "      <td>521.250600</td>\n",
       "      <td>564.189700</td>\n",
       "    </tr>\n",
       "  </tbody>\n",
       "</table>\n",
       "</div>"
      ],
      "text/plain": [
       "          EU_MATH     AS_MATH\n",
       "count   37.000000   17.000000\n",
       "mean   477.981449  466.216647\n",
       "std     35.150403   64.356490\n",
       "min    371.311400  380.259000\n",
       "25%    464.040100  403.833200\n",
       "50%    489.728700  459.816000\n",
       "75%    503.722000  531.296100\n",
       "max    521.250600  564.189700"
      ]
     },
     "execution_count": 96,
     "metadata": {},
     "output_type": "execute_result"
    }
   ],
   "source": [
    "wb.describe()[['EU_MATH', 'AS_MATH']]"
   ]
  },
  {
   "cell_type": "code",
   "execution_count": 97,
   "metadata": {},
   "outputs": [],
   "source": [
    "stat1, p1 = stats.shapiro(eu_math)"
   ]
  },
  {
   "cell_type": "code",
   "execution_count": 98,
   "metadata": {},
   "outputs": [
    {
     "name": "stdout",
     "output_type": "stream",
     "text": [
      "Statistics=0.873, p=0.001\n",
      "Sample does not look Gaussian (reject H0)\n"
     ]
    }
   ],
   "source": [
    "print('Statistics=%.3f, p=%.3f' % (stat1, p1))\n",
    "\n",
    "alpha = 0.05\n",
    "if p1 > alpha:\n",
    "    print('Sample looks Gaussian (fail to reject H0)')\n",
    "else:\n",
    "    print('Sample does not look Gaussian (reject H0)')"
   ]
  },
  {
   "cell_type": "code",
   "execution_count": 99,
   "metadata": {},
   "outputs": [],
   "source": [
    "stat2, p2 = stats.shapiro(as_math)"
   ]
  },
  {
   "cell_type": "code",
   "execution_count": 100,
   "metadata": {},
   "outputs": [
    {
     "name": "stdout",
     "output_type": "stream",
     "text": [
      "Statistics=0.905, p=0.081\n",
      "Sample looks Gaussian (fail to reject H0)\n"
     ]
    }
   ],
   "source": [
    "print('Statistics=%.3f, p=%.3f' % (stat2, p2))\n",
    "\n",
    "alpha = 0.05\n",
    "if p2 > alpha:\n",
    "    print('Sample looks Gaussian (fail to reject H0)')\n",
    "else:\n",
    "    print('Sample does not look Gaussian (reject H0)')"
   ]
  },
  {
   "cell_type": "code",
   "execution_count": 101,
   "metadata": {},
   "outputs": [
    {
     "data": {
      "text/plain": [
       "LeveneResult(statistic=14.300030628780673, pvalue=0.0004037413184451079)"
      ]
     },
     "execution_count": 101,
     "metadata": {},
     "output_type": "execute_result"
    }
   ],
   "source": [
    "stats.levene(eu_math, as_math)"
   ]
  },
  {
   "cell_type": "code",
   "execution_count": 102,
   "metadata": {},
   "outputs": [
    {
     "data": {
      "image/png": "[encoded data removed]",
      "text/plain": [
       "<Figure size 432x288 with 1 Axes>"
      ]
     },
     "metadata": {
      "needs_background": "light"
     },
     "output_type": "display_data"
    }
   ],
   "source": [
    "wb.EU_MATH.plot.density();"
   ]
  },
  {
   "cell_type": "code",
   "execution_count": 103,
   "metadata": {},
   "outputs": [
    {
     "data": {
      "image/png": "[encoded data removed]",
      "text/plain": [
       "<Figure size 432x288 with 1 Axes>"
      ]
     },
     "metadata": {
      "needs_background": "light"
     },
     "output_type": "display_data"
    }
   ],
   "source": [
    "wb.AS_MATH.plot.density();"
   ]
  },
  {
   "cell_type": "code",
   "execution_count": 104,
   "metadata": {},
   "outputs": [
    {
     "data": {
      "image/png": "[encoded data removed]",
      "text/plain": [
       "<Figure size 432x288 with 1 Axes>"
      ]
     },
     "metadata": {
      "needs_background": "light"
     },
     "output_type": "display_data"
    }
   ],
   "source": [
    "wb.boxplot(column=['EU_MATH', 'AS_MATH']);"
   ]
  },
  {
   "cell_type": "code",
   "execution_count": 105,
   "metadata": {},
   "outputs": [
    {
     "data": {
      "application/javascript": [
       "\n",
       "        if (window._pyforest_update_imports_cell) { window._pyforest_update_imports_cell('import matplotlib.pyplot as plt'); }\n",
       "    "
      ],
      "text/plain": [
       "<IPython.core.display.Javascript object>"
      ]
     },
     "metadata": {},
     "output_type": "display_data"
    },
    {
     "data": {
      "application/javascript": [
       "\n",
       "        if (window._pyforest_update_imports_cell) { window._pyforest_update_imports_cell('import matplotlib.pyplot as plt'); }\n",
       "    "
      ],
      "text/plain": [
       "<IPython.core.display.Javascript object>"
      ]
     },
     "metadata": {},
     "output_type": "display_data"
    },
    {
     "data": {
      "image/png": "[encoded data removed]",
      "text/plain": [
       "<Figure size 400x500 with 1 Axes>"
      ]
     },
     "metadata": {
      "needs_background": "light"
     },
     "output_type": "display_data"
    }
   ],
   "source": [
    "df = pd.DataFrame(data=wb, columns=['EU_MATH', 'AS_MATH'])\n",
    "\n",
    "plt.figure(figsize=(4,5), dpi=100)\n",
    "sns.boxplot(x=\"variable\", y=\"value\", data=pd.melt(df))\n",
    "plt.show()"
   ]
  }
 ],
 "metadata": {
  "kernelspec": {
   "display_name": "Python 3",
   "language": "python",
   "name": "python3"
  },
  "language_info": {
   "codemirror_mode": {
    "name": "ipython",
    "version": 3
   },
   "file_extension": ".py",
   "mimetype": "text/x-python",
   "name": "python",
   "nbconvert_exporter": "python",
   "pygments_lexer": "ipython3",
   "version": "3.8.5"
  }
 },
 "nbformat": 4,
 "nbformat_minor": 4
}
